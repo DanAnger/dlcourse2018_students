{
 "cells": [
  {
   "cell_type": "markdown",
   "metadata": {},
   "source": [
    "# Python implementation of Logistic Regression from scratch"
   ]
  },
  {
   "cell_type": "markdown",
   "metadata": {},
   "source": [
    "_Umberto Michelucci, um@udata.science_"
   ]
  },
  {
   "cell_type": "markdown",
   "metadata": {},
   "source": [
    "### Abstract"
   ]
  },
  {
   "cell_type": "markdown",
   "metadata": {},
   "source": [
    "In this notebook I develop a complete version of Logistic Regression from scratch, without using any library (except numpy). I apply the model to a subset of MNIST data containing only the digits 1 and 2 (see the data preparation part to see how to do it) to do binary classification. For the equations and the mathematics behind the python code you can refer (to this notebook)[http://localhost:8888/notebooks/Documents/Data%20Science/Projects/Logistic-Regression-Explained/Logistic%20Regression%20from%20scratch.ipynb#] where I did a complete derivation of the mathematics behind the model. The relevant equations are reported here to make it easier for the reader to follow the code."
   ]
  },
  {
   "cell_type": "markdown",
   "metadata": {},
   "source": [
    "**NOTE**: the formulas are not explained or derived and are reported only to help the reader follow the Python code. For a derivation and justification please refer to the notebook above."
   ]
  },
  {
   "cell_type": "markdown",
   "metadata": {},
   "source": [
    "## Libraries"
   ]
  },
  {
   "cell_type": "code",
   "execution_count": 97,
   "metadata": {},
   "outputs": [],
   "source": [
    "import numpy as np\n",
    "from sklearn.datasets import fetch_mldata\n",
    "\n",
    "%matplotlib inline\n",
    "\n",
    "import matplotlib\n",
    "import matplotlib.pyplot as plt\n",
    "\n",
    "from random import *"
   ]
  },
  {
   "cell_type": "markdown",
   "metadata": {},
   "source": [
    "## Data preparation"
   ]
  },
  {
   "cell_type": "markdown",
   "metadata": {},
   "source": [
    "To get MNIST data we use the function fetch_mldata, in the datasets package. Let's get all the dataset, and then we will select only the digits we want."
   ]
  },
  {
   "cell_type": "code",
   "execution_count": 98,
   "metadata": {},
   "outputs": [
    {
     "data": {
      "text/plain": [
       "{'COL_NAMES': ['label', 'data'],\n",
       " 'DESCR': 'mldata.org dataset: mnist-original',\n",
       " 'data': array([[0, 0, 0, ..., 0, 0, 0],\n",
       "        [0, 0, 0, ..., 0, 0, 0],\n",
       "        [0, 0, 0, ..., 0, 0, 0],\n",
       "        ..., \n",
       "        [0, 0, 0, ..., 0, 0, 0],\n",
       "        [0, 0, 0, ..., 0, 0, 0],\n",
       "        [0, 0, 0, ..., 0, 0, 0]], dtype=uint8),\n",
       " 'target': array([ 0.,  0.,  0., ...,  9.,  9.,  9.])}"
      ]
     },
     "execution_count": 98,
     "metadata": {},
     "output_type": "execute_result"
    }
   ],
   "source": [
    "mnist = fetch_mldata('MNIST original')\n",
    "mnist"
   ]
  },
  {
   "cell_type": "code",
   "execution_count": 99,
   "metadata": {},
   "outputs": [],
   "source": [
    "Xinput_,yinput_ = mnist[\"data\"], mnist[\"target\"]"
   ]
  },
  {
   "cell_type": "code",
   "execution_count": 100,
   "metadata": {},
   "outputs": [
    {
     "data": {
      "text/plain": [
       "(70000, 784)"
      ]
     },
     "execution_count": 100,
     "metadata": {},
     "output_type": "execute_result"
    }
   ],
   "source": [
    "Xinput_.shape"
   ]
  },
  {
   "cell_type": "code",
   "execution_count": 101,
   "metadata": {},
   "outputs": [
    {
     "data": {
      "text/plain": [
       "(70000,)"
      ]
     },
     "execution_count": 101,
     "metadata": {},
     "output_type": "execute_result"
    }
   ],
   "source": [
    "yinput_.shape"
   ]
  },
  {
   "cell_type": "markdown",
   "metadata": {},
   "source": [
    "To know how many digits we have we can run this simple code"
   ]
  },
  {
   "cell_type": "code",
   "execution_count": 102,
   "metadata": {},
   "outputs": [
    {
     "name": "stdout",
     "output_type": "stream",
     "text": [
      "digit 0 appear 6903 times\n",
      "digit 1 appear 7877 times\n",
      "digit 2 appear 6990 times\n",
      "digit 3 appear 7141 times\n",
      "digit 4 appear 6824 times\n",
      "digit 5 appear 6313 times\n",
      "digit 6 appear 6876 times\n",
      "digit 7 appear 7293 times\n",
      "digit 8 appear 6825 times\n",
      "digit 9 appear 6958 times\n"
     ]
    }
   ],
   "source": [
    "total = 0\n",
    "for i in range(10):\n",
    "    print (\"digit\", i, \"appear\", np.count_nonzero(yinput_ == i), \"times\")"
   ]
  },
  {
   "cell_type": "code",
   "execution_count": 275,
   "metadata": {},
   "outputs": [
    {
     "name": "stdout",
     "output_type": "stream",
     "text": [
      "digit 0 makes 9.9 % of the 70000 observations\n",
      "digit 1 makes 11.3 % of the 70000 observations\n"
     ]
    }
   ],
   "source": [
    "total = 0\n",
    "for i in range(2):\n",
    "    print (\"digit\", i, \"makes\", np.around(np.count_nonzero(yinput_ == i)/70000.0*100.0, decimals=1), \"% of the 70000 observations\")"
   ]
  },
  {
   "cell_type": "markdown",
   "metadata": {},
   "source": [
    "# k-fold dataset creation"
   ]
  },
  {
   "cell_type": "code",
   "execution_count": 103,
   "metadata": {},
   "outputs": [],
   "source": [
    "Xinput = Xinput_[np.any([yinput_ == 1,yinput_ == 2], axis = 0)]\n",
    "yinput = yinput_[np.any([yinput_ == 1,yinput_ == 2], axis = 0)]"
   ]
  },
  {
   "cell_type": "code",
   "execution_count": 104,
   "metadata": {},
   "outputs": [],
   "source": [
    "yinput = yinput - 1"
   ]
  },
  {
   "cell_type": "code",
   "execution_count": 105,
   "metadata": {},
   "outputs": [
    {
     "name": "stdout",
     "output_type": "stream",
     "text": [
      "Label 0 makes 53.0 % of the 14867 observations\n",
      "Label 1 makes 47.0 % of the 14867 observations\n"
     ]
    }
   ],
   "source": [
    "total = 0\n",
    "for i in range(0,2,1):\n",
    "    print (\"Label\", i, \"makes\", np.around(np.count_nonzero(yinput == i)/14867.0*100.0, decimals=1), \"% of the 14867 observations\")"
   ]
  },
  {
   "cell_type": "markdown",
   "metadata": {},
   "source": [
    "We need to remove 3 observations to make the division by 10 (for the folds) easier"
   ]
  },
  {
   "cell_type": "code",
   "execution_count": 106,
   "metadata": {},
   "outputs": [],
   "source": [
    "Xinput = Xinput[:-7,:]\n",
    "yinput = yinput[:-7]"
   ]
  },
  {
   "cell_type": "code",
   "execution_count": 107,
   "metadata": {},
   "outputs": [
    {
     "data": {
      "text/plain": [
       "14860"
      ]
     },
     "execution_count": 107,
     "metadata": {},
     "output_type": "execute_result"
    }
   ],
   "source": [
    "(Xinput.shape[0])"
   ]
  },
  {
   "cell_type": "code",
   "execution_count": 108,
   "metadata": {},
   "outputs": [
    {
     "data": {
      "image/png": "[encoded data removed]",
      "text/plain": [
       "<matplotlib.figure.Figure at 0x1a2ac8a6128>"
      ]
     },
     "metadata": {},
     "output_type": "display_data"
    }
   ],
   "source": [
    "some_digit = Xinput[8999,:]\n",
    "\n",
    "some_digit_image = some_digit.reshape(28,28)\n",
    "\n",
    "plt.imshow(some_digit_image, cmap = matplotlib.cm.binary, interpolation = \"nearest\")\n",
    "plt.axis(\"off\")\n",
    "plt.show()"
   ]
  },
  {
   "cell_type": "code",
   "execution_count": 109,
   "metadata": {},
   "outputs": [
    {
     "name": "stdout",
     "output_type": "stream",
     "text": [
      "Number of folds: 10\n",
      "Number of elements in each fold: 1486\n"
     ]
    }
   ],
   "source": [
    "foldnumber = 10\n",
    "idx = np.arange(0,Xinput.shape[0])\n",
    "np.random.shuffle(idx)\n",
    "al = np.array_split(idx,foldnumber)\n",
    "\n",
    "print('Number of folds:',len(al))\n",
    "print('Number of elements in each fold:',len(al[9]))"
   ]
  },
  {
   "cell_type": "code",
   "execution_count": 110,
   "metadata": {},
   "outputs": [
    {
     "name": "stdout",
     "output_type": "stream",
     "text": [
      "(14860, 784)\n",
      "(14860,)\n"
     ]
    }
   ],
   "source": [
    "print(Xinput.shape)\n",
    "print(yinput.shape)"
   ]
  },
  {
   "cell_type": "code",
   "execution_count": 111,
   "metadata": {},
   "outputs": [
    {
     "data": {
      "text/plain": [
       "(1486, 784)"
      ]
     },
     "execution_count": 111,
     "metadata": {},
     "output_type": "execute_result"
    }
   ],
   "source": [
    "Xinput[al[9],:].shape"
   ]
  },
  {
   "cell_type": "code",
   "execution_count": 112,
   "metadata": {},
   "outputs": [],
   "source": [
    "Xinputfold = []\n",
    "yinputfold = []\n",
    "for i in range(foldnumber):\n",
    "    tmp = Xinput[al[i],:]\n",
    "    Xinputfold.append(tmp)\n",
    "    ytmp = yinput[al[i]]\n",
    "    yinputfold.append(ytmp)\n",
    "\n",
    "    \n",
    "Xinputfold = np.asarray(Xinputfold)\n",
    "yinputfold = np.asarray(yinputfold)"
   ]
  },
  {
   "cell_type": "code",
   "execution_count": 113,
   "metadata": {},
   "outputs": [
    {
     "name": "stdout",
     "output_type": "stream",
     "text": [
      "(10, 1486, 784)\n",
      "(10, 1486)\n"
     ]
    }
   ],
   "source": [
    "print(Xinputfold.shape)\n",
    "print(yinputfold.shape)"
   ]
  },
  {
   "cell_type": "code",
   "execution_count": 114,
   "metadata": {},
   "outputs": [
    {
     "data": {
      "image/png": "[encoded data removed]",
      "text/plain": [
       "<matplotlib.figure.Figure at 0x1a2ac8eca58>"
      ]
     },
     "metadata": {},
     "output_type": "display_data"
    }
   ],
   "source": [
    "some_digit = Xinputfold[0][1234,:]\n",
    "\n",
    "some_digit_image = some_digit.reshape(28,28)\n",
    "\n",
    "plt.imshow(some_digit_image, cmap = matplotlib.cm.binary, interpolation = \"nearest\")\n",
    "plt.axis(\"off\")\n",
    "plt.show()"
   ]
  },
  {
   "cell_type": "code",
   "execution_count": 115,
   "metadata": {},
   "outputs": [
    {
     "name": "stdout",
     "output_type": "stream",
     "text": [
      "digit 0 makes 52.2 % of the 1486 observations\n",
      "digit 1 makes 47.8 % of the 1486 observations\n"
     ]
    }
   ],
   "source": [
    "total = 0\n",
    "for i in range(0,2,1):\n",
    "    print (\"digit\", i, \"makes\", np.around(np.count_nonzero(yinputfold[0] == i)/1486.0*100.0, decimals=1), \"% of the 1486 observations\")"
   ]
  },
  {
   "cell_type": "markdown",
   "metadata": {},
   "source": [
    "## Data normalization and preparation"
   ]
  },
  {
   "cell_type": "code",
   "execution_count": 116,
   "metadata": {},
   "outputs": [],
   "source": [
    "Xinputfold_normalized = np.zeros_like(Xinputfold, dtype = float)\n",
    "for i in range (foldnumber):\n",
    "    Xinputfold_normalized[i] = Xinputfold[i]/255.0"
   ]
  },
  {
   "cell_type": "code",
   "execution_count": 117,
   "metadata": {},
   "outputs": [],
   "source": [
    "X_train = []\n",
    "y_train = []\n",
    "for i in range(foldnumber):\n",
    "    tmp = Xinputfold_normalized[i].transpose()\n",
    "    ytmp = yinputfold[i].reshape(1,yinputfold[i].shape[0])\n",
    "    X_train.append(tmp)\n",
    "    y_train.append(ytmp)\n",
    "    \n",
    "X_train = np.asarray(X_train)\n",
    "y_train = np.asarray(y_train)"
   ]
  },
  {
   "cell_type": "code",
   "execution_count": 118,
   "metadata": {},
   "outputs": [
    {
     "name": "stdout",
     "output_type": "stream",
     "text": [
      "(10, 784, 1486)\n",
      "(10, 1, 1486)\n"
     ]
    }
   ],
   "source": [
    "print(X_train.shape)\n",
    "print(y_train.shape)"
   ]
  },
  {
   "cell_type": "code",
   "execution_count": 119,
   "metadata": {},
   "outputs": [
    {
     "data": {
      "text/plain": [
       "(784, 1486)"
      ]
     },
     "execution_count": 119,
     "metadata": {},
     "output_type": "execute_result"
    }
   ],
   "source": [
    "X_train[0].shape"
   ]
  },
  {
   "cell_type": "markdown",
   "metadata": {},
   "source": [
    "\n",
    "### Checks"
   ]
  },
  {
   "cell_type": "code",
   "execution_count": 120,
   "metadata": {},
   "outputs": [
    {
     "data": {
      "image/png": "[encoded data removed]",
      "text/plain": [
       "<matplotlib.figure.Figure at 0x1a2ac8ec358>"
      ]
     },
     "metadata": {},
     "output_type": "display_data"
    }
   ],
   "source": [
    "some_digit = X_train[0][:,10]\n",
    "\n",
    "some_digit_image = some_digit.reshape(28,28)\n",
    "\n",
    "plt.imshow(some_digit_image, cmap = matplotlib.cm.binary, interpolation = \"nearest\")\n",
    "plt.axis(\"off\")\n",
    "plt.show()"
   ]
  },
  {
   "cell_type": "markdown",
   "metadata": {},
   "source": [
    "## Model and tests"
   ]
  },
  {
   "cell_type": "code",
   "execution_count": 121,
   "metadata": {},
   "outputs": [],
   "source": [
    "n_dim = 784"
   ]
  },
  {
   "cell_type": "code",
   "execution_count": 122,
   "metadata": {},
   "outputs": [],
   "source": [
    "import tensorflow as tf"
   ]
  },
  {
   "cell_type": "code",
   "execution_count": 123,
   "metadata": {},
   "outputs": [],
   "source": [
    "tf.reset_default_graph()\n",
    "\n",
    "X = tf.placeholder(tf.float32, [n_dim, None])\n",
    "Y = tf.placeholder(tf.float32, [1, None])\n",
    "learning_rate = tf.placeholder(tf.float32, shape=())\n",
    "\n",
    "#W = tf.Variable(tf.zeros([1, n_dim]))\n",
    "W = tf.Variable(tf.random_normal([1, n_dim], stddev= 2.0 / np.sqrt(2.0*n_dim))) \n",
    "b = tf.Variable(tf.zeros(1))\n",
    "\n"
   ]
  },
  {
   "cell_type": "code",
   "execution_count": 124,
   "metadata": {},
   "outputs": [],
   "source": [
    "y_ = tf.sigmoid(tf.matmul(W,X)+b)\n",
    "cost = - tf.reduce_mean(Y * tf.log(y_)+(1-Y) * tf.log(1-y_))\n",
    "#training_step = tf.train.GradientDescentOptimizer(learning_rate).minimize(cost)\n",
    "training_step = tf.train.AdamOptimizer(learning_rate = learning_rate, beta1 = 0.9, beta2 = 0.999, epsilon = 1e-8).minimize(cost)\n",
    "\n",
    "init = tf.global_variables_initializer()"
   ]
  },
  {
   "cell_type": "code",
   "execution_count": 125,
   "metadata": {},
   "outputs": [],
   "source": [
    "def run_logistic_model(learning_r, training_epochs, train_obs, train_labels, debug = False):\n",
    "    sess = tf.Session()\n",
    "    sess.run(init)\n",
    "    \n",
    "    cost_history = np.empty(shape=[0], dtype = float)\n",
    "\n",
    "    for epoch in range(training_epochs+1):\n",
    "        \n",
    "        sess.run(training_step, feed_dict = {X: train_obs, Y: train_labels, learning_rate: learning_r})\n",
    "\n",
    "        cost_ = sess.run(cost, feed_dict={ X:train_obs, Y: train_labels, learning_rate: learning_r})\n",
    "        cost_history = np.append(cost_history, cost_)\n",
    "        \n",
    "        if (epoch % 200 == 0) & debug:\n",
    "            print(\"Reached epoch\",epoch,\"cost J =\", str.format('{0:.6f}', cost_))\n",
    "            \n",
    "    return sess, cost_history"
   ]
  },
  {
   "cell_type": "code",
   "execution_count": 126,
   "metadata": {},
   "outputs": [
    {
     "name": "stdout",
     "output_type": "stream",
     "text": [
      "Reached epoch 0 cost J = 0.627342\n",
      "Reached epoch 200 cost J = 0.144844\n",
      "Reached epoch 400 cost J = 0.085227\n",
      "Reached epoch 600 cost J = 0.062180\n"
     ]
    }
   ],
   "source": [
    "sess, cost_history = run_logistic_model(learning_r = 5e-4, \n",
    "                                training_epochs = 600, \n",
    "                                train_obs = X_train[1], \n",
    "                                train_labels = y_train[1], \n",
    "                                debug = True)"
   ]
  },
  {
   "cell_type": "code",
   "execution_count": 127,
   "metadata": {},
   "outputs": [
    {
     "ename": "NameError",
     "evalue": "name 'X_train_' is not defined",
     "output_type": "error",
     "traceback": [
      "\u001b[1;31m---------------------------------------------------------------------------\u001b[0m",
      "\u001b[1;31mNameError\u001b[0m                                 Traceback (most recent call last)",
      "\u001b[1;32m<ipython-input-127-9bc7d0ba6db0>\u001b[0m in \u001b[0;36m<module>\u001b[1;34m()\u001b[0m\n\u001b[0;32m      1\u001b[0m \u001b[0mcorrect_prediction\u001b[0m\u001b[1;33m=\u001b[0m\u001b[0mtf\u001b[0m\u001b[1;33m.\u001b[0m\u001b[0mequal\u001b[0m\u001b[1;33m(\u001b[0m\u001b[0mtf\u001b[0m\u001b[1;33m.\u001b[0m\u001b[0mgreater\u001b[0m\u001b[1;33m(\u001b[0m\u001b[0my_\u001b[0m\u001b[1;33m,\u001b[0m \u001b[1;36m0.5\u001b[0m\u001b[1;33m)\u001b[0m\u001b[1;33m,\u001b[0m \u001b[0mtf\u001b[0m\u001b[1;33m.\u001b[0m\u001b[0mequal\u001b[0m\u001b[1;33m(\u001b[0m\u001b[0mY\u001b[0m\u001b[1;33m,\u001b[0m\u001b[1;36m1\u001b[0m\u001b[1;33m)\u001b[0m\u001b[1;33m)\u001b[0m\u001b[1;33m\u001b[0m\u001b[0m\n\u001b[0;32m      2\u001b[0m \u001b[0maccuracy\u001b[0m \u001b[1;33m=\u001b[0m \u001b[0mtf\u001b[0m\u001b[1;33m.\u001b[0m\u001b[0mreduce_mean\u001b[0m\u001b[1;33m(\u001b[0m\u001b[0mtf\u001b[0m\u001b[1;33m.\u001b[0m\u001b[0mcast\u001b[0m\u001b[1;33m(\u001b[0m\u001b[0mcorrect_prediction\u001b[0m\u001b[1;33m,\u001b[0m \u001b[0mtf\u001b[0m\u001b[1;33m.\u001b[0m\u001b[0mfloat32\u001b[0m\u001b[1;33m)\u001b[0m\u001b[1;33m)\u001b[0m\u001b[1;33m\u001b[0m\u001b[0m\n\u001b[1;32m----> 3\u001b[1;33m \u001b[0mprint\u001b[0m\u001b[1;33m(\u001b[0m\u001b[1;34m'Train accuracy:'\u001b[0m\u001b[1;33m,\u001b[0m\u001b[0msess\u001b[0m\u001b[1;33m.\u001b[0m\u001b[0mrun\u001b[0m\u001b[1;33m(\u001b[0m\u001b[0maccuracy\u001b[0m\u001b[1;33m,\u001b[0m \u001b[0mfeed_dict\u001b[0m\u001b[1;33m=\u001b[0m\u001b[1;33m{\u001b[0m\u001b[0mX\u001b[0m\u001b[1;33m:\u001b[0m\u001b[0mX_train_\u001b[0m\u001b[1;33m,\u001b[0m \u001b[0mY\u001b[0m\u001b[1;33m:\u001b[0m \u001b[0my_train_\u001b[0m\u001b[1;33m,\u001b[0m \u001b[0mlearning_rate\u001b[0m\u001b[1;33m:\u001b[0m \u001b[1;36m0.01\u001b[0m\u001b[1;33m}\u001b[0m\u001b[1;33m)\u001b[0m\u001b[1;33m)\u001b[0m\u001b[1;33m\u001b[0m\u001b[0m\n\u001b[0m",
      "\u001b[1;31mNameError\u001b[0m: name 'X_train_' is not defined"
     ]
    }
   ],
   "source": [
    "correct_prediction=tf.equal(tf.greater(y_, 0.5), tf.equal(Y,1))\n",
    "accuracy = tf.reduce_mean(tf.cast(correct_prediction, tf.float32))\n",
    "print('Train accuracy:',sess.run(accuracy, feed_dict={X:X_train_, Y: y_train_, learning_rate: 0.01}))\n"
   ]
  },
  {
   "cell_type": "code",
   "execution_count": 133,
   "metadata": {},
   "outputs": [
    {
     "name": "stdout",
     "output_type": "stream",
     "text": [
      "Dev fold is 0\n",
      "Reached epoch 0 cost J = 0.746164\n",
      "Reached epoch 200 cost J = 0.164582\n",
      "Reached epoch 400 cost J = 0.098671\n",
      "Reached epoch 600 cost J = 0.074406\n",
      "Train accuracy: 0.986541\n",
      "Dev accuracy: 0.986541\n"
     ]
    }
   ],
   "source": [
    "train_acc = []\n",
    "dev_acc = []\n",
    "\n",
    "\n",
    "for i in range (1): #foldnumber):\n",
    "    \n",
    "    # Prepare the folds\n",
    "    lis = []\n",
    "    ylis = []\n",
    "    for k in np.delete(np.arange(foldnumber), i):\n",
    "        lis.append(X_train[k])\n",
    "        ylis.append(y_train[k])\n",
    "        X_train_ = np.concatenate(lis, axis = 1)\n",
    "        y_train_ = np.concatenate(ylis, axis = 1)\n",
    "    X_train_ = np.asarray(X_train_)\n",
    "    y_train_ = np.asarray(y_train_)\n",
    "    \n",
    "    X_dev_ = X_train[i]\n",
    "    y_dev_ = y_train[i]\n",
    "    \n",
    "    print('Dev fold is', i)\n",
    "    sess, cost_history = run_logistic_model(learning_r = 5e-4, \n",
    "                                training_epochs = 600, \n",
    "                                train_obs = X_train_, \n",
    "                                train_labels = y_train_, \n",
    "                                debug = True)\n",
    "    \n",
    "    correct_prediction=tf.equal(tf.greater(y_, 0.5), tf.equal(Y,1))\n",
    "    accuracy = tf.reduce_mean(tf.cast(correct_prediction, tf.float32))\n",
    "    print('Train accuracy:',sess.run(accuracy, feed_dict={X:X_train_, Y: y_train_, learning_rate: 5e-4}))\n",
    "    train_acc = np.append( train_acc, sess.run(accuracy, feed_dict={X:X_train_, Y: y_train_, learning_rate: 5e-4}))\n",
    "\n",
    "    \n",
    "    correct_prediction=tf.equal(tf.greater(y_, 0.5), tf.equal(Y,1))\n",
    "    accuracy = tf.reduce_mean(tf.cast(correct_prediction, tf.float32))\n",
    "    print('Dev accuracy:',sess.run(accuracy, feed_dict={X:X_dev_, Y: y_dev_, learning_rate: 5e-4}))\n",
    "    dev_acc = np.append( dev_acc, sess.run(accuracy, feed_dict={X:X_dev_, Y: y_dev_, learning_rate: 5e-4}))\n",
    "    \n",
    "    #sess.close()\n",
    "\n",
    "    \n"
   ]
  },
  {
   "cell_type": "code",
   "execution_count": 135,
   "metadata": {},
   "outputs": [
    {
     "data": {
      "text/plain": [
       "0.9865410327911377"
      ]
     },
     "execution_count": 135,
     "metadata": {},
     "output_type": "execute_result"
    }
   ],
   "source": [
    "np.max(train_acc)"
   ]
  },
  {
   "cell_type": "code",
   "execution_count": 136,
   "metadata": {},
   "outputs": [
    {
     "data": {
      "text/plain": [
       "0.9865410327911377"
      ]
     },
     "execution_count": 136,
     "metadata": {},
     "output_type": "execute_result"
    }
   ],
   "source": [
    "np.max(dev_acc)"
   ]
  },
  {
   "cell_type": "code",
   "execution_count": 446,
   "metadata": {},
   "outputs": [
    {
     "name": "stdout",
     "output_type": "stream",
     "text": [
      "train std-dev 0.000544139818711\n",
      "dev std-dev 0.00242634155369\n",
      "trian avg 0.986675632\n",
      "dev avg 0.986541050673\n",
      "4.45904061835\n"
     ]
    }
   ],
   "source": [
    "train_std = np.std(train_acc)\n",
    "dev_std = np.std(dev_acc)\n",
    "\n",
    "train_avg = np.average(train_acc)\n",
    "dev_avg = np.average(dev_acc)\n",
    "\n",
    "print('train std-dev', train_std)\n",
    "print('dev std-dev',dev_std)\n",
    "\n",
    "print('trian avg',train_avg)\n",
    "print('dev avg',dev_avg)\n",
    "\n",
    "print(dev_std / train_std)"
   ]
  },
  {
   "cell_type": "code",
   "execution_count": 435,
   "metadata": {},
   "outputs": [
    {
     "data": {
      "text/plain": [
       "<matplotlib.figure.Figure at 0x19f9960d208>"
      ]
     },
     "metadata": {},
     "output_type": "display_data"
    },
    {
     "data": {
      "image/png": "[encoded data removed]",
      "text/plain": [
       "<matplotlib.figure.Figure at 0x19f9960d908>"
      ]
     },
     "metadata": {},
     "output_type": "display_data"
    }
   ],
   "source": [
    "plt.rc('font', family='arial')\n",
    "plt.rc('xtick', labelsize='x-small')\n",
    "plt.rc('ytick', labelsize='x-small')\n",
    "    \n",
    "plt.tight_layout()\n",
    "\n",
    "fig = plt.figure(figsize=(7.8, 3.1))\n",
    "ax = fig.add_subplot(1, 2, 1)\n",
    "plt.hist(train_acc, bins = 5, color = 'black', alpha = 0.5)\n",
    "ax.set_ylim(0,6)\n",
    "ax.set_xlim(0.982,0.991)\n",
    "ax.set_xlabel('Train Accuracy')\n",
    "ax.set_ylabel('Count')\n",
    "\n",
    "ax = fig.add_subplot(1, 2, 2)\n",
    "ax.set_ylim(0,6)\n",
    "ax.set_xlim(0.982,0.991)\n",
    "plt.hist(dev_acc, bins = 5, color = 'black', alpha = 0.5)\n",
    "ax.set_xlabel('Dev Accuracy')\n",
    "\n",
    "fig.savefig('Figure_6-9'+'.png', format='png', dpi=300,bbox_inches='tight')"
   ]
  },
  {
   "cell_type": "code",
   "execution_count": 113,
   "metadata": {},
   "outputs": [
    {
     "name": "stdout",
     "output_type": "stream",
     "text": [
      "Reached epoch 0 cost J = 0.639773\n",
      "Reached epoch 10 cost J = 0.412214\n",
      "Reached epoch 20 cost J = 0.349503\n",
      "Reached epoch 30 cost J = 0.317864\n",
      "Reached epoch 40 cost J = 0.295897\n",
      "Reached epoch 50 cost J = 0.278217\n",
      "Reached epoch 60 cost J = 0.263053\n",
      "Reached epoch 70 cost J = 0.249695\n",
      "Reached epoch 80 cost J = 0.237795\n",
      "Reached epoch 90 cost J = 0.227135\n",
      "Reached epoch 100 cost J = 0.217555\n"
     ]
    }
   ],
   "source": [
    "sess, cost_history = run_logistic_model(learning_r = 0.01, \n",
    "                                training_epochs = 50, \n",
    "                                train_obs = Xtrain, \n",
    "                                train_labels = ytrain, \n",
    "                                debug = False)"
   ]
  },
  {
   "cell_type": "markdown",
   "metadata": {},
   "source": [
    "# Let's check the distribution if we create a dev dataset"
   ]
  },
  {
   "cell_type": "code",
   "execution_count": 96,
   "metadata": {},
   "outputs": [
    {
     "name": "stdout",
     "output_type": "stream",
     "text": [
      "(56056,)\n",
      "(13944,)\n"
     ]
    }
   ],
   "source": [
    "np.random.seed(42)\n",
    "rnd = np.random.rand(len(yinput)) < 0.8\n",
    "\n",
    "train_y = yinput[rnd]\n",
    "dev_y = yinput[~rnd]\n",
    "\n",
    "print(train_y.shape)\n",
    "print(dev_y.shape)"
   ]
  },
  {
   "cell_type": "markdown",
   "metadata": {},
   "source": [
    "Note: datasets loaded by scikit-learn have a dictionary structure. \n",
    "\n",
    "- a DESCR structure describing the dataset\n",
    "- a ```data``` key containing an array with one row per instance and one column per feature\n",
    "- a ```target``` with an array with the labels\n",
    "\n",
    "we have 70000 digits available, from 0 to 9. Let's define a helper function that will allow us to visualize the digits."
   ]
  },
  {
   "cell_type": "code",
   "execution_count": null,
   "metadata": {},
   "outputs": [],
   "source": []
  },
  {
   "cell_type": "code",
   "execution_count": 97,
   "metadata": {},
   "outputs": [
    {
     "name": "stdout",
     "output_type": "stream",
     "text": [
      "digit 0 makes 9.9 % of the 56056 observations\n",
      "digit 1 makes 11.3 % of the 56056 observations\n",
      "digit 2 makes 9.9 % of the 56056 observations\n",
      "digit 3 makes 10.1 % of the 56056 observations\n",
      "digit 4 makes 9.8 % of the 56056 observations\n",
      "digit 5 makes 9.0 % of the 56056 observations\n",
      "digit 6 makes 9.8 % of the 56056 observations\n",
      "digit 7 makes 10.4 % of the 56056 observations\n",
      "digit 8 makes 9.8 % of the 56056 observations\n",
      "digit 9 makes 9.9 % of the 56056 observations\n"
     ]
    }
   ],
   "source": [
    "total = 0\n",
    "for i in range(10):\n",
    "    print (\"digit\", i, \"makes\", np.around(np.count_nonzero(train_y == i)/56056.0*100.0, decimals=1), \"% of the 56056 observations\")"
   ]
  },
  {
   "cell_type": "markdown",
   "metadata": {},
   "source": [
    "# Case for splitting with 1vsall"
   ]
  },
  {
   "cell_type": "code",
   "execution_count": 98,
   "metadata": {},
   "outputs": [],
   "source": [
    "y_ = np.zeros_like(yinput)\n",
    "y_[np.any([yinput == 0], axis = 0)] = 0\n",
    "y_[np.any([yinput > 0], axis = 0)] = 1"
   ]
  },
  {
   "cell_type": "code",
   "execution_count": 99,
   "metadata": {},
   "outputs": [
    {
     "data": {
      "text/plain": [
       "(70000, 784)"
      ]
     },
     "execution_count": 99,
     "metadata": {},
     "output_type": "execute_result"
    }
   ],
   "source": [
    "Xinput.shape"
   ]
  },
  {
   "cell_type": "code",
   "execution_count": 100,
   "metadata": {},
   "outputs": [],
   "source": [
    "np.random.seed(42)\n",
    "rnd = np.random.rand(len(y_)) < 0.8\n",
    "\n",
    "X_train = Xinput[rnd,:]\n",
    "y_train = y_[rnd]\n",
    "X_dev = Xinput[~rnd,:]\n",
    "y_dev = y_[~rnd]\n"
   ]
  },
  {
   "cell_type": "code",
   "execution_count": 126,
   "metadata": {},
   "outputs": [
    {
     "data": {
      "text/plain": [
       "(13944,)"
      ]
     },
     "execution_count": 126,
     "metadata": {},
     "output_type": "execute_result"
    }
   ],
   "source": [
    "y_dev.shape"
   ]
  },
  {
   "cell_type": "code",
   "execution_count": 103,
   "metadata": {},
   "outputs": [
    {
     "name": "stdout",
     "output_type": "stream",
     "text": [
      "class 0 makes 9.9 % of the 56056 observations\n",
      "class 1 makes 90.1 % of the 56056 observations\n"
     ]
    }
   ],
   "source": [
    "total = 0\n",
    "for i in range(2):\n",
    "    print (\"class\", i, \"makes\", np.around(np.count_nonzero(y_train == i)/56056.0*100.0, decimals=1), \"% of the 56056 observations\")"
   ]
  },
  {
   "cell_type": "code",
   "execution_count": 127,
   "metadata": {},
   "outputs": [
    {
     "name": "stdout",
     "output_type": "stream",
     "text": [
      "class 0 makes 9.7 % of the 13944 observations\n",
      "class 1 makes 90.3 % of the 13944 observations\n"
     ]
    }
   ],
   "source": [
    "total = 0\n",
    "for i in range(2):\n",
    "    print (\"class\", i, \"makes\", np.around(np.count_nonzero(y_dev == i)/13944.0*100.0, decimals=1), \"% of the 13944 observations\")"
   ]
  },
  {
   "cell_type": "code",
   "execution_count": 104,
   "metadata": {},
   "outputs": [
    {
     "name": "stdout",
     "output_type": "stream",
     "text": [
      "class 0 appears 5547  times\n",
      "class 1 appears 50509  times\n"
     ]
    }
   ],
   "source": [
    "total = 0\n",
    "for i in range(2):\n",
    "    print (\"class\", i, \"appears\", np.count_nonzero(y_train == i), \" times\")"
   ]
  },
  {
   "cell_type": "markdown",
   "metadata": {},
   "source": [
    "## Normalisation"
   ]
  },
  {
   "cell_type": "markdown",
   "metadata": {},
   "source": [
    "Let's normalise our data. The pixel will have a value between 0 and 255 (gray values). Let's normalise the value between 0 and 1."
   ]
  },
  {
   "cell_type": "code",
   "execution_count": 105,
   "metadata": {
    "scrolled": true
   },
   "outputs": [],
   "source": [
    "X_train_normalised = X_train/255.0\n",
    "X_dev_normalised = X_dev/255.0"
   ]
  },
  {
   "cell_type": "markdown",
   "metadata": {},
   "source": [
    "Remember that we need features along the rows, and training cases along the columns. So let's reshape our dataset"
   ]
  },
  {
   "cell_type": "code",
   "execution_count": 106,
   "metadata": {},
   "outputs": [],
   "source": [
    "X_train_tr = X_train_normalised.transpose()\n",
    "y_train_tr = y_train.reshape(1,y_train.shape[0])\n",
    "\n",
    "X_dev_tr = X_dev_normalised.transpose()\n",
    "y_dev_tr = y_dev.reshape(1,y_dev.shape[0])\n",
    "\n",
    "\n",
    "n_dim = X_train_tr.shape[0]\n",
    "dim_train = X_train_tr.shape[1]\n",
    "dim_dev = X_dev_tr.shape[1]\n",
    "\n"
   ]
  },
  {
   "cell_type": "markdown",
   "metadata": {},
   "source": [
    "We will need to rescale our lables. Remember we will compare them in the cost function with 0 and 1 (proabilities) and therefore our class labels must be 0 and 1, not 1 and 2. So the following step take care of it."
   ]
  },
  {
   "cell_type": "code",
   "execution_count": 107,
   "metadata": {},
   "outputs": [],
   "source": [
    "Xtrain = X_train_tr\n",
    "ytrain = y_train_tr\n",
    "\n",
    "Xdev = X_dev_tr\n",
    "ydev = y_dev_tr"
   ]
  },
  {
   "cell_type": "code",
   "execution_count": 122,
   "metadata": {},
   "outputs": [
    {
     "data": {
      "text/plain": [
       "(1, 13944)"
      ]
     },
     "execution_count": 122,
     "metadata": {},
     "output_type": "execute_result"
    }
   ],
   "source": [
    "ydev.shape"
   ]
  },
  {
   "cell_type": "code",
   "execution_count": null,
   "metadata": {},
   "outputs": [],
   "source": [
    "Xdev.shape"
   ]
  },
  {
   "cell_type": "markdown",
   "metadata": {},
   "source": [
    "# Tensorflow Implementation"
   ]
  },
  {
   "cell_type": "code",
   "execution_count": 95,
   "metadata": {},
   "outputs": [],
   "source": [
    "import tensorflow as tf"
   ]
  },
  {
   "cell_type": "code",
   "execution_count": 96,
   "metadata": {},
   "outputs": [
    {
     "ename": "NameError",
     "evalue": "name 'Xtrain' is not defined",
     "output_type": "error",
     "traceback": [
      "\u001b[1;31m---------------------------------------------------------------------------\u001b[0m",
      "\u001b[1;31mNameError\u001b[0m                                 Traceback (most recent call last)",
      "\u001b[1;32m<ipython-input-96-dded7dd727f5>\u001b[0m in \u001b[0;36m<module>\u001b[1;34m()\u001b[0m\n\u001b[1;32m----> 1\u001b[1;33m \u001b[0mprint\u001b[0m\u001b[1;33m(\u001b[0m\u001b[0mXtrain\u001b[0m\u001b[1;33m.\u001b[0m\u001b[0mshape\u001b[0m\u001b[1;33m)\u001b[0m\u001b[1;33m\u001b[0m\u001b[0m\n\u001b[0m\u001b[0;32m      2\u001b[0m \u001b[0mprint\u001b[0m\u001b[1;33m(\u001b[0m\u001b[0mytrain\u001b[0m\u001b[1;33m.\u001b[0m\u001b[0mshape\u001b[0m\u001b[1;33m)\u001b[0m\u001b[1;33m\u001b[0m\u001b[0m\n",
      "\u001b[1;31mNameError\u001b[0m: name 'Xtrain' is not defined"
     ]
    }
   ],
   "source": [
    "print(Xtrain.shape)\n",
    "print(ytrain.shape)"
   ]
  },
  {
   "cell_type": "code",
   "execution_count": null,
   "metadata": {},
   "outputs": [],
   "source": [
    "tf.reset_default_graph()\n",
    "\n",
    "X = tf.placeholder(tf.float32, [n_dim, None])\n",
    "Y = tf.placeholder(tf.float32, [1, None])\n",
    "learning_rate = tf.placeholder(tf.float32, shape=())\n",
    "\n",
    "W = tf.Variable(tf.zeros([1, n_dim]))\n",
    "b = tf.Variable(tf.zeros(1))\n",
    "\n",
    "init = tf.global_variables_initializer()"
   ]
  },
  {
   "cell_type": "code",
   "execution_count": null,
   "metadata": {},
   "outputs": [],
   "source": [
    "y_ = tf.sigmoid(tf.matmul(W,X)+b)\n",
    "cost = - tf.reduce_mean(Y * tf.log(y_)+(1-Y) * tf.log(1-y_))\n",
    "training_step = tf.train.GradientDescentOptimizer(learning_rate).minimize(cost)"
   ]
  },
  {
   "cell_type": "code",
   "execution_count": null,
   "metadata": {},
   "outputs": [],
   "source": [
    "def run_logistic_model(learning_r, training_epochs, train_obs, train_labels, debug = False):\n",
    "    sess = tf.Session()\n",
    "    sess.run(init)\n",
    "    \n",
    "    cost_history = np.empty(shape=[0], dtype = float)\n",
    "\n",
    "    for epoch in range(training_epochs+1):\n",
    "        \n",
    "        sess.run(training_step, feed_dict = {X: train_obs, Y: train_labels, learning_rate: learning_r})\n",
    "\n",
    "        cost_ = sess.run(cost, feed_dict={ X:train_obs, Y: train_labels, learning_rate: learning_r})\n",
    "        cost_history = np.append(cost_history, cost_)\n",
    "        \n",
    "        if (epoch % 10 == 0) & debug:\n",
    "            print(\"Reached epoch\",epoch,\"cost J =\", str.format('{0:.6f}', cost_))\n",
    "            \n",
    "    return sess, cost_history"
   ]
  },
  {
   "cell_type": "code",
   "execution_count": null,
   "metadata": {},
   "outputs": [],
   "source": [
    "sess, cost_history = run_logistic_model(learning_r = 0.01, \n",
    "                                training_epochs = 100, \n",
    "                                train_obs = Xtrain, \n",
    "                                train_labels = ytrain, \n",
    "                                debug = True)"
   ]
  },
  {
   "cell_type": "code",
   "execution_count": 114,
   "metadata": {},
   "outputs": [
    {
     "name": "stdout",
     "output_type": "stream",
     "text": [
      "0.912694\n"
     ]
    }
   ],
   "source": [
    "correct_prediction1=tf.equal(tf.greater(y_, 0.5), tf.equal(Y,1))\n",
    "accuracy1 = tf.reduce_mean(tf.cast(correct_prediction1, tf.float32))\n",
    "print(sess.run(accuracy1, feed_dict={X:Xtrain, Y: ytrain, learning_rate: 0.05}))"
   ]
  },
  {
   "cell_type": "code",
   "execution_count": 115,
   "metadata": {},
   "outputs": [],
   "source": [
    "from sklearn.metrics import confusion_matrix"
   ]
  },
  {
   "cell_type": "code",
   "execution_count": 116,
   "metadata": {},
   "outputs": [
    {
     "data": {
      "text/plain": [
       "array([0, 0, 0, ..., 1, 1, 1])"
      ]
     },
     "execution_count": 116,
     "metadata": {},
     "output_type": "execute_result"
    }
   ],
   "source": [
    "pred_y.flatten().astype(int)"
   ]
  },
  {
   "cell_type": "code",
   "execution_count": 129,
   "metadata": {},
   "outputs": [
    {
     "data": {
      "text/plain": [
       "array([[  659,  4888],\n",
       "       [    6, 50503]], dtype=int64)"
      ]
     },
     "execution_count": 129,
     "metadata": {},
     "output_type": "execute_result"
    }
   ],
   "source": [
    "ypred = sess.run(tf.greater(y_, 0.5), feed_dict={X:Xtrain, Y: ytrain, learning_rate: 0.05}).flatten().astype(int)\n",
    "confusion_matrix(ytrain.flatten(), ypred)"
   ]
  },
  {
   "cell_type": "code",
   "execution_count": 124,
   "metadata": {},
   "outputs": [
    {
     "data": {
      "text/plain": [
       "array([[  150,  1206],\n",
       "       [    2, 12586]], dtype=int64)"
      ]
     },
     "execution_count": 124,
     "metadata": {},
     "output_type": "execute_result"
    }
   ],
   "source": [
    "ypred = sess.run(tf.greater(y_, 0.5), feed_dict={X:Xdev, Y: ydev, learning_rate: 0.05}).flatten().astype(int)\n",
    "confusion_matrix(ydev.flatten(), ypred)"
   ]
  },
  {
   "cell_type": "code",
   "execution_count": 125,
   "metadata": {},
   "outputs": [
    {
     "name": "stdout",
     "output_type": "stream",
     "text": [
      "0.913368\n"
     ]
    }
   ],
   "source": [
    "correct_prediction1=tf.equal(tf.greater(y_, 0.5), tf.equal(Y,1))\n",
    "accuracy1 = tf.reduce_mean(tf.cast(correct_prediction1, tf.float32))\n",
    "print(sess.run(accuracy1, feed_dict={X:Xdev, Y: ydev, learning_rate: 0.05}))"
   ]
  },
  {
   "cell_type": "markdown",
   "metadata": {},
   "source": [
    "## Weight analysis"
   ]
  },
  {
   "cell_type": "code",
   "execution_count": 138,
   "metadata": {},
   "outputs": [],
   "source": [
    "ww = sess.run(W, feed_dict={X:X_train[1], Y: y_train[1], learning_rate: 0.05})"
   ]
  },
  {
   "cell_type": "code",
   "execution_count": 200,
   "metadata": {},
   "outputs": [
    {
     "data": {
      "text/plain": [
       "array([-0.16495524], dtype=float32)"
      ]
     },
     "execution_count": 200,
     "metadata": {},
     "output_type": "execute_result"
    }
   ],
   "source": [
    "sess.run(b, feed_dict={X:X_train[1], Y: y_train[1], learning_rate: 0.05})"
   ]
  },
  {
   "cell_type": "code",
   "execution_count": 201,
   "metadata": {},
   "outputs": [
    {
     "data": {
      "text/plain": [
       "<matplotlib.figure.Figure at 0x1a2e0727390>"
      ]
     },
     "metadata": {},
     "output_type": "display_data"
    },
    {
     "data": {
      "image/png": "[encoded data removed]",
      "text/plain": [
       "<matplotlib.figure.Figure at 0x1a2e0727048>"
      ]
     },
     "metadata": {},
     "output_type": "display_data"
    }
   ],
   "source": [
    "plt.rc('font', family='arial')\n",
    "plt.rc('xtick', labelsize='x-small')\n",
    "plt.rc('ytick', labelsize='x-small')\n",
    "    \n",
    "plt.tight_layout()\n",
    "\n",
    "fig = plt.figure(figsize=(7.8, 6.2))\n",
    "ax = fig.add_subplot(1, 1, 1)\n",
    "#plt.bar(x=np.arange(0,784,1),height=ww[0], color = 'black', alpha = 0.5, width = 5.0)\n",
    "#plt.bar(x=np.arange(0,784,1),height=Xinputfold[0][76,:]/2.0/255.0, color = 'black', alpha = 0.1, \n",
    "#        width = 5.0, hatch='//', linewidth=2)\n",
    "\n",
    "plt.plot(np.arange(0,784,1), Xinputfold[0][76,:]/2.0/255.0, color = 'black' , linewidth = 2, ls = 'dashed')\n",
    "\n",
    "plt.plot(np.arange(0,784,1), ww[0], color = 'black' , linewidth = 2, alpha = 1.0)\n",
    "\n",
    "#ax.set_ylim(0,6)\n",
    "ax.set_xlim(250, 450)\n",
    "ax.set_xlabel('i')\n",
    "ax.set_ylabel('Gray Value & Weight')\n",
    "\n",
    "fig.savefig('Figure_6-15'+'.png', format='png', dpi=300,bbox_inches='tight')"
   ]
  },
  {
   "cell_type": "markdown",
   "metadata": {},
   "source": [
    "# Figure 6-17 (w*x)"
   ]
  },
  {
   "cell_type": "code",
   "execution_count": 220,
   "metadata": {
    "scrolled": false
   },
   "outputs": [
    {
     "data": {
      "text/plain": [
       "<matplotlib.figure.Figure at 0x1a2e0fd6048>"
      ]
     },
     "metadata": {},
     "output_type": "display_data"
    },
    {
     "data": {
      "image/png": "[encoded data removed]",
      "text/plain": [
       "<matplotlib.figure.Figure at 0x1a2e0fd6128>"
      ]
     },
     "metadata": {},
     "output_type": "display_data"
    }
   ],
   "source": [
    "plt.rc('font', family='arial')\n",
    "plt.rc('xtick', labelsize='x-small')\n",
    "plt.rc('ytick', labelsize='x-small')\n",
    "    \n",
    "plt.tight_layout()\n",
    "\n",
    "fig = plt.figure(figsize=(7.8, 6.2))\n",
    "ax = fig.add_subplot(1, 1, 1)\n",
    "#plt.bar(x=np.arange(0,784,1),height=ww[0], color = 'black', alpha = 0.5, width = 5.0)\n",
    "#plt.bar(x=np.arange(0,784,1),height=Xinputfold[0][76,:]/2.0/255.0, color = 'black', alpha = 0.1, \n",
    "#        width = 5.0, hatch='//', linewidth=2)\n",
    "\n",
    "plt.scatter(np.arange(0,784,1), np.multiply(Xinputfold[0][76,:]/255.0, ww[0]), color = 'black' , \n",
    "            linewidth = 0.5)\n",
    "\n",
    "#plt.plot(np.arange(0,784,1), ww[0], color = 'black' , linewidth = 2, alpha = 1.0)\n",
    "ax.axhline(0, color = 'black', linewidth = 2, ls = '--')\n",
    "\n",
    "\n",
    "#ax.set_ylim(0,6)\n",
    "ax.set_xlim(0, 784)\n",
    "ax.set_xlabel('i', fontsize = 14)\n",
    "ax.set_ylabel(r'$w_i \\cdot x_i$', fontsize = 14)\n",
    "\n",
    "fig.savefig('Figure_6-17'+'.png', format='png', dpi=300,bbox_inches='tight')"
   ]
  },
  {
   "cell_type": "markdown",
   "metadata": {},
   "source": [
    "## Figure 6-11"
   ]
  },
  {
   "cell_type": "markdown",
   "metadata": {},
   "source": [
    "For Figure 6-11 I used image 76."
   ]
  },
  {
   "cell_type": "code",
   "execution_count": 199,
   "metadata": {},
   "outputs": [
    {
     "data": {
      "text/plain": [
       "<matplotlib.figure.Figure at 0x1a2e05f5eb8>"
      ]
     },
     "metadata": {},
     "output_type": "display_data"
    },
    {
     "data": {
      "image/png": "[encoded data removed]",
      "text/plain": [
       "<matplotlib.figure.Figure at 0x1a2e06cb048>"
      ]
     },
     "metadata": {},
     "output_type": "display_data"
    }
   ],
   "source": [
    "plt.rc('font', family='arial')\n",
    "plt.rc('xtick', labelsize='x-small')\n",
    "plt.rc('ytick', labelsize='x-small')\n",
    "    \n",
    "plt.tight_layout()\n",
    "\n",
    "fig = plt.figure(figsize=(7.8, 6.2))\n",
    "ax = fig.add_subplot(1, 1, 1)\n",
    "#plt.bar(x=np.arange(0,784,1),height=ww[0], color = 'black', alpha = 0.5, width = 5.0)\n",
    "#plt.bar(x=np.arange(0,784,1),height=Xinputfold[0][76,:]/2.0/255.0, color = 'black', alpha = 0.1, \n",
    "#        width = 5.0, hatch='//', linewidth=2)\n",
    "\n",
    "plt.plot(np.arange(0,784,1), Xinputfold[0][76,:]/2.0/255.0, color = 'black' , linewidth = 2, ls = 'dashed')\n",
    "\n",
    "plt.plot(np.arange(0,784,1), ww[0], color = 'black' , linewidth = 2, alpha = 1.0)\n",
    "\n",
    "#ax.set_ylim(0,6)\n",
    "ax.set_xlim(0, 250)\n",
    "ax.set_xlabel('i')\n",
    "ax.set_ylabel('Gray Value & Weight')\n",
    "\n",
    "fig.savefig('Figure_6-X'+'.png', format='png', dpi=300,bbox_inches='tight')"
   ]
  },
  {
   "cell_type": "markdown",
   "metadata": {},
   "source": [
    "# Manual data analysis"
   ]
  },
  {
   "cell_type": "markdown",
   "metadata": {},
   "source": [
    "### Figure 6-11"
   ]
  },
  {
   "cell_type": "code",
   "execution_count": 49,
   "metadata": {},
   "outputs": [
    {
     "data": {
      "text/plain": [
       "<matplotlib.figure.Figure at 0x1a2b1e6c6a0>"
      ]
     },
     "metadata": {},
     "output_type": "display_data"
    },
    {
     "data": {
      "image/png": "[encoded data removed]",
      "text/plain": [
       "<matplotlib.figure.Figure at 0x1a2b371a048>"
      ]
     },
     "metadata": {},
     "output_type": "display_data"
    }
   ],
   "source": [
    "plt.rc('font', family='arial')\n",
    "plt.rc('xtick', labelsize='x-small')\n",
    "plt.rc('ytick', labelsize='x-small')\n",
    "    \n",
    "plt.tight_layout()\n",
    "\n",
    "fig = plt.figure(figsize=(7.8, 6.2))\n",
    "ax = fig.add_subplot(2, 2, 1)\n",
    "plt.bar(x=np.arange(0,784,1),height=Xinputfold[0][555,:], color = 'black', alpha = 0.5, width = 5.0)\n",
    "#ax.set_ylim(0,6)\n",
    "ax.set_xlim(0, 784)\n",
    "ax.set_xlabel('Pixel Number')\n",
    "ax.set_ylabel('Gray Value')\n",
    "\n",
    "ax = fig.add_subplot(2, 2, 2)\n",
    "#ax.set_ylim(0,6)\n",
    "#ax.set_xlim(0.982,0.991)\n",
    "ax.set_xlim(0, 784)\n",
    "plt.bar(x=np.arange(0,784,1),height=Xinputfold[0][879,:], color = 'black', alpha = 0.5, width = 5.0)\n",
    "ax.set_xlabel('Pixel Number')\n",
    "\n",
    "ax = fig.add_subplot(2, 2, 3)\n",
    "#ax.set_ylim(0,6)\n",
    "#ax.set_xlim(0.982,0.991)\n",
    "ax.set_xlim(0, 784)\n",
    "plt.bar(x=np.arange(0,784,1),height=Xinputfold[0][78,:], color = 'black', alpha = 0.5, width = 5.0)\n",
    "ax.set_xlabel('Pixel Number')\n",
    "\n",
    "ax = fig.add_subplot(2, 2, 4)\n",
    "#ax.set_ylim(0,6)\n",
    "#ax.set_xlim(0.982,0.991)\n",
    "ax.set_xlim(0, 784)\n",
    "plt.bar(x=np.arange(0,784,1),height=Xinputfold[0][111,:], color = 'black', alpha = 0.5, width = 5.0)\n",
    "ax.set_xlabel('Pixel Number')\n",
    "\n",
    "\n",
    "fig.savefig('Figure_6-11'+'.png', format='png', dpi=300,bbox_inches='tight')"
   ]
  },
  {
   "cell_type": "markdown",
   "metadata": {},
   "source": [
    "### Figure 6-10"
   ]
  },
  {
   "cell_type": "code",
   "execution_count": 42,
   "metadata": {},
   "outputs": [
    {
     "data": {
      "text/plain": [
       "<matplotlib.figure.Figure at 0x1a2b316f2e8>"
      ]
     },
     "metadata": {},
     "output_type": "display_data"
    },
    {
     "data": {
      "image/png": "[encoded data removed]",
      "text/plain": [
       "<matplotlib.figure.Figure at 0x1a2b31634e0>"
      ]
     },
     "metadata": {},
     "output_type": "display_data"
    }
   ],
   "source": [
    "plt.rc('font', family='arial')\n",
    "plt.rc('xtick', labelsize='x-small')\n",
    "plt.rc('ytick', labelsize='x-small')\n",
    "    \n",
    "plt.tight_layout()\n",
    "\n",
    "fig = plt.figure(figsize=(7.8, 3.1))\n",
    "ax = fig.add_subplot(1, 2, 1)\n",
    "\n",
    "some_digit = Xinputfold[0][879,:]\n",
    "some_digit_image = some_digit.reshape(28,28)\n",
    "\n",
    "ax.imshow(some_digit_image, cmap = matplotlib.cm.binary, interpolation = \"nearest\")\n",
    "plt.axis(\"off\")\n",
    "\n",
    "ax = fig.add_subplot(1, 2, 2)\n",
    "#ax.set_ylim(0,6)\n",
    "#ax.set_xlim(0.982,0.991)\n",
    "plt.bar(x=np.arange(0,784,1),height=Xinputfold[0][879,:], color = 'black', alpha = 0.5, width = 5.0)\n",
    "ax.set_xlabel('Pixel Number')\n",
    "ax.set_ylabel('Gray Value')\n",
    "\n",
    "\n",
    "\n",
    "fig.savefig('Figure_6-10'+'.png', format='png', dpi=300,bbox_inches='tight')"
   ]
  },
  {
   "cell_type": "markdown",
   "metadata": {},
   "source": [
    "### Figure 6-12"
   ]
  },
  {
   "cell_type": "code",
   "execution_count": 54,
   "metadata": {},
   "outputs": [
    {
     "data": {
      "text/plain": [
       "<matplotlib.figure.Figure at 0x1a2b2a66860>"
      ]
     },
     "metadata": {},
     "output_type": "display_data"
    },
    {
     "data": {
      "image/png": "[encoded data removed]",
      "text/plain": [
       "<matplotlib.figure.Figure at 0x1a2b2a66f60>"
      ]
     },
     "metadata": {},
     "output_type": "display_data"
    }
   ],
   "source": [
    "plt.rc('font', family='arial')\n",
    "plt.rc('xtick', labelsize='x-small')\n",
    "plt.rc('ytick', labelsize='x-small')\n",
    "    \n",
    "plt.tight_layout()\n",
    "\n",
    "fig = plt.figure(figsize=(7.8, 3.1))\n",
    "ax = fig.add_subplot(1, 2, 1)\n",
    "\n",
    "some_digit = Xinputfold[0][76,:]\n",
    "some_digit_image = some_digit.reshape(28,28)\n",
    "\n",
    "ax.imshow(some_digit_image, cmap = matplotlib.cm.binary, interpolation = \"nearest\")\n",
    "plt.axis(\"off\")\n",
    "\n",
    "ax = fig.add_subplot(1, 2, 2)\n",
    "#ax.set_ylim(0,6)\n",
    "#ax.set_xlim(0.982,0.991)\n",
    "ax.set_xlim(0, 784)\n",
    "plt.bar(x=np.arange(0,784,1),height=Xinputfold[0][76,:], color = 'black', alpha = 0.5, width = 5.0)\n",
    "ax.set_xlabel('Pixel Number')\n",
    "ax.set_ylabel('Gray Value')\n",
    "\n",
    "\n",
    "\n",
    "fig.savefig('Figure_6-12'+'.png', format='png', dpi=300,bbox_inches='tight')"
   ]
  },
  {
   "cell_type": "markdown",
   "metadata": {},
   "source": [
    "### Figure 6-13"
   ]
  },
  {
   "cell_type": "code",
   "execution_count": 59,
   "metadata": {},
   "outputs": [],
   "source": [
    "import matplotlib.patches as patches\n"
   ]
  },
  {
   "cell_type": "code",
   "execution_count": 79,
   "metadata": {},
   "outputs": [
    {
     "data": {
      "text/plain": [
       "<matplotlib.figure.Figure at 0x1a2b21edf98>"
      ]
     },
     "metadata": {},
     "output_type": "display_data"
    },
    {
     "data": {
      "image/png": "[encoded data removed]",
      "text/plain": [
       "<matplotlib.figure.Figure at 0x1a2b21ed208>"
      ]
     },
     "metadata": {},
     "output_type": "display_data"
    }
   ],
   "source": [
    "plt.rc('font', family='arial')\n",
    "plt.rc('xtick', labelsize='x-small')\n",
    "plt.rc('ytick', labelsize='x-small')\n",
    "    \n",
    "plt.tight_layout()\n",
    "\n",
    "fig = plt.figure(figsize=(7.8, 6.2))\n",
    "ax = fig.add_subplot(2, 2, 1)\n",
    "\n",
    "some_digit = Xinputfold[0][76,:]\n",
    "some_digit_image = some_digit.reshape(28,28)\n",
    "\n",
    "ax.imshow(some_digit_image, cmap = matplotlib.cm.binary, interpolation = \"nearest\")\n",
    "plt.axis(\"off\")\n",
    "\n",
    "ax.add_patch(\n",
    "    patches.Rectangle(\n",
    "        (5, 1),\n",
    "        12,\n",
    "        7,\n",
    "        fill=False      # remove background\n",
    "    )\n",
    ")\n",
    "ax.text(18,5,'(A)', fontsize = 14)\n",
    "\n",
    "ax.add_patch(\n",
    "    patches.Rectangle(\n",
    "        (11, 8),\n",
    "        6,\n",
    "        9,\n",
    "        fill=False      # remove background\n",
    "    )\n",
    ")\n",
    "ax.text(18,13,'(C)', fontsize = 14)\n",
    "\n",
    "\n",
    "ax.add_patch(\n",
    "    patches.Rectangle(\n",
    "        (6, 17),\n",
    "        21,\n",
    "        6,\n",
    "        fill=False      # remove background\n",
    "    )\n",
    ")\n",
    "ax.text(2,22,'(B)', fontsize = 14)\n",
    "\n",
    "\n",
    "ax = fig.add_subplot(2, 2, 2)\n",
    "#ax.set_ylim(0,6)\n",
    "#ax.set_xlim(0.982,0.991)\n",
    "ax.set_xlim(0, 200)\n",
    "plt.bar(x=np.arange(0,784,1),height=Xinputfold[0][76,:], color = 'black', alpha = 0.5, width = 5.0)\n",
    "ax.set_xlabel('Pixel Number')\n",
    "ax.set_ylabel('Gray Value')\n",
    "ax.text(25,200,'(A)', fontsize = 14)\n",
    "\n",
    "ax = fig.add_subplot(2, 2, 3)\n",
    "#ax.set_ylim(0,6)\n",
    "#ax.set_xlim(0.982,0.991)\n",
    "ax.set_xlim(500, 784)\n",
    "plt.bar(x=np.arange(0,784,1),height=Xinputfold[0][76,:], color = 'black', alpha = 0.5, width = 5.0)\n",
    "ax.set_xlabel('Pixel Number')\n",
    "ax.set_ylabel('Gray Value')\n",
    "ax.text(720,200,'(B)', fontsize = 14)\n",
    "\n",
    "ax = fig.add_subplot(2, 2, 4)\n",
    "#ax.set_ylim(0,6)\n",
    "#ax.set_xlim(0.982,0.991)\n",
    "ax.set_xlim(200, 500)\n",
    "plt.bar(x=np.arange(0,784,1),height=Xinputfold[0][76,:], color = 'black', alpha = 0.5, width = 5.0)\n",
    "ax.set_xlabel('Pixel Number')\n",
    "ax.set_ylabel('Gray Value')\n",
    "ax.text(220,230,'(C)', fontsize = 14)\n",
    "\n",
    "\n",
    "\n",
    "\n",
    "fig.savefig('Figure_6-13'+'.png', format='png', dpi=300,bbox_inches='tight')"
   ]
  },
  {
   "cell_type": "markdown",
   "metadata": {},
   "source": [
    "### Figure 6-14"
   ]
  },
  {
   "cell_type": "code",
   "execution_count": 91,
   "metadata": {},
   "outputs": [
    {
     "data": {
      "text/plain": [
       "<matplotlib.figure.Figure at 0x1a2af964cf8>"
      ]
     },
     "metadata": {},
     "output_type": "display_data"
    },
    {
     "data": {
      "image/png": "[encoded data removed]",
      "text/plain": [
       "<matplotlib.figure.Figure at 0x1a2b2860630>"
      ]
     },
     "metadata": {},
     "output_type": "display_data"
    }
   ],
   "source": [
    "plt.rc('font', family='arial')\n",
    "plt.rc('xtick', labelsize='x-small')\n",
    "plt.rc('ytick', labelsize='x-small')\n",
    "    \n",
    "plt.tight_layout()\n",
    "\n",
    "fig = plt.figure(figsize=(7.8, 6.2))\n",
    "ax = fig.add_subplot(2, 2, 1)\n",
    "plt.bar(x=np.arange(0,784,1),height=Xinputfold[0][1,:], color = 'black', alpha = 0.5, width = 5.0)\n",
    "#ax.set_ylim(0,6)\n",
    "ax.set_xlim(0, 784)\n",
    "ax.set_xlabel('Pixel Number')\n",
    "ax.set_ylabel('Gray Value')\n",
    "\n",
    "ax = fig.add_subplot(2, 2, 2)\n",
    "#ax.set_ylim(0,6)\n",
    "#ax.set_xlim(0.982,0.991)\n",
    "ax.set_xlim(0, 784)\n",
    "plt.bar(x=np.arange(0,784,1),height=Xinputfold[0][4,:], color = 'black', alpha = 0.5, width = 5.0)\n",
    "ax.set_xlabel('Pixel Number')\n",
    "\n",
    "ax = fig.add_subplot(2, 2, 3)\n",
    "#ax.set_ylim(0,6)\n",
    "#ax.set_xlim(0.982,0.991)\n",
    "ax.set_xlim(0, 784)\n",
    "plt.bar(x=np.arange(0,784,1),height=Xinputfold[0][10,:], color = 'black', alpha = 0.5, width = 5.0)\n",
    "ax.set_xlabel('Pixel Number')\n",
    "ax.set_ylabel('Gray Value')\n",
    "\n",
    "ax = fig.add_subplot(2, 2, 4)\n",
    "#ax.set_ylim(0,6)\n",
    "#ax.set_xlim(0.982,0.991)\n",
    "ax.set_xlim(0, 784)\n",
    "plt.bar(x=np.arange(0,784,1),height=Xinputfold[0][45,:], color = 'black', alpha = 0.5, width = 5.0)\n",
    "ax.set_xlabel('Pixel Number')\n",
    "\n",
    "\n",
    "fig.savefig('Figure_6-14'+'.png', format='png', dpi=300,bbox_inches='tight')"
   ]
  },
  {
   "cell_type": "code",
   "execution_count": 192,
   "metadata": {},
   "outputs": [
    {
     "data": {
      "image/png": "[encoded data removed]",
      "text/plain": [
       "<matplotlib.figure.Figure at 0x1a2e04bb278>"
      ]
     },
     "metadata": {},
     "output_type": "display_data"
    }
   ],
   "source": [
    "some_digit = Xinputfold[0][19,:]\n",
    "\n",
    "some_digit_image = some_digit.reshape(28,28)\n",
    "\n",
    "plt.imshow(some_digit_image, cmap = matplotlib.cm.binary, interpolation = \"nearest\")\n",
    "plt.axis(\"off\")\n",
    "plt.show()"
   ]
  },
  {
   "cell_type": "markdown",
   "metadata": {},
   "source": [
    "## some_digit = Xinputfold[0][111,:]\n",
    "\n",
    "some_digit_image = some_digit.reshape(28,28)\n",
    "\n",
    "plt.imshow(some_digit_image, cmap = matplotlib.cm.binary, interpolation = \"nearest\")\n",
    "plt.axis(\"off\")\n",
    "plt.show()"
   ]
  },
  {
   "cell_type": "code",
   "execution_count": null,
   "metadata": {},
   "outputs": [],
   "source": []
  }
 ],
 "metadata": {
  "kernelspec": {
   "display_name": "Python 3",
   "language": "python",
   "name": "python3"
  },
  "language_info": {
   "codemirror_mode": {
    "name": "ipython",
    "version": 3
   },
   "file_extension": ".py",
   "mimetype": "text/x-python",
   "name": "python",
   "nbconvert_exporter": "python",
   "pygments_lexer": "ipython3",
   "version": "3.6.3"
  }
 },
 "nbformat": 4,
 "nbformat_minor": 2
}
