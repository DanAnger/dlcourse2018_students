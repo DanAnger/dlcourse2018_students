{
 "cells": [
  {
   "cell_type": "markdown",
   "metadata": {},
   "source": [
    "# Neural Networks and Deep Learning for Life Sciences and Health Applications - An introductory course about theoretical fundamentals, case studies and implementations in python and tensorflow"
   ]
  },
  {
   "cell_type": "markdown",
   "metadata": {},
   "source": [
    "(C) Umberto Michelucci 2018 - umberto.michelucci@gmail.com \n",
    "\n",
    "github repository: https://github.com/michelucci/dlcourse2018_students\n",
    "\n",
    "Fall Semester 2018"
   ]
  },
  {
   "cell_type": "code",
   "execution_count": 1,
   "metadata": {},
   "outputs": [],
   "source": [
    "import matplotlib.pyplot as plt\n",
    "%matplotlib inline\n",
    "\n",
    "import tensorflow as tf\n",
    "import numpy as np\n",
    "\n",
    "# Neural Networks and Deep Learning for Life Sciences and Health Applications - An introductory course about theoretical fundamentals, case studies and implementations in python and tensorflow\n",
    "\n",
    "(C) Umberto Michelucci 2018 - umberto.michelucci@gmail.com \n",
    "\n",
    "github repository: https://github.com/michelucci/dlcourse2018_students\n",
    "\n",
    "Fall Semester 2018from sklearn.datasets import load_boston\n",
    "import sklearn.linear_model as sk"
   ]
  },
  {
   "cell_type": "markdown",
   "metadata": {},
   "source": [
    "# Load the Boston dataset"
   ]
  },
  {
   "cell_type": "code",
   "execution_count": 2,
   "metadata": {},
   "outputs": [],
   "source": [
    "boston = load_boston()\n",
    "features = np.array(boston.data)\n",
    "target = np.array(boston.target)"
   ]
  },
  {
   "cell_type": "code",
   "execution_count": 3,
   "metadata": {},
   "outputs": [
    {
     "name": "stdout",
     "output_type": "stream",
     "text": [
      "The dataset has 506 training samples.\n",
      "The dataset has 13 features.\n"
     ]
    }
   ],
   "source": [
    "n_training_samples = features.shape[0]\n",
    "n_dim = features.shape[1]\n",
    "\n",
    "print('The dataset has',n_training_samples,'training samples.')\n",
    "print('The dataset has',n_dim,'features.')"
   ]
  },
  {
   "cell_type": "code",
   "execution_count": 4,
   "metadata": {},
   "outputs": [],
   "source": [
    "def normalize(dataset):\n",
    "    mu = np.mean(dataset, axis = 0)\n",
    "    sigma = np.std(dataset, axis = 0)\n",
    "    return (dataset-mu)/sigma"
   ]
  },
  {
   "cell_type": "code",
   "execution_count": 5,
   "metadata": {},
   "outputs": [],
   "source": [
    "features_norm = normalize(features)"
   ]
  },
  {
   "cell_type": "code",
   "execution_count": 6,
   "metadata": {},
   "outputs": [
    {
     "name": "stdout",
     "output_type": "stream",
     "text": [
      "(13, 399)\n",
      "(399,)\n",
      "(107,)\n"
     ]
    }
   ],
   "source": [
    "np.random.seed(42)\n",
    "rnd = np.random.rand(len(features_norm)) < 0.8\n",
    "\n",
    "train_x = np.transpose(features_norm[rnd])\n",
    "train_y = np.transpose(target[rnd])\n",
    "dev_x = np.transpose(features_norm[~rnd])\n",
    "dev_y = np.transpose(target[~rnd])\n",
    "\n",
    "print(train_x.shape)\n",
    "print(train_y.shape)\n",
    "print(dev_y.shape)"
   ]
  },
  {
   "cell_type": "code",
   "execution_count": 7,
   "metadata": {
    "scrolled": true
   },
   "outputs": [
    {
     "name": "stdout",
     "output_type": "stream",
     "text": [
      "(1, 399)\n",
      "(1, 107)\n"
     ]
    }
   ],
   "source": [
    "train_y = train_y.reshape(1,len(train_y))\n",
    "dev_y = dev_y.reshape(1,len(dev_y))\n",
    "\n",
    "print(train_y.shape)\n",
    "print(dev_y.shape)"
   ]
  },
  {
   "cell_type": "markdown",
   "metadata": {},
   "source": [
    "# Construction"
   ]
  },
  {
   "cell_type": "code",
   "execution_count": 8,
   "metadata": {},
   "outputs": [],
   "source": [
    "def create_layer (X, n, activation):\n",
    "    ndim = int(X.shape[0])\n",
    "    stddev = 2.0 / np.sqrt(ndim)\n",
    "    initialization = tf.truncated_normal((n, ndim), stddev = stddev)\n",
    "    W = tf.Variable(initialization)\n",
    "    b = tf.Variable(tf.zeros([n,1]))\n",
    "    Z = tf.matmul(W,X)+b\n",
    "    return activation(Z), W, b"
   ]
  },
  {
   "cell_type": "code",
   "execution_count": 9,
   "metadata": {},
   "outputs": [],
   "source": [
    "tf.reset_default_graph()\n",
    "\n",
    "n_dim = 13\n",
    "n1 = 20\n",
    "n2 = 20\n",
    "n3 = 20\n",
    "n4 = 20\n",
    "n_outputs = 1\n",
    "\n",
    "tf.set_random_seed(5)\n",
    "\n",
    "X = tf.placeholder(tf.float32, [n_dim, None])\n",
    "Y = tf.placeholder(tf.float32, [1, None])\n",
    "\n",
    "learning_rate = tf.placeholder(tf.float32, shape=())\n",
    "\n",
    "hidden1, W1, b1 = create_layer (X, n1, activation = tf.nn.relu)\n",
    "hidden2, W2, b2 = create_layer (hidden1, n2, activation = tf.nn.relu)\n",
    "hidden3, W3, b3 = create_layer (hidden2, n3, activation = tf.nn.relu)\n",
    "hidden4, W4, b4 = create_layer (hidden3, n4, activation = tf.nn.relu)\n",
    "y_, W5, b5 = create_layer (hidden4, n_outputs, activation = tf.identity)\n",
    "#y_ = tf.nn.softmax(outputs)\n",
    "\n",
    "#cost = - tf.reduce_mean(Y * tf.log(y_)+(1-Y) * tf.log(1-y_))\n",
    "#optimizer = tf.train.GradientDescentOptimizer(learning_rate).minimize(cost)\n",
    "cost = tf.reduce_mean(tf.square(y_-Y))\n",
    "\n",
    "# Adam\n",
    "optimizer = tf.train.AdamOptimizer(learning_rate = learning_rate, beta1 = 0.9, beta2 = 0.999, epsilon = 1e-8).minimize(cost)"
   ]
  },
  {
   "cell_type": "markdown",
   "metadata": {},
   "source": [
    "## Plot dev vs train MSE"
   ]
  },
  {
   "cell_type": "code",
   "execution_count": 11,
   "metadata": {},
   "outputs": [
    {
     "name": "stdout",
     "output_type": "stream",
     "text": [
      "Reached epoch 0 cost J(train) = 471.979\n",
      "Reached epoch 0 cost J(test) = 444.563\n",
      "Reached epoch 1000 cost J(train) = 3.68081\n",
      "Reached epoch 1000 cost J(test) = 18.2743\n",
      "Reached epoch 2000 cost J(train) = 1.50202\n",
      "Reached epoch 2000 cost J(test) = 17.9014\n",
      "Reached epoch 3000 cost J(train) = 0.641386\n",
      "Reached epoch 3000 cost J(test) = 18.1373\n",
      "Reached epoch 4000 cost J(train) = 0.224429\n",
      "Reached epoch 4000 cost J(test) = 18.1608\n",
      "Reached epoch 5000 cost J(train) = 0.0837186\n",
      "Reached epoch 5000 cost J(test) = 19.4313\n",
      "Reached epoch 6000 cost J(train) = 0.0391667\n",
      "Reached epoch 6000 cost J(test) = 19.5879\n",
      "Reached epoch 7000 cost J(train) = 0.0228022\n",
      "Reached epoch 7000 cost J(test) = 19.5508\n",
      "Reached epoch 8000 cost J(train) = 0.0167917\n",
      "Reached epoch 8000 cost J(test) = 19.312\n",
      "Reached epoch 9000 cost J(train) = 0.0100394\n",
      "Reached epoch 9000 cost J(test) = 19.5473\n",
      "Reached epoch 10000 cost J(train) = 0.00704259\n",
      "Reached epoch 10000 cost J(test) = 20.076\n"
     ]
    }
   ],
   "source": [
    "sess = tf.Session()\n",
    "sess.run(tf.global_variables_initializer())\n",
    "\n",
    "cost_train_history = []\n",
    "cost_test_history = []\n",
    "for epoch in range(10000+1):\n",
    "\n",
    "    sess.run(optimizer, feed_dict = {X: train_x, Y: train_y, learning_rate: 0.001})\n",
    "    cost_train_ = sess.run(cost, feed_dict={ X:train_x, Y: train_y, learning_rate: 0.001})\n",
    "    cost_test_ = sess.run(cost, feed_dict={ X:dev_x, Y: dev_y, learning_rate: 0.001})\n",
    "    cost_train_history = np.append(cost_train_history, cost_train_)\n",
    "    cost_test_history = np.append(cost_test_history, cost_test_)\n",
    "\n",
    "    if (epoch % 1000 == 0):\n",
    "        print(\"Reached epoch\",epoch,\"cost J(train) =\", cost_train_)\n",
    "        print(\"Reached epoch\",epoch,\"cost J(test) =\", cost_test_)"
   ]
  },
  {
   "cell_type": "markdown",
   "metadata": {},
   "source": [
    "## Figure 5-1"
   ]
  },
  {
   "cell_type": "code",
   "execution_count": 12,
   "metadata": {},
   "outputs": [
    {
     "data": {
      "text/plain": [
       "<matplotlib.figure.Figure at 0x21ffb1555f8>"
      ]
     },
     "metadata": {},
     "output_type": "display_data"
    },
    {
     "data": {
      "image/png": "[encoded data removed]",
      "text/plain": [
       "<matplotlib.figure.Figure at 0x21ffb155630>"
      ]
     },
     "metadata": {},
     "output_type": "display_data"
    }
   ],
   "source": [
    "plt.rc('font', family='arial')\n",
    "plt.rc('xtick', labelsize='x-small')\n",
    "plt.rc('ytick', labelsize='x-small')\n",
    "    \n",
    "plt.tight_layout()\n",
    "\n",
    "fig = plt.figure(figsize=(3.9, 3.1))\n",
    "ax = fig.add_subplot(1, 1, 1)\n",
    "ax.plot(cost_train_history, ls='-', color = 'black', label = r'Training MSE')\n",
    "ax.plot(cost_test_history, ls='--', color = 'blue', label = r'Dev MSE')\n",
    "ax.set_xlabel('epochs')\n",
    "ax.set_ylabel('Cost function $J$')\n",
    "ax.set_ylim(0,30)\n",
    "plt.legend(bbox_to_anchor=(1.05, 1), loc=2, borderaxespad=0.)\n",
    "fig.savefig('Figure_5-1'+'.png', format='png', dpi=300,bbox_inches='tight')"
   ]
  },
  {
   "cell_type": "markdown",
   "metadata": {},
   "source": [
    "# Normal function"
   ]
  },
  {
   "cell_type": "code",
   "execution_count": 14,
   "metadata": {},
   "outputs": [],
   "source": [
    "def model(training_epochs, features, target, logging_step = 100, learning_r = 0.001):\n",
    "    sess = tf.Session()\n",
    "    sess.run(tf.global_variables_initializer())\n",
    "\n",
    "    cost_history = []\n",
    "    for epoch in range(training_epochs+1):\n",
    "        #for i in range(0, features.shape[1], minibatch_size):\n",
    "        #    X_train_mini = features[:,i:i + minibatch_size]\n",
    "        #    y_train_mini = classes[:,i:i + minibatch_size]\n",
    "\n",
    "        sess.run(optimizer, feed_dict = {X: features, Y: target, learning_rate: learning_r})\n",
    "        cost_ = sess.run(cost, feed_dict={ X:features, Y: target, learning_rate: learning_r})\n",
    "        cost_history = np.append(cost_history, cost_)\n",
    "\n",
    "        if (epoch % logging_step == 0):\n",
    "                print(\"Reached epoch\",epoch,\"cost J =\", cost_)\n",
    "                \n",
    "    return sess, cost_history"
   ]
  },
  {
   "cell_type": "code",
   "execution_count": 20,
   "metadata": {},
   "outputs": [
    {
     "name": "stdout",
     "output_type": "stream",
     "text": [
      "Reached epoch 0 cost J = 401.703\n",
      "Reached epoch 1000 cost J = 0.646764\n",
      "Reached epoch 2000 cost J = 0.246118\n",
      "Reached epoch 3000 cost J = 0.0957675\n",
      "Reached epoch 4000 cost J = 0.209921\n",
      "Reached epoch 5000 cost J = 0.0234907\n",
      "Reached epoch 6000 cost J = 0.0129319\n",
      "Reached epoch 7000 cost J = 0.00523646\n",
      "Reached epoch 8000 cost J = 0.0113807\n",
      "Reached epoch 9000 cost J = 0.00235164\n",
      "Reached epoch 10000 cost J = 0.00122927\n"
     ]
    }
   ],
   "source": [
    "sess, cost_history = model(learning_r = 0.01, \n",
    "                                training_epochs = 10000, \n",
    "                                features = train_x, \n",
    "                                target = train_y,\n",
    "                                logging_step = 1000)"
   ]
  },
  {
   "cell_type": "markdown",
   "metadata": {},
   "source": [
    "# Plots"
   ]
  },
  {
   "cell_type": "markdown",
   "metadata": {},
   "source": [
    "## Train & Test"
   ]
  },
  {
   "cell_type": "code",
   "execution_count": 21,
   "metadata": {},
   "outputs": [
    {
     "data": {
      "text/plain": [
       "<matplotlib.figure.Figure at 0x21ffec0c080>"
      ]
     },
     "metadata": {},
     "output_type": "display_data"
    },
    {
     "data": {
      "image/png": "[encoded data removed]",
      "text/plain": [
       "<matplotlib.figure.Figure at 0x21ffec0c588>"
      ]
     },
     "metadata": {},
     "output_type": "display_data"
    }
   ],
   "source": [
    "pred_y = sess.run(y_, feed_dict = {X: train_x, Y: train_y})\n",
    "pred_y_test = sess.run(y_, feed_dict = {X: dev_x, Y: dev_y})\n",
    "mse_train = sess.run(tf.reduce_mean(tf.square(pred_y - train_y)))\n",
    "mse_test = sess.run(cost, feed_dict = {X: dev_x, Y: dev_y})\n",
    "\n",
    "plt.rc('font', family='arial')\n",
    "plt.rc('xtick', labelsize='x-small')\n",
    "plt.rc('ytick', labelsize='x-small')\n",
    "    \n",
    "plt.tight_layout()\n",
    "\n",
    "fig = plt.figure(figsize=(7.8, 3.1))\n",
    "ax = fig.add_subplot(1, 2, 1)\n",
    "ax.scatter(train_y, pred_y, lw = 0.3)\n",
    "ax.plot([dev_y.min(), dev_y.max()], [dev_y.min(), dev_y.max()], 'k--', lw = 3)\n",
    "ax.set_xlabel('Measured Target Value')\n",
    "ax.set_ylabel('Predicted Target Value')\n",
    "ax.text(10,45, r'MSE = '+'{:5.4f}'.format(mse_train) , fontsize = 13)\n",
    "ax.text(10,40, r'Training' , fontsize = 13)\n",
    "ax.set_ylim(0,55)\n",
    "\n",
    "ax = fig.add_subplot(1, 2, 2)\n",
    "ax.scatter(dev_y, pred_y_test, lw = 0.3)\n",
    "ax.plot([dev_y.min(), dev_y.max()], [dev_y.min(), dev_y.max()], 'k--', lw = 3)\n",
    "ax.set_xlabel('Measured Target Value')\n",
    "#ax.set_ylabel('Predicted Target Value')\n",
    "ax.text(10,45, r'MSE = '+'{:5.2f}'.format(mse_test) , fontsize = 13)\n",
    "ax.text(10,40, r'Dev' , fontsize = 13)\n",
    "ax.set_ylim(0,55)\n",
    "\n",
    "\n",
    "fig.savefig('Figure_5-2'+'.png', format='png', dpi=300,bbox_inches='tight')"
   ]
  },
  {
   "cell_type": "markdown",
   "metadata": {},
   "source": [
    "## Test"
   ]
  },
  {
   "cell_type": "code",
   "execution_count": 45,
   "metadata": {},
   "outputs": [
    {
     "name": "stdout",
     "output_type": "stream",
     "text": [
      "20.076\n"
     ]
    },
    {
     "data": {
      "text/plain": [
       "<matplotlib.figure.Figure at 0x2694f84dd30>"
      ]
     },
     "metadata": {},
     "output_type": "display_data"
    },
    {
     "data": {
      "image/png": "[encoded data removed]",
      "text/plain": [
       "<matplotlib.figure.Figure at 0x2694f74de10>"
      ]
     },
     "metadata": {},
     "output_type": "display_data"
    }
   ],
   "source": [
    "pred_y = sess.run(y_, feed_dict = {X: test_x, Y: test_y})\n",
    "mse = tf.reduce_mean(tf.square(pred_y - test_y))\n",
    "\n",
    "\n",
    "print(sess.run(cost, feed_dict = {X: test_x, Y: test_y}))\n",
    "\n",
    "plt.rc('font', family='arial')\n",
    "plt.rc('xtick', labelsize='x-small')\n",
    "plt.rc('ytick', labelsize='x-small')\n",
    "    \n",
    "plt.tight_layout()\n",
    "\n",
    "fig = plt.figure(figsize=(3.9, 3.1))\n",
    "ax = fig.add_subplot(1, 1, 1)\n",
    "ax.scatter(test_y, pred_y, lw = 0.3)\n",
    "ax.plot([test_y.min(), test_y.max()], [test_y.min(), test_y.max()], 'k--', lw = 3)\n",
    "ax.set_xlabel('Measured Target Value')\n",
    "ax.set_ylabel('Predicted Target Value')\n",
    "\n",
    "fig.savefig('Figure_5-X'+'.png', format='png', dpi=300,bbox_inches='tight')"
   ]
  },
  {
   "cell_type": "markdown",
   "metadata": {},
   "source": [
    "# L2 Regularization"
   ]
  },
  {
   "cell_type": "markdown",
   "metadata": {},
   "source": [
    "## Construction"
   ]
  },
  {
   "cell_type": "code",
   "execution_count": 136,
   "metadata": {},
   "outputs": [],
   "source": [
    "tf.reset_default_graph()\n",
    "\n",
    "n_dim = 13\n",
    "n1 = 20\n",
    "n2 = 20\n",
    "n3 = 20\n",
    "n4 = 20\n",
    "n_outputs = 1\n",
    "\n",
    "\n",
    "tf.set_random_seed(5)\n",
    "\n",
    "X = tf.placeholder(tf.float32, [n_dim, None])\n",
    "Y = tf.placeholder(tf.float32, [1, None])\n",
    "\n",
    "learning_rate = tf.placeholder(tf.float32, shape=())\n",
    "lambd = tf.placeholder(tf.float32, shape=())\n",
    "\n",
    "hidden1, W1, b1 = create_layer (X, n1, activation = tf.nn.relu)\n",
    "hidden2, W2, b2 = create_layer (hidden1, n2, activation = tf.nn.relu)\n",
    "hidden3, W3, b3 = create_layer (hidden2, n3, activation = tf.nn.relu)\n",
    "hidden4, W4, b4 = create_layer (hidden3, n4, activation = tf.nn.relu)\n",
    "y_, W5, b5 = create_layer (hidden4, n_outputs, activation = tf.identity)\n",
    "#y_ = tf.nn.softmax(outputs)\n",
    "\n",
    "#cost = - tf.reduce_mean(Y * tf.log(y_)+(1-Y) * tf.log(1-y_))\n",
    "#optimizer = tf.train.GradientDescentOptimizer(learning_rate).minimize(cost)\n",
    "\n",
    "reg = tf.nn.l2_loss(W1) + tf.nn.l2_loss(W2) + tf.nn.l2_loss(W3) + \\\n",
    "          tf.nn.l2_loss(W4) + tf.nn.l2_loss(W5)\n",
    "\n",
    "cost_mse = tf.reduce_mean(tf.square(y_-Y))\n",
    "\n",
    "cost = tf.reduce_mean(cost_mse + lambd*reg)\n",
    "\n",
    "# Adam\n",
    "optimizer = tf.train.AdamOptimizer(learning_rate = learning_rate, beta1 = 0.9, beta2 = 0.999, epsilon = 1e-8).minimize(cost)"
   ]
  },
  {
   "cell_type": "code",
   "execution_count": 137,
   "metadata": {},
   "outputs": [],
   "source": [
    "def model(training_epochs, features, target, logging_step = 100, learning_r = 0.001, lambd_val = 0.1):\n",
    "    sess = tf.Session()\n",
    "    sess.run(tf.global_variables_initializer())\n",
    "\n",
    "    cost_history = []\n",
    "    for epoch in range(training_epochs+1):\n",
    "        \n",
    "        sess.run(optimizer, feed_dict = {X: features, Y: target, learning_rate: learning_r, lambd: lambd_val})\n",
    "        cost_ = sess.run(cost_mse, feed_dict={ X:features, Y: target, learning_rate: learning_r, lambd: lambd_val})\n",
    "        cost_history = np.append(cost_history, cost_)\n",
    "\n",
    "        if (epoch % logging_step == 0):\n",
    "                pred_y_test = sess.run(y_, feed_dict = {X: dev_x, Y: dev_y})\n",
    "                print(\"Reached epoch\",epoch,\"cost J =\", cost_)\n",
    "                print(\"Training MSE = \", cost_)\n",
    "                print(\"Dev MSE      = \", sess.run(cost_mse, feed_dict = {X: dev_x, Y: dev_y}))\n",
    "                \n",
    "    return sess, cost_history"
   ]
  },
  {
   "cell_type": "code",
   "execution_count": 138,
   "metadata": {
    "scrolled": false
   },
   "outputs": [
    {
     "name": "stdout",
     "output_type": "stream",
     "text": [
      "Reached epoch 0 cost J = 248.026\n",
      "Training MSE =  248.026\n",
      "Dev MSE      =  214.921\n",
      "Reached epoch 5000 cost J = 23.795\n",
      "Training MSE =  23.795\n",
      "Dev MSE      =  21.6406\n"
     ]
    }
   ],
   "source": [
    "sess, cost_history = model(learning_r = 0.01, \n",
    "                                training_epochs = 5000, \n",
    "                                features = train_x, \n",
    "                                target = train_y,\n",
    "                                logging_step = 5000,\n",
    "                                lambd_val = 10.0)"
   ]
  },
  {
   "cell_type": "markdown",
   "metadata": {},
   "source": [
    "## Number of weights that are zero"
   ]
  },
  {
   "cell_type": "code",
   "execution_count": 81,
   "metadata": {},
   "outputs": [],
   "source": [
    "def eval_weights_stats(W):\n",
    "    w_zero_count = np.sum(W < 1e-10)\n",
    "    return w_zero_count "
   ]
  },
  {
   "cell_type": "code",
   "execution_count": 141,
   "metadata": {
    "scrolled": true
   },
   "outputs": [
    {
     "name": "stdout",
     "output_type": "stream",
     "text": [
      "Reached epoch 0 cost J = 238.378\n",
      "Training MSE =  238.378\n",
      "Dev MSE      =  205.561\n",
      "Reached epoch 1000 cost J = 0.207582\n",
      "Training MSE =  0.207582\n",
      "Dev MSE      =  30.3291\n"
     ]
    }
   ],
   "source": [
    "sess, cost_history = model(learning_r = 0.01, \n",
    "                                training_epochs = 1000, \n",
    "                                features = train_x, \n",
    "                                target = train_y,\n",
    "                                logging_step = 1000,\n",
    "                                lambd_val = 0.0)"
   ]
  },
  {
   "cell_type": "code",
   "execution_count": 142,
   "metadata": {},
   "outputs": [],
   "source": [
    "weights1 = sess.run(W1,  feed_dict = {X: train_x, Y: train_y, learning_rate: 0.01, lambd: 0.0})\n",
    "weights2 = sess.run(W2,  feed_dict = {X: train_x, Y: train_y, learning_rate: 0.01, lambd: 0.0})\n",
    "weights3 = sess.run(W3,  feed_dict = {X: train_x, Y: train_y, learning_rate: 0.01, lambd: 0.0})\n",
    "weights4 = sess.run(W4,  feed_dict = {X: train_x, Y: train_y, learning_rate: 0.01, lambd: 0.0})\n",
    "weights5 = sess.run(W5,  feed_dict = {X: train_x, Y: train_y, learning_rate: 0.01, lambd: 0.0})"
   ]
  },
  {
   "cell_type": "code",
   "execution_count": 36,
   "metadata": {},
   "outputs": [
    {
     "data": {
      "text/plain": [
       "<matplotlib.figure.Figure at 0x21f80149fd0>"
      ]
     },
     "metadata": {},
     "output_type": "display_data"
    },
    {
     "data": {
      "image/png": "[encoded data removed]",
      "text/plain": [
       "<matplotlib.figure.Figure at 0x21f8006cf60>"
      ]
     },
     "metadata": {},
     "output_type": "display_data"
    }
   ],
   "source": [
    "plt.rc('font', family='arial')\n",
    "plt.rc('xtick', labelsize='x-small')\n",
    "plt.rc('ytick', labelsize='x-small')\n",
    "    \n",
    "plt.tight_layout()\n",
    "\n",
    "fig = plt.figure(figsize=(7.8, 6.2))\n",
    "ax = fig.add_subplot(2, 2, 1)\n",
    "plt.hist(weights1.flatten(), bins = 10)\n",
    "ax.set_xlabel('Weights Layer 1')\n",
    "ax.set_ylabel('Count')\n",
    "\n",
    "#ax.set_xlim(0,0.4)\n",
    "\n",
    "ax = fig.add_subplot(2, 2, 2)\n",
    "plt.hist(weights2.flatten(), bins = 10)\n",
    "ax.set_xlabel('Weights Layer 2')\n",
    "ax.set_ylabel('Count')\n",
    "#ax.set_xlim(0,0.4)\n",
    "\n",
    "ax = fig.add_subplot(2, 2, 3)\n",
    "plt.hist(weights3.flatten(), bins = 10)\n",
    "ax.set_xlabel('Weights Layer 3')\n",
    "ax.set_ylabel('Count')\n",
    "#ax.set_xlim(0,0.4)\n",
    "\n",
    "ax = fig.add_subplot(2, 2, 4)\n",
    "plt.hist(weights4.flatten(), bins = 10)\n",
    "ax.set_xlabel('Weights Layer 4')\n",
    "ax.set_ylabel('Count')\n",
    "#ax.set_xlim(0,0.4)\n",
    "\n",
    "#plt.title ('Weights Distribution')\n",
    "\n",
    "fig.savefig('Figure_5-X'+'.png', format='png', dpi=300,bbox_inches='tight')"
   ]
  },
  {
   "cell_type": "code",
   "execution_count": 143,
   "metadata": {},
   "outputs": [
    {
     "name": "stdout",
     "output_type": "stream",
     "text": [
      "0.0\n",
      "0.25\n",
      "0.75\n",
      "0.25\n",
      "0.0\n"
     ]
    }
   ],
   "source": [
    "print((np.sum(np.abs(weights1)< 1e-3))/weights1.size*100.0)\n",
    "print((np.sum(np.abs(weights2)< 1e-3))/weights2.size*100.0)\n",
    "print((np.sum(np.abs(weights3)< 1e-3))/weights3.size*100.0)\n",
    "print((np.sum(np.abs(weights4)< 1e-3))/weights4.size*100.0)\n",
    "print((np.sum(np.abs(weights5)< 1e-3))/weights5.size*100.0)"
   ]
  },
  {
   "cell_type": "code",
   "execution_count": 41,
   "metadata": {},
   "outputs": [
    {
     "name": "stdout",
     "output_type": "stream",
     "text": [
      "Reached epoch 0 cost J = 248.026\n",
      "Training MSE =  248.026\n",
      "Dev MSE      =  214.921\n",
      "Reached epoch 1000 cost J = 23.7701\n",
      "Training MSE =  23.7701\n",
      "Dev MSE      =  21.5193\n"
     ]
    }
   ],
   "source": [
    "sess, cost_history = model(learning_r = 0.01, \n",
    "                                training_epochs = 1000, \n",
    "                                features = train_x, \n",
    "                                target = train_y,\n",
    "                                logging_step = 1000,\n",
    "                                lambd_val = 10.0)"
   ]
  },
  {
   "cell_type": "code",
   "execution_count": 139,
   "metadata": {},
   "outputs": [],
   "source": [
    "weights1_ = sess.run(W1,  feed_dict = {X: train_x, Y: train_y, learning_rate: 0.01, lambd: 10.0})\n",
    "weights2_ = sess.run(W2,  feed_dict = {X: train_x, Y: train_y, learning_rate: 0.01, lambd: 10.0})\n",
    "weights3_ = sess.run(W3,  feed_dict = {X: train_x, Y: train_y, learning_rate: 0.01, lambd: 10.0})\n",
    "weights4_ = sess.run(W4,  feed_dict = {X: train_x, Y: train_y, learning_rate: 0.01, lambd: 10.0})\n",
    "weights5_ = sess.run(W5,  feed_dict = {X: train_x, Y: train_y, learning_rate: 0.01, lambd: 10.0})"
   ]
  },
  {
   "cell_type": "code",
   "execution_count": 62,
   "metadata": {},
   "outputs": [
    {
     "data": {
      "text/plain": [
       "0.88716216216216215"
      ]
     },
     "execution_count": 62,
     "metadata": {},
     "output_type": "execute_result"
    }
   ],
   "source": [
    "(eval_weights_stats(weights1_)+\\\n",
    "eval_weights_stats(weights2_)+\\\n",
    "eval_weights_stats(weights3_)+\\\n",
    "eval_weights_stats(weights4_)+\\\n",
    "eval_weights_stats(weights5_))/(weights1_.size + weights2_.size + weights3_.size + weights4_.size + weights5_.size)"
   ]
  },
  {
   "cell_type": "code",
   "execution_count": 140,
   "metadata": {},
   "outputs": [
    {
     "name": "stdout",
     "output_type": "stream",
     "text": [
      "20.0\n",
      "41.5\n",
      "60.5\n",
      "66.0\n",
      "35.0\n"
     ]
    }
   ],
   "source": [
    "print((np.sum(np.abs(weights1_)< 1e-3))/weights1_.size*100.0)\n",
    "print((np.sum(np.abs(weights2_)< 1e-3))/weights2_.size*100.0)\n",
    "print((np.sum(np.abs(weights3_)< 1e-3))/weights3_.size*100.0)\n",
    "print((np.sum(np.abs(weights4_)< 1e-3))/weights4_.size*100.0)\n",
    "print((np.sum(np.abs(weights5_)< 1e-3))/weights5_.size*100.0)"
   ]
  },
  {
   "cell_type": "markdown",
   "metadata": {},
   "source": [
    "## histogram comparison"
   ]
  },
  {
   "cell_type": "code",
   "execution_count": 45,
   "metadata": {},
   "outputs": [
    {
     "data": {
      "text/plain": [
       "<matplotlib.figure.Figure at 0x21ffad9cdd8>"
      ]
     },
     "metadata": {},
     "output_type": "display_data"
    },
    {
     "data": {
      "image/png": "[encoded data removed]",
      "text/plain": [
       "<matplotlib.figure.Figure at 0x21ffad9cf60>"
      ]
     },
     "metadata": {},
     "output_type": "display_data"
    }
   ],
   "source": [
    "plt.rc('font', family='arial')\n",
    "plt.rc('xtick', labelsize='small')\n",
    "plt.rc('ytick', labelsize='small')\n",
    "    \n",
    "plt.tight_layout()\n",
    "\n",
    "fig = plt.figure(figsize=(7.8, 6.2))\n",
    "ax = fig.add_subplot(2, 2, 1)\n",
    "plt.hist(weights1.flatten(), alpha = 0.25, bins = 10, color = 'black')\n",
    "plt.hist(weights1_.flatten(), alpha = 0.5, bins = 5, color = 'black')\n",
    "#ax.set_xlabel('Weights Layer 1')\n",
    "ax.set_ylabel('Count')\n",
    "ax.text(-1.2, 175, r'Layer 1', fontsize = 13)\n",
    "\n",
    "#ax.set_xlim(-0.4,0.4)\n",
    "\n",
    "ax = fig.add_subplot(2, 2, 2)\n",
    "plt.hist(weights2.flatten(), alpha = 0.25, bins = 10, color = 'black')\n",
    "plt.hist(weights2_.flatten(), alpha = 0.5, bins = 5, color = 'black')\n",
    "#ax.set_xlabel('Weights Layer 2')\n",
    "ax.set_ylabel('Count')\n",
    "ax.text(-1, 220, r'Layer 2', fontsize = 13)\n",
    "#ax.set_xlim(-0.4,0.4)\n",
    "\n",
    "ax = fig.add_subplot(2, 2, 3)\n",
    "plt.hist(weights3.flatten(), alpha = 0.25, bins = 10, color = 'black')\n",
    "plt.hist(weights3_.flatten(), alpha = 0.5, bins = 5, color = 'black')\n",
    "ax.set_xlabel('Weights')\n",
    "ax.set_ylabel('Count')\n",
    "ax.text(-1.8, 300, r'Layer 3', fontsize = 13)\n",
    "#ax.set_xlim(-0.4,0.4)\n",
    "\n",
    "ax = fig.add_subplot(2, 2, 4)\n",
    "#plt.hist([weights4.flatten(),weights4_.flatten()], bins = 10)\n",
    "plt.hist(weights4.flatten(), alpha = 0.25, bins = 10, color = 'black')\n",
    "plt.hist(weights4_.flatten(), alpha = 0.5, bins = 5, color = 'black')\n",
    "ax.set_xlabel('Weights')\n",
    "ax.set_ylabel('Count')\n",
    "ax.text(-2.7, 300, r'Layer 4', fontsize = 13)\n",
    "#ax.set_xlim(-0.4,0.4)\n",
    "\n",
    "fig.savefig('Figure_5-3'+'.png', format='png', dpi=300,bbox_inches='tight')"
   ]
  },
  {
   "cell_type": "markdown",
   "metadata": {},
   "source": [
    "### Plot of visual comparison of dev and train"
   ]
  },
  {
   "cell_type": "code",
   "execution_count": null,
   "metadata": {},
   "outputs": [],
   "source": [
    "pred_y = sess.run(y_, feed_dict = {X: train_x, Y: train_y})\n",
    "pred_y_test = sess.run(y_, feed_dict = {X: test_x, Y: test_y})\n",
    "mse_train = sess.run(tf.reduce_mean(tf.square(pred_y - train_y)))\n",
    "mse_test = sess.run(cost_mse, feed_dict = {X: test_x, Y: test_y})\n",
    "\n",
    "plt.rc('font', family='arial')\n",
    "plt.rc('xtick', labelsize='x-small')\n",
    "plt.rc('ytick', labelsize='x-small')\n",
    "    \n",
    "plt.tight_layout()\n",
    "\n",
    "fig = plt.figure(figsize=(7.8, 3.1))\n",
    "ax = fig.add_subplot(1, 2, 1)\n",
    "ax.scatter(train_y, pred_y, lw = 0.3)\n",
    "ax.plot([test_y.min(), test_y.max()], [test_y.min(), test_y.max()], 'k--', lw = 3)\n",
    "ax.set_xlabel('Measured Target Value')\n",
    "ax.set_ylabel('Predicted Target Value')\n",
    "ax.text(10,50, r'MSE = '+'{:5.4f}'.format(mse_train) , fontsize = 13)\n",
    "ax.text(10,45, r'Training' , fontsize = 13)\n",
    "ax.set_ylim(0,55)\n",
    "\n",
    "ax = fig.add_subplot(1, 2, 2)\n",
    "ax.scatter(test_y, pred_y_test, lw = 0.3)\n",
    "ax.plot([test_y.min(), test_y.max()], [test_y.min(), test_y.max()], 'k--', lw = 3)\n",
    "ax.set_xlabel('Measured Target Value')\n",
    "#ax.set_ylabel('Predicted Target Value')\n",
    "ax.text(10,50, r'MSE = '+'{:5.2f}'.format(mse_test) , fontsize = 13)\n",
    "ax.text(10,45, r'Dev' , fontsize = 13)\n",
    "ax.set_ylim(0,55)\n",
    "\n",
    "\n",
    "fig.savefig('Figure_5-X'+'.png', format='png', dpi=300,bbox_inches='tight')"
   ]
  },
  {
   "cell_type": "markdown",
   "metadata": {},
   "source": [
    "### MSE (Train and dev) vs. lambd"
   ]
  },
  {
   "cell_type": "code",
   "execution_count": 126,
   "metadata": {},
   "outputs": [
    {
     "name": "stdout",
     "output_type": "stream",
     "text": [
      "Reached epoch 0 cost J = 238.461\n",
      "Training MSE =  238.461\n",
      "Dev MSE      =  205.534\n",
      "Reached epoch 1000 cost J = 1.08883\n",
      "Training MSE =  1.08883\n",
      "Dev MSE      =  14.227\n",
      "Reached epoch 0 cost J = 238.499\n",
      "Training MSE =  238.499\n",
      "Dev MSE      =  205.454\n",
      "Reached epoch 1000 cost J = 3.22065\n",
      "Training MSE =  3.22065\n",
      "Dev MSE      =  14.1694\n",
      "Reached epoch 0 cost J = 238.648\n",
      "Training MSE =  238.648\n",
      "Dev MSE      =  205.747\n",
      "Reached epoch 1000 cost J = 5.09144\n",
      "Training MSE =  5.09144\n",
      "Dev MSE      =  13.6763\n",
      "Reached epoch 0 cost J = 242.053\n",
      "Training MSE =  242.053\n",
      "Dev MSE      =  209.079\n",
      "Reached epoch 1000 cost J = 16.7152\n",
      "Training MSE =  16.7152\n",
      "Dev MSE      =  19.0302\n",
      "Reached epoch 0 cost J = 248.026\n",
      "Training MSE =  248.026\n",
      "Dev MSE      =  214.921\n",
      "Reached epoch 1000 cost J = 23.7701\n",
      "Training MSE =  23.7701\n",
      "Dev MSE      =  21.5193\n",
      "Reached epoch 0 cost J = 258.858\n",
      "Training MSE =  258.858\n",
      "Dev MSE      =  225.645\n",
      "Reached epoch 1000 cost J = 47.2566\n",
      "Training MSE =  47.2566\n",
      "Dev MSE      =  39.6164\n"
     ]
    }
   ],
   "source": [
    "sess, cost_history = model(learning_r = 0.01, \n",
    "                                training_epochs = 1000, \n",
    "                                features = train_x, \n",
    "                                target = train_y,\n",
    "                                logging_step = 1000,\n",
    "                                lambd_val = 0.1)\n",
    "\n",
    "sess, cost_history = model(learning_r = 0.01, \n",
    "                                training_epochs = 1000, \n",
    "                                features = train_x, \n",
    "                                target = train_y,\n",
    "                                logging_step = 1000,\n",
    "                                lambd_val = 0.5)\n",
    "\n",
    "sess, cost_history = model(learning_r = 0.01, \n",
    "                                training_epochs = 1000, \n",
    "                                features = train_x, \n",
    "                                target = train_y,\n",
    "                                logging_step = 1000,\n",
    "                                lambd_val = 1.0)\n",
    "\n",
    "sess, cost_history = model(learning_r = 0.01, \n",
    "                                training_epochs = 1000, \n",
    "                                features = train_x, \n",
    "                                target = train_y,\n",
    "                                logging_step = 1000,\n",
    "                                lambd_val = 5.0)\n",
    "\n",
    "sess, cost_history = model(learning_r = 0.01, \n",
    "                                training_epochs = 1000, \n",
    "                                features = train_x, \n",
    "                                target = train_y,\n",
    "                                logging_step = 1000,\n",
    "                                lambd_val = 10.0)\n",
    "\n",
    "\n",
    "sess, cost_history = model(learning_r = 0.01, \n",
    "                                training_epochs = 1000, \n",
    "                                features = train_x, \n",
    "                                target = train_y,\n",
    "                                logging_step = 1000,\n",
    "                                lambd_val = 20.0)"
   ]
  },
  {
   "cell_type": "code",
   "execution_count": 64,
   "metadata": {},
   "outputs": [],
   "source": [
    "lambd_x = [0.1, 0.5, 1.0, 5.0, 10.0, 20.0]\n",
    "mse_train_y = [1.08883, 3.22065, 5.09144, 16.7152, 23.7701, 47.2566]\n",
    "mse_dev_y = [14.227, 14.1694, 13.6763, 19.0302, 21.5193, 39.6164]"
   ]
  },
  {
   "cell_type": "markdown",
   "metadata": {},
   "source": [
    "## Plot of MSE_Train and MSE_dev vs. lambd"
   ]
  },
  {
   "cell_type": "code",
   "execution_count": 193,
   "metadata": {},
   "outputs": [
    {
     "data": {
      "text/plain": [
       "<matplotlib.figure.Figure at 0x21f805102b0>"
      ]
     },
     "metadata": {},
     "output_type": "display_data"
    },
    {
     "data": {
      "image/png": "[encoded data removed]",
      "text/plain": [
       "<matplotlib.figure.Figure at 0x21f800236a0>"
      ]
     },
     "metadata": {},
     "output_type": "display_data"
    }
   ],
   "source": [
    "plt.rc('font', family='arial')\n",
    "plt.rc('xtick', labelsize='x-small')\n",
    "plt.rc('ytick', labelsize='x-small')\n",
    "    \n",
    "plt.tight_layout()\n",
    "\n",
    "fig = plt.figure(figsize=(3.9, 3.1))\n",
    "ax = fig.add_subplot(1, 1, 1)\n",
    "ax.plot(lambd_x, mse_train_y, lw = 2.0, ls = '-', color = 'black', label = 'MSE Train')\n",
    "ax.plot(lambd_x, mse_dev_y, lw = 2.0, ls = '--', color = 'black', label = 'MSE Dev')\n",
    "ax.set_xlabel(r'$\\lambda$')\n",
    "ax.set_ylabel('MSE')\n",
    "#ax.set_ylim(0,25)\n",
    "#ax.set_xlim(0,10)\n",
    "ax.text(0, 30, 'Less\\nregularization', fontsize = 13)\n",
    "ax.text(12.5, 10, 'More\\nregularization', fontsize = 13)\n",
    "plt.legend(bbox_to_anchor=(1.05, 1), loc=2, borderaxespad=0.)\n",
    "\n",
    "\n",
    "fig.savefig('Figure_5-4'+'.png', format='png', dpi=300,bbox_inches='tight')"
   ]
  },
  {
   "cell_type": "markdown",
   "metadata": {},
   "source": [
    "# L1 Regularization"
   ]
  },
  {
   "cell_type": "code",
   "execution_count": 172,
   "metadata": {},
   "outputs": [],
   "source": [
    "tf.reset_default_graph()\n",
    "\n",
    "n_dim = 13\n",
    "n1 = 20\n",
    "n2 = 20\n",
    "n3 = 20\n",
    "n4 = 20\n",
    "n_outputs = 1\n",
    "\n",
    "\n",
    "tf.set_random_seed(5)\n",
    "\n",
    "X = tf.placeholder(tf.float32, [n_dim, None])\n",
    "Y = tf.placeholder(tf.float32, [1, None])\n",
    "\n",
    "learning_rate = tf.placeholder(tf.float32, shape=())\n",
    "lambd = tf.placeholder(tf.float32, shape=())\n",
    "\n",
    "hidden1, W1, b1 = create_layer (X, n1, activation = tf.nn.relu)\n",
    "hidden2, W2, b2 = create_layer (hidden1, n2, activation = tf.nn.relu)\n",
    "hidden3, W3, b3 = create_layer (hidden2, n3, activation = tf.nn.relu)\n",
    "hidden4, W4, b4 = create_layer (hidden3, n4, activation = tf.nn.relu)\n",
    "y_, W5, b5 = create_layer (hidden4, n_outputs, activation = tf.identity)\n",
    "#y_ = tf.nn.softmax(outputs)\n",
    "\n",
    "#cost = - tf.reduce_mean(Y * tf.log(y_)+(1-Y) * tf.log(1-y_))\n",
    "#optimizer = tf.train.GradientDescentOptimizer(learning_rate).minimize(cost)\n",
    "\n",
    "#reg = tf.nn.l1_loss(W1) + tf.nn.l1_loss(W2) + tf.nn.l1_loss(W3) + \\\n",
    "#          tf.nn.l1_loss(W4) + tf.nn.l1_loss(W5)\n",
    "    \n",
    "reg = tf.reduce_sum(tf.abs(W1))+tf.reduce_sum(tf.abs(W2))+tf.reduce_sum(tf.abs(W3))+\\\n",
    "        tf.reduce_sum(tf.abs(W4))+tf.reduce_sum(tf.abs(W5))\n",
    "\n",
    "cost_mse = tf.reduce_mean(tf.square(y_-Y))\n",
    "\n",
    "cost = tf.reduce_mean(cost_mse + lambd*reg)\n",
    "\n",
    "# Adam\n",
    "optimizer = tf.train.AdamOptimizer(learning_rate = learning_rate, beta1 = 0.9, beta2 = 0.999, epsilon = 1e-8).minimize(cost)"
   ]
  },
  {
   "cell_type": "code",
   "execution_count": 173,
   "metadata": {},
   "outputs": [],
   "source": [
    "def model(training_epochs, features, target, logging_step = 100, learning_r = 0.001, lambd_val = 0.1):\n",
    "    sess = tf.Session()\n",
    "    sess.run(tf.global_variables_initializer())\n",
    "\n",
    "    cost_history = []\n",
    "    for epoch in range(training_epochs+1):\n",
    "        \n",
    "        sess.run(optimizer, feed_dict = {X: features, Y: target, learning_rate: learning_r, lambd: lambd_val})\n",
    "        cost_ = sess.run(cost_mse, feed_dict={ X:features, Y: target, learning_rate: learning_r, lambd: lambd_val})\n",
    "        cost_history = np.append(cost_history, cost_)\n",
    "\n",
    "        if (epoch % logging_step == 0):\n",
    "                pred_y_test = sess.run(y_, feed_dict = {X: dev_x, Y: dev_y})\n",
    "                print(\"Reached epoch\",epoch,\"cost J =\", cost_)\n",
    "                print(\"Training MSE = \", cost_)\n",
    "                print(\"Dev MSE      = \", sess.run(cost_mse, feed_dict = {X: dev_x, Y: dev_y}))\n",
    "                \n",
    "    return sess, cost_history"
   ]
  },
  {
   "cell_type": "code",
   "execution_count": 130,
   "metadata": {},
   "outputs": [
    {
     "name": "stdout",
     "output_type": "stream",
     "text": [
      "Reached epoch 0 cost J = 238.378\n",
      "Training MSE =  238.378\n",
      "Dev MSE      =  205.561\n",
      "Reached epoch 1000 cost J = 0.207582\n",
      "Training MSE =  0.207582\n",
      "Dev MSE      =  30.3291\n"
     ]
    }
   ],
   "source": [
    "sess, cost_history = model(learning_r = 0.01, \n",
    "                                training_epochs = 1000, \n",
    "                                features = train_x, \n",
    "                                target = train_y,\n",
    "                                logging_step = 1000,\n",
    "                                lambd_val = 0.0)"
   ]
  },
  {
   "cell_type": "code",
   "execution_count": 131,
   "metadata": {},
   "outputs": [],
   "source": [
    "weights1 = sess.run(W1,  feed_dict = {X: train_x, Y: train_y, learning_rate: 0.01, lambd: 10.0})\n",
    "weights2 = sess.run(W2,  feed_dict = {X: train_x, Y: train_y, learning_rate: 0.01, lambd: 10.0})\n",
    "weights3 = sess.run(W3,  feed_dict = {X: train_x, Y: train_y, learning_rate: 0.01, lambd: 10.0})\n",
    "weights4 = sess.run(W4,  feed_dict = {X: train_x, Y: train_y, learning_rate: 0.01, lambd: 10.0})\n",
    "weights5 = sess.run(W5,  feed_dict = {X: train_x, Y: train_y, learning_rate: 0.01, lambd: 10.0})"
   ]
  },
  {
   "cell_type": "code",
   "execution_count": 134,
   "metadata": {},
   "outputs": [
    {
     "name": "stdout",
     "output_type": "stream",
     "text": [
      "0.0\n",
      "0.25\n",
      "0.75\n",
      "0.25\n",
      "0.0\n"
     ]
    }
   ],
   "source": [
    "print((np.sum(np.abs(weights1)< 1e-3))/weights1.size*100.0)\n",
    "print((np.sum(np.abs(weights2)< 1e-3))/weights2.size*100.0)\n",
    "print((np.sum(np.abs(weights3)< 1e-3))/weights3.size*100.0)\n",
    "print((np.sum(np.abs(weights4)< 1e-3))/weights4.size*100.0)\n",
    "print((np.sum(np.abs(weights5)< 1e-3))/weights5.size*100.0)"
   ]
  },
  {
   "cell_type": "code",
   "execution_count": 106,
   "metadata": {},
   "outputs": [
    {
     "name": "stdout",
     "output_type": "stream",
     "text": [
      "52.3076923077\n",
      "48.75\n",
      "45.75\n",
      "48.0\n",
      "20.0\n"
     ]
    }
   ],
   "source": [
    "print(eval_weights_stats(weights1)/weights1.size*100.0)\n",
    "print(eval_weights_stats(weights2)/weights2.size*100.0)\n",
    "print(eval_weights_stats(weights3)/weights3.size*100.0)\n",
    "print(eval_weights_stats(weights4)/weights4.size*100.0)\n",
    "print(eval_weights_stats(weights5)/weights5.size*100.0)"
   ]
  },
  {
   "cell_type": "code",
   "execution_count": 107,
   "metadata": {},
   "outputs": [
    {
     "data": {
      "text/plain": [
       "<matplotlib.figure.Figure at 0x21ffec176d8>"
      ]
     },
     "metadata": {},
     "output_type": "display_data"
    },
    {
     "data": {
      "image/png": "[encoded data removed]",
      "text/plain": [
       "<matplotlib.figure.Figure at 0x21f801ad550>"
      ]
     },
     "metadata": {},
     "output_type": "display_data"
    }
   ],
   "source": [
    "plt.rc('font', family='arial')\n",
    "plt.rc('xtick', labelsize='x-small')\n",
    "plt.rc('ytick', labelsize='x-small')\n",
    "    \n",
    "plt.tight_layout()\n",
    "\n",
    "fig = plt.figure(figsize=(7.8, 6.2))\n",
    "ax = fig.add_subplot(2, 2, 1)\n",
    "plt.hist(weights1.flatten(), bins = 10)\n",
    "ax.set_xlabel('Weights Layer 1')\n",
    "ax.set_ylabel('Count')\n",
    "\n",
    "#ax.set_xlim(0,0.4)\n",
    "\n",
    "ax = fig.add_subplot(2, 2, 2)\n",
    "plt.hist(weights2.flatten(), bins = 10)\n",
    "ax.set_xlabel('Weights Layer 2')\n",
    "ax.set_ylabel('Count')\n",
    "#ax.set_xlim(0,0.4)\n",
    "\n",
    "ax = fig.add_subplot(2, 2, 3)\n",
    "plt.hist(weights3.flatten(), bins = 10)\n",
    "ax.set_xlabel('Weights Layer 3')\n",
    "ax.set_ylabel('Count')\n",
    "#ax.set_xlim(0,0.4)\n",
    "\n",
    "ax = fig.add_subplot(2, 2, 4)\n",
    "plt.hist(weights4.flatten(), bins = 10)\n",
    "ax.set_xlabel('Weights Layer 4')\n",
    "ax.set_ylabel('Count')\n",
    "#ax.set_xlim(0,0.4)\n",
    "\n",
    "#plt.title ('Weights Distribution')\n",
    "\n",
    "fig.savefig('Figure_5-X'+'.png', format='png', dpi=300,bbox_inches='tight')"
   ]
  },
  {
   "cell_type": "code",
   "execution_count": 183,
   "metadata": {},
   "outputs": [
    {
     "name": "stdout",
     "output_type": "stream",
     "text": [
      "Reached epoch 0 cost J = 245.128\n",
      "Training MSE =  245.128\n",
      "Dev MSE      =  212.066\n",
      "Reached epoch 1000 cost J = 19.9295\n",
      "Training MSE =  19.9295\n",
      "Dev MSE      =  22.0879\n",
      "Reached epoch 2000 cost J = 19.8654\n",
      "Training MSE =  19.8654\n",
      "Dev MSE      =  22.109\n",
      "Reached epoch 3000 cost J = 19.9419\n",
      "Training MSE =  19.9419\n",
      "Dev MSE      =  21.9349\n",
      "Reached epoch 4000 cost J = 19.9098\n",
      "Training MSE =  19.9098\n",
      "Dev MSE      =  21.9099\n",
      "Reached epoch 5000 cost J = 19.9313\n",
      "Training MSE =  19.9313\n",
      "Dev MSE      =  22.1472\n"
     ]
    }
   ],
   "source": [
    "sess, cost_history = model(learning_r = 0.01, \n",
    "                                training_epochs = 5000, \n",
    "                                features = train_x, \n",
    "                                target = train_y,\n",
    "                                logging_step = 1000,\n",
    "                                lambd_val = 3.0)"
   ]
  },
  {
   "cell_type": "code",
   "execution_count": 184,
   "metadata": {},
   "outputs": [],
   "source": [
    "weights1_ = sess.run(W1,  feed_dict = {X: train_x, Y: train_y, learning_rate: 0.01, lambd: 10.0})\n",
    "weights2_ = sess.run(W2,  feed_dict = {X: train_x, Y: train_y, learning_rate: 0.01, lambd: 10.0})\n",
    "weights3_ = sess.run(W3,  feed_dict = {X: train_x, Y: train_y, learning_rate: 0.01, lambd: 10.0})\n",
    "weights4_ = sess.run(W4,  feed_dict = {X: train_x, Y: train_y, learning_rate: 0.01, lambd: 10.0})\n",
    "weights5_ = sess.run(W5,  feed_dict = {X: train_x, Y: train_y, learning_rate: 0.01, lambd: 10.0})"
   ]
  },
  {
   "cell_type": "code",
   "execution_count": 185,
   "metadata": {},
   "outputs": [
    {
     "name": "stdout",
     "output_type": "stream",
     "text": [
      "55.3846153846\n",
      "50.75\n",
      "50.75\n",
      "47.25\n",
      "40.0\n"
     ]
    }
   ],
   "source": [
    "print((np.sum(np.abs(weights1_)< 1e-3))/weights1_.size*100.0)\n",
    "print((np.sum(np.abs(weights2_)< 1e-3))/weights2_.size*100.0)\n",
    "print((np.sum(np.abs(weights3_)< 1e-3))/weights3_.size*100.0)\n",
    "print((np.sum(np.abs(weights4_)< 1e-3))/weights4_.size*100.0)\n",
    "print((np.sum(np.abs(weights5_)< 1e-3))/weights5_.size*100.0)"
   ]
  },
  {
   "cell_type": "markdown",
   "metadata": {},
   "source": [
    "# How many weights are \"exactly\" zero?"
   ]
  },
  {
   "cell_type": "code",
   "execution_count": 189,
   "metadata": {},
   "outputs": [
    {
     "data": {
      "text/plain": [
       "8.1549551e-06"
      ]
     },
     "execution_count": 189,
     "metadata": {},
     "output_type": "execute_result"
    }
   ],
   "source": [
    "np.min(np.abs(weights1_))"
   ]
  },
  {
   "cell_type": "code",
   "execution_count": 192,
   "metadata": {},
   "outputs": [
    {
     "name": "stdout",
     "output_type": "stream",
     "text": [
      "0.384615384615\n",
      "0.5\n",
      "0.5\n",
      "1.0\n",
      "5.0\n"
     ]
    }
   ],
   "source": [
    "print((np.sum(np.abs(weights1_)<1e-5))/weights1_.size*100.0)\n",
    "print((np.sum(np.abs(weights2_)<1e-5))/weights2_.size*100.0)\n",
    "print((np.sum(np.abs(weights3_)<1e-5))/weights3_.size*100.0)\n",
    "print((np.sum(np.abs(weights4_)< 1e-5))/weights4_.size*100.0)\n",
    "print((np.sum(np.abs(weights5_)< 1e-5))/weights5_.size*100.0)"
   ]
  },
  {
   "cell_type": "code",
   "execution_count": 127,
   "metadata": {},
   "outputs": [
    {
     "name": "stdout",
     "output_type": "stream",
     "text": [
      "252\n",
      "399\n",
      "398\n",
      "397\n"
     ]
    }
   ],
   "source": [
    "print(np.sum(np.abs(weights1_) < 5e-3))\n",
    "print(np.sum(np.abs(weights2_) < 5e-3))\n",
    "print(np.sum(np.abs(weights3_) < 5e-3))\n",
    "print(np.sum(np.abs(weights4_) < 5e-3))"
   ]
  },
  {
   "cell_type": "markdown",
   "metadata": {},
   "source": [
    "## histogram comparison"
   ]
  },
  {
   "cell_type": "markdown",
   "metadata": {},
   "source": [
    "# Figure 5-8"
   ]
  },
  {
   "cell_type": "code",
   "execution_count": 116,
   "metadata": {},
   "outputs": [
    {
     "data": {
      "text/plain": [
       "<matplotlib.figure.Figure at 0x21f801e68d0>"
      ]
     },
     "metadata": {},
     "output_type": "display_data"
    },
    {
     "data": {
      "image/png": "[encoded data removed]",
      "text/plain": [
       "<matplotlib.figure.Figure at 0x21f801e62b0>"
      ]
     },
     "metadata": {},
     "output_type": "display_data"
    }
   ],
   "source": [
    "plt.rc('font', family='arial')\n",
    "plt.rc('xtick', labelsize='small')\n",
    "plt.rc('ytick', labelsize='small')\n",
    "    \n",
    "plt.tight_layout()\n",
    "\n",
    "fig = plt.figure(figsize=(7.8, 6.2))\n",
    "ax = fig.add_subplot(2, 2, 1)\n",
    "plt.hist(weights1.flatten(), alpha = 0.25, bins = 10, color = 'black')\n",
    "plt.hist(weights1_.flatten(), alpha = 0.5, bins = 5, color = 'black')\n",
    "#ax.set_xlabel('Weights Layer 1')\n",
    "ax.set_ylabel('Count')\n",
    "ax.text(-1.2, 175, r'Layer 1', fontsize = 13)\n",
    "\n",
    "#ax.set_xlim(-0.4,0.4)\n",
    "\n",
    "ax = fig.add_subplot(2, 2, 2)\n",
    "plt.hist(weights2.flatten(), alpha = 0.25, bins = 10, color = 'black')\n",
    "plt.hist(weights2_.flatten(), alpha = 0.5, bins = 5, color = 'black')\n",
    "#ax.set_xlabel('Weights Layer 2')\n",
    "ax.set_ylabel('Count')\n",
    "ax.text(-1, 220, r'Layer 2', fontsize = 13)\n",
    "#ax.set_xlim(-0.4,0.4)\n",
    "\n",
    "ax = fig.add_subplot(2, 2, 3)\n",
    "plt.hist(weights3.flatten(), alpha = 0.25, bins = 10, color = 'black')\n",
    "plt.hist(weights3_.flatten(), alpha = 0.5, bins = 5, color = 'black')\n",
    "ax.set_xlabel('Weights')\n",
    "ax.set_ylabel('Count')\n",
    "ax.text(-1.8, 300, r'Layer 3', fontsize = 13)\n",
    "#ax.set_xlim(-0.4,0.4)\n",
    "\n",
    "ax = fig.add_subplot(2, 2, 4)\n",
    "#plt.hist([weights4.flatten(),weights4_.flatten()], bins = 10)\n",
    "plt.hist(weights4.flatten(), alpha = 0.25, bins = 10, color = 'black')\n",
    "plt.hist(weights4_.flatten(), alpha = 0.5, bins = 5, color = 'black')\n",
    "ax.set_xlabel('Weights')\n",
    "ax.set_ylabel('Count')\n",
    "ax.text(-2.7, 300, r'Layer 4', fontsize = 13)\n",
    "#ax.set_xlim(-0.4,0.4)\n",
    "\n",
    "fig.savefig('Figure_5-8'+'.png', format='png', dpi=300,bbox_inches='tight')"
   ]
  },
  {
   "cell_type": "code",
   "execution_count": 121,
   "metadata": {
    "scrolled": false
   },
   "outputs": [
    {
     "data": {
      "text/plain": [
       "Text(-2.7,300,'Layer 4')"
      ]
     },
     "execution_count": 121,
     "metadata": {},
     "output_type": "execute_result"
    },
    {
     "data": {
      "text/plain": [
       "<matplotlib.figure.Figure at 0x21ffafb2f98>"
      ]
     },
     "metadata": {},
     "output_type": "display_data"
    },
    {
     "data": {
      "image/png": "[encoded data removed]",
      "text/plain": [
       "<matplotlib.figure.Figure at 0x21ffafb27b8>"
      ]
     },
     "metadata": {},
     "output_type": "display_data"
    }
   ],
   "source": [
    "plt.rc('font', family='arial')\n",
    "plt.rc('xtick', labelsize='small')\n",
    "plt.rc('ytick', labelsize='small')\n",
    "    \n",
    "plt.tight_layout()\n",
    "\n",
    "fig = plt.figure(figsize=(7.8, 6.2))\n",
    "ax = fig.add_subplot(2, 2, 1)\n",
    "plt.hist(weights1.flatten(), alpha = 0.25, bins = 10, color = 'black')\n",
    "plt.hist(weights1_.flatten(), alpha = 0.5, bins = 50, color = 'black')\n",
    "#ax.set_xlabel('Weights Layer 1')\n",
    "ax.set_ylabel('Count')\n",
    "ax.set_xlim(-0.3,0.3)\n",
    "ax.set_ylim(0, 10)\n",
    "#ax.text(-1.2, 175, r'Layer 1', fontsize = 13)\n",
    "\n",
    "#ax.set_xlim(-0.4,0.4)\n",
    "\n",
    "ax = fig.add_subplot(2, 2, 2)\n",
    "plt.hist(weights2.flatten(), alpha = 0.25, bins = 10, color = 'black')\n",
    "plt.hist(weights2_.flatten(), alpha = 0.5, bins = 50, color = 'black')\n",
    "#ax.set_xlabel('Weights Layer 2')\n",
    "ax.set_ylabel('Count')\n",
    "ax.text(-1, 220, r'Layer 2', fontsize = 13)\n",
    "#ax.set_xlim(-0.4,0.4)\n",
    "\n",
    "ax = fig.add_subplot(2, 2, 3)\n",
    "plt.hist(weights3.flatten(), alpha = 0.25, bins = 10, color = 'black')\n",
    "plt.hist(weights3_.flatten(), alpha = 0.5, bins = 50, color = 'black')\n",
    "ax.set_xlabel('Weights')\n",
    "ax.set_ylabel('Count')\n",
    "ax.text(-1.8, 300, r'Layer 3', fontsize = 13)\n",
    "#ax.set_xlim(-0.4,0.4)\n",
    "\n",
    "ax = fig.add_subplot(2, 2, 4)\n",
    "#plt.hist([weights4.flatten(),weights4_.flatten()], bins = 10)\n",
    "plt.hist(weights4.flatten(), alpha = 0.25, bins = 10, color = 'black')\n",
    "plt.hist(weights4_.flatten(), alpha = 0.5, bins = 50, color = 'black')\n",
    "ax.set_xlabel('Weights')\n",
    "ax.set_ylabel('Count')\n",
    "ax.text(-2.7, 300, r'Layer 4', fontsize = 13)\n",
    "#ax.set_xlim(-0.4,0.4)\n"
   ]
  },
  {
   "cell_type": "markdown",
   "metadata": {},
   "source": [
    "# Dropout Regularization"
   ]
  },
  {
   "cell_type": "code",
   "execution_count": 9,
   "metadata": {},
   "outputs": [],
   "source": [
    "tf.reset_default_graph()\n",
    "\n",
    "n_dim = 13\n",
    "n1 = 20\n",
    "n2 = 20\n",
    "n3 = 20\n",
    "n4 = 20\n",
    "n_outputs = 1\n",
    "\n",
    "\n",
    "tf.set_random_seed(5)\n",
    "\n",
    "X = tf.placeholder(tf.float32, [n_dim, None])\n",
    "Y = tf.placeholder(tf.float32, [1, None])\n",
    "\n",
    "learning_rate = tf.placeholder(tf.float32, shape=())\n",
    "keep_prob = tf.placeholder(tf.float32, shape=())\n",
    "\n",
    "hidden1, W1, b1 = create_layer (X, n1, activation = tf.nn.relu)\n",
    "hidden1_drop = tf.nn.dropout(hidden1, keep_prob)\n",
    "hidden2, W2, b2 = create_layer (hidden1_drop, n2, activation = tf.nn.relu)\n",
    "hidden2_drop = tf.nn.dropout(hidden2, keep_prob)\n",
    "hidden3, W3, b3 = create_layer (hidden2, n3, activation = tf.nn.relu)\n",
    "hidden3_drop = tf.nn.dropout(hidden3, keep_prob)\n",
    "hidden4, W4, b4 = create_layer (hidden3, n4, activation = tf.nn.relu)\n",
    "hidden4_drop = tf.nn.dropout(hidden4, keep_prob)\n",
    "y_, W5, b5 = create_layer (hidden4_drop, n_outputs, activation = tf.identity)\n",
    "  \n",
    "cost = tf.reduce_mean(tf.square(y_-Y))\n",
    "\n",
    "optimizer = tf.train.AdamOptimizer(learning_rate = learning_rate, beta1 = 0.9, beta2 = 0.999, epsilon = 1e-8).minimize(cost)"
   ]
  },
  {
   "cell_type": "code",
   "execution_count": 16,
   "metadata": {},
   "outputs": [],
   "source": [
    "def model(training_epochs, features, target, logging_step = 100, learning_r = 0.001,  keep_prob_val = 0.5):\n",
    "    sess = tf.Session()\n",
    "    sess.run(tf.global_variables_initializer())\n",
    "\n",
    "    cost_history = []\n",
    "    msetrain = []\n",
    "    msedev = []\n",
    "    for epoch in range(training_epochs+1):\n",
    "        \n",
    "        sess.run(optimizer, feed_dict = {X: features, Y: target, learning_rate: learning_r, keep_prob: keep_prob_val})\n",
    "        cost_ = sess.run(cost, feed_dict={ X:features, Y: target, learning_rate: learning_r, keep_prob: keep_prob_val})\n",
    "        cost_history = np.append(cost_history, cost_)\n",
    "        msetrain = np.append(msetrain, cost_)\n",
    "        msedev = np.append(msedev, sess.run(cost, feed_dict = {X: dev_x, Y: dev_y, keep_prob: 1.0}))\n",
    "\n",
    "        if (epoch % logging_step == 0):\n",
    "                pred_y_test = sess.run(y_, feed_dict = {X: dev_x, Y: dev_y, keep_prob: keep_prob_val})\n",
    "                print(\"Reached epoch\",epoch,\"cost J =\", cost_)\n",
    "                print(\"Training MSE = \", cost_)\n",
    "                print(\"Dev MSE      = \", sess.run(cost, feed_dict = {X: dev_x, Y: dev_y, keep_prob: 1.0}))\n",
    "                \n",
    "    return sess, cost_history, msetrain, msedev"
   ]
  },
  {
   "cell_type": "code",
   "execution_count": 12,
   "metadata": {
    "scrolled": false
   },
   "outputs": [
    {
     "name": "stdout",
     "output_type": "stream",
     "text": [
      "Reached epoch 0 cost J = 522.358\n",
      "Training MSE =  522.358\n",
      "Dev MSE      =  496.344\n",
      "Reached epoch 1000 cost J = 1.07018\n",
      "Training MSE =  1.07018\n",
      "Dev MSE      =  14.0924\n",
      "Reached epoch 2000 cost J = 0.356435\n",
      "Training MSE =  0.356435\n",
      "Dev MSE      =  14.493\n",
      "Reached epoch 3000 cost J = 0.130705\n",
      "Training MSE =  0.130705\n",
      "Dev MSE      =  15.5712\n",
      "Reached epoch 4000 cost J = 0.0556582\n",
      "Training MSE =  0.0556582\n",
      "Dev MSE      =  18.7195\n",
      "Reached epoch 5000 cost J = 0.0340588\n",
      "Training MSE =  0.0340588\n",
      "Dev MSE      =  20.8336\n"
     ]
    },
    {
     "ename": "ValueError",
     "evalue": "too many values to unpack (expected 2)",
     "output_type": "error",
     "traceback": [
      "\u001b[1;31m---------------------------------------------------------------------------\u001b[0m",
      "\u001b[1;31mValueError\u001b[0m                                Traceback (most recent call last)",
      "\u001b[1;32m<ipython-input-12-77c2bad1e7a4>\u001b[0m in \u001b[0;36m<module>\u001b[1;34m()\u001b[0m\n\u001b[0;32m      4\u001b[0m                                 \u001b[0mtarget\u001b[0m \u001b[1;33m=\u001b[0m \u001b[0mtrain_y\u001b[0m\u001b[1;33m,\u001b[0m\u001b[1;33m\u001b[0m\u001b[0m\n\u001b[0;32m      5\u001b[0m                                 \u001b[0mlogging_step\u001b[0m \u001b[1;33m=\u001b[0m \u001b[1;36m1000\u001b[0m\u001b[1;33m,\u001b[0m\u001b[1;33m\u001b[0m\u001b[0m\n\u001b[1;32m----> 6\u001b[1;33m                                 keep_prob_val = 1.0)\n\u001b[0m",
      "\u001b[1;31mValueError\u001b[0m: too many values to unpack (expected 2)"
     ]
    }
   ],
   "source": [
    "sess, cost_history, mset, msed = model(learning_r = 0.01, \n",
    "                                training_epochs = 5000, \n",
    "                                features = train_x, \n",
    "                                target = train_y,\n",
    "                                logging_step = 1000,\n",
    "                                keep_prob_val = 1.0)"
   ]
  },
  {
   "cell_type": "code",
   "execution_count": null,
   "metadata": {},
   "outputs": [],
   "source": [
    "sess, cost_history05 = model(learning_r = 0.01, \n",
    "                                training_epochs = 5000, \n",
    "                                features = train_x, \n",
    "                                target = train_y,\n",
    "                                logging_step = 1000,\n",
    "                                keep_prob_val = 0.5)"
   ]
  },
  {
   "cell_type": "code",
   "execution_count": 17,
   "metadata": {},
   "outputs": [
    {
     "name": "stdout",
     "output_type": "stream",
     "text": [
      "Reached epoch 0 cost J = 559.823\n",
      "Training MSE =  559.823\n",
      "Dev MSE      =  501.082\n",
      "Reached epoch 1000 cost J = 51.1187\n",
      "Training MSE =  51.1187\n",
      "Dev MSE      =  76.1653\n",
      "Reached epoch 2000 cost J = 26.4444\n",
      "Training MSE =  26.4444\n",
      "Dev MSE      =  67.5\n",
      "Reached epoch 3000 cost J = 19.4077\n",
      "Training MSE =  19.4077\n",
      "Dev MSE      =  57.8129\n",
      "Reached epoch 4000 cost J = 19.8314\n",
      "Training MSE =  19.8314\n",
      "Dev MSE      =  55.39\n",
      "Reached epoch 5000 cost J = 22.2571\n",
      "Training MSE =  22.2571\n",
      "Dev MSE      =  52.4668\n",
      "Reached epoch 6000 cost J = 18.3457\n",
      "Training MSE =  18.3457\n",
      "Dev MSE      =  54.4797\n",
      "Reached epoch 7000 cost J = 23.0359\n",
      "Training MSE =  23.0359\n",
      "Dev MSE      =  47.3276\n",
      "Reached epoch 8000 cost J = 16.7558\n",
      "Training MSE =  16.7558\n",
      "Dev MSE      =  51.9848\n"
     ]
    }
   ],
   "source": [
    "sess, cost_history04, mset04, msed04 = model(learning_r = 0.01, \n",
    "                                training_epochs = 8000, \n",
    "                                features = train_x, \n",
    "                                target = train_y,\n",
    "                                logging_step = 1000,\n",
    "                                keep_prob_val = 0.4)"
   ]
  },
  {
   "cell_type": "code",
   "execution_count": 14,
   "metadata": {},
   "outputs": [
    {
     "ename": "NameError",
     "evalue": "name 'cost_history' is not defined",
     "output_type": "error",
     "traceback": [
      "\u001b[1;31m---------------------------------------------------------------------------\u001b[0m",
      "\u001b[1;31mNameError\u001b[0m                                 Traceback (most recent call last)",
      "\u001b[1;32m<ipython-input-14-3a130d8966d5>\u001b[0m in \u001b[0;36m<module>\u001b[1;34m()\u001b[0m\n\u001b[0;32m      7\u001b[0m \u001b[0mfig\u001b[0m \u001b[1;33m=\u001b[0m \u001b[0mplt\u001b[0m\u001b[1;33m.\u001b[0m\u001b[0mfigure\u001b[0m\u001b[1;33m(\u001b[0m\u001b[0mfigsize\u001b[0m\u001b[1;33m=\u001b[0m\u001b[1;33m(\u001b[0m\u001b[1;36m3.9\u001b[0m\u001b[1;33m,\u001b[0m \u001b[1;36m3.1\u001b[0m\u001b[1;33m)\u001b[0m\u001b[1;33m)\u001b[0m\u001b[1;33m\u001b[0m\u001b[0m\n\u001b[0;32m      8\u001b[0m \u001b[0max\u001b[0m \u001b[1;33m=\u001b[0m \u001b[0mfig\u001b[0m\u001b[1;33m.\u001b[0m\u001b[0madd_subplot\u001b[0m\u001b[1;33m(\u001b[0m\u001b[1;36m1\u001b[0m\u001b[1;33m,\u001b[0m \u001b[1;36m1\u001b[0m\u001b[1;33m,\u001b[0m \u001b[1;36m1\u001b[0m\u001b[1;33m)\u001b[0m\u001b[1;33m\u001b[0m\u001b[0m\n\u001b[1;32m----> 9\u001b[1;33m \u001b[0max\u001b[0m\u001b[1;33m.\u001b[0m\u001b[0mplot\u001b[0m\u001b[1;33m(\u001b[0m\u001b[0mcost_history\u001b[0m\u001b[1;33m,\u001b[0m \u001b[0mlw\u001b[0m \u001b[1;33m=\u001b[0m \u001b[1;36m2.0\u001b[0m\u001b[1;33m,\u001b[0m \u001b[0mls\u001b[0m \u001b[1;33m=\u001b[0m \u001b[1;34m'-'\u001b[0m\u001b[1;33m,\u001b[0m \u001b[0mcolor\u001b[0m \u001b[1;33m=\u001b[0m \u001b[1;34m'black'\u001b[0m\u001b[1;33m,\u001b[0m \u001b[0mlabel\u001b[0m \u001b[1;33m=\u001b[0m \u001b[1;34m'Without regularisation'\u001b[0m\u001b[1;33m)\u001b[0m\u001b[1;33m\u001b[0m\u001b[0m\n\u001b[0m\u001b[0;32m     10\u001b[0m \u001b[0max\u001b[0m\u001b[1;33m.\u001b[0m\u001b[0mplot\u001b[0m\u001b[1;33m(\u001b[0m\u001b[0mcost_history04\u001b[0m\u001b[1;33m,\u001b[0m \u001b[0mlw\u001b[0m \u001b[1;33m=\u001b[0m \u001b[1;36m2.0\u001b[0m\u001b[1;33m,\u001b[0m \u001b[0mls\u001b[0m \u001b[1;33m=\u001b[0m \u001b[1;34m'--'\u001b[0m\u001b[1;33m,\u001b[0m \u001b[0mcolor\u001b[0m \u001b[1;33m=\u001b[0m \u001b[1;34m'black'\u001b[0m\u001b[1;33m,\u001b[0m \u001b[0mlabel\u001b[0m \u001b[1;33m=\u001b[0m \u001b[1;34m'With regularisation'\u001b[0m\u001b[1;33m)\u001b[0m\u001b[1;33m\u001b[0m\u001b[0m\n\u001b[0;32m     11\u001b[0m \u001b[1;31m#ax.plot(lambd_x, mse_dev_y, lw = 2.0, ls = '--', color = 'black', label = 'MSE Dev')\u001b[0m\u001b[1;33m\u001b[0m\u001b[1;33m\u001b[0m\u001b[0m\n",
      "\u001b[1;31mNameError\u001b[0m: name 'cost_history' is not defined"
     ]
    },
    {
     "data": {
      "text/plain": [
       "<matplotlib.figure.Figure at 0x233b0467c18>"
      ]
     },
     "metadata": {},
     "output_type": "display_data"
    },
    {
     "data": {
      "image/png": "[encoded data removed]",
      "text/plain": [
       "<matplotlib.figure.Figure at 0x233b0467cf8>"
      ]
     },
     "metadata": {},
     "output_type": "display_data"
    }
   ],
   "source": [
    "plt.rc('font', family='arial')\n",
    "plt.rc('xtick', labelsize='x-small')\n",
    "plt.rc('ytick', labelsize='x-small')\n",
    "    \n",
    "plt.tight_layout()\n",
    "\n",
    "fig = plt.figure(figsize=(3.9, 3.1))\n",
    "ax = fig.add_subplot(1, 1, 1)\n",
    "ax.plot(cost_history, lw = 2.0, ls = '-', color = 'black', label = 'Without regularisation')\n",
    "ax.plot(cost_history04, lw = 2.0, ls = '--', color = 'black', label = 'With regularisation')\n",
    "#ax.plot(lambd_x, mse_dev_y, lw = 2.0, ls = '--', color = 'black', label = 'MSE Dev')\n",
    "ax.set_xlabel(r'Epochs')\n",
    "ax.set_ylabel(r'Cost functioni $J$')\n",
    "ax.set_ylim(0,200)\n",
    "ax.set_xlim(0,2000)\n",
    "#ax.text(0, 30, 'Less\\nregularization', fontsize = 13)\n",
    "#ax.text(12.5, 10, 'More\\nregularization', fontsize = 13)\n",
    "plt.legend(bbox_to_anchor=(1.05, 1), loc=2, borderaxespad=0.)\n",
    "\n",
    "\n",
    "fig.savefig('Figure_5-11'+'.png', format='png', dpi=300,bbox_inches='tight')"
   ]
  },
  {
   "cell_type": "code",
   "execution_count": 18,
   "metadata": {
    "scrolled": true
   },
   "outputs": [
    {
     "data": {
      "text/plain": [
       "<matplotlib.figure.Figure at 0x233b058ccf8>"
      ]
     },
     "metadata": {},
     "output_type": "display_data"
    },
    {
     "data": {
      "image/png": "[encoded data removed]",
      "text/plain": [
       "<matplotlib.figure.Figure at 0x233b058cda0>"
      ]
     },
     "metadata": {},
     "output_type": "display_data"
    }
   ],
   "source": [
    "plt.rc('font', family='arial')\n",
    "plt.rc('xtick', labelsize='x-small')\n",
    "plt.rc('ytick', labelsize='x-small')\n",
    "    \n",
    "plt.tight_layout()\n",
    "\n",
    "fig = plt.figure(figsize=(7.8, 3.1))\n",
    "ax = fig.add_subplot(1, 2, 1)\n",
    "ax.plot(mset04, lw = 2.0, ls = '-', color = 'black', label = r'$MSE_{train}$')\n",
    "#ax.plot(msed, lw = 2.0, ls = '--', color = 'black', label = r'$MSE_{dev}$')\n",
    "#ax.plot(lambd_x, mse_dev_y, lw = 2.0, ls = '--', color = 'black', label = 'MSE Dev')\n",
    "ax.set_xlabel(r'Epochs')\n",
    "ax.set_ylabel(r'Cost functioni $J$')\n",
    "ax.set_ylim(0,200)\n",
    "ax.set_xlim(0,8000)\n",
    "ax.text(1000, 150, r'$MSE_{train}$', fontsize = 13)\n",
    "\n",
    "\n",
    "#ax.text(0, 30, 'Less\\nregularization', fontsize = 13)\n",
    "#ax.text(12.5, 10, 'More\\nregularization', fontsize = 13)\n",
    "\n",
    "\n",
    "\n",
    "ax = fig.add_subplot(1, 2, 2)\n",
    "#ax.plot(mset, lw = 2.0, ls = '-', color = 'black', label = r'$MSE_{train}$')\n",
    "ax.plot(msed04, lw = 2.0, ls = '--', color = 'black', label = r'$MSE_{dev}$')\n",
    "#ax.plot(lambd_x, mse_dev_y, lw = 2.0, ls = '--', color = 'black', label = 'MSE Dev')\n",
    "ax.set_xlabel(r'Epochs')\n",
    "ax.set_ylabel(r'MSE')\n",
    "ax.set_ylim(0,200)\n",
    "ax.set_xlim(0,8000)\n",
    "ax.text(1000, 150, r'$MSE_{dev}$', fontsize = 13)\n",
    "#ax.text(12.5, 10, 'More\\nregularization', fontsize = 13)\n",
    "\n",
    "\n",
    "\n",
    "\n",
    "#plt.legend(bbox_to_anchor=(1.05, 1), loc=2, borderaxespad=0.)\n",
    "\n",
    "\n",
    "fig.savefig('Figure_5-12'+'.png', format='png', dpi=300,bbox_inches='tight')"
   ]
  },
  {
   "cell_type": "code",
   "execution_count": 19,
   "metadata": {},
   "outputs": [
    {
     "name": "stdout",
     "output_type": "stream",
     "text": [
      "Reached epoch 0 cost J = 522.358\n",
      "Training MSE =  522.358\n",
      "Dev MSE      =  496.344\n",
      "Reached epoch 1000 cost J = 1.07018\n",
      "Training MSE =  1.07018\n",
      "Dev MSE      =  14.0924\n",
      "Reached epoch 2000 cost J = 0.356435\n",
      "Training MSE =  0.356435\n",
      "Dev MSE      =  14.493\n",
      "Reached epoch 3000 cost J = 0.130705\n",
      "Training MSE =  0.130705\n",
      "Dev MSE      =  15.5712\n",
      "Reached epoch 4000 cost J = 0.0556582\n",
      "Training MSE =  0.0556582\n",
      "Dev MSE      =  18.7195\n",
      "Reached epoch 5000 cost J = 0.0340588\n",
      "Training MSE =  0.0340588\n",
      "Dev MSE      =  20.8336\n",
      "Reached epoch 6000 cost J = 0.0185474\n",
      "Training MSE =  0.0185474\n",
      "Dev MSE      =  22.4387\n",
      "Reached epoch 7000 cost J = 0.00692613\n",
      "Training MSE =  0.00692613\n",
      "Dev MSE      =  23.3184\n",
      "Reached epoch 8000 cost J = 0.00186478\n",
      "Training MSE =  0.00186478\n",
      "Dev MSE      =  23.4883\n"
     ]
    }
   ],
   "source": [
    "sess, cost_history, mset, msed = model(learning_r = 0.01, \n",
    "                                training_epochs = 8000, \n",
    "                                features = train_x, \n",
    "                                target = train_y,\n",
    "                                logging_step = 1000,\n",
    "                                keep_prob_val = 1.0)"
   ]
  },
  {
   "cell_type": "code",
   "execution_count": 20,
   "metadata": {},
   "outputs": [
    {
     "data": {
      "text/plain": [
       "<matplotlib.figure.Figure at 0x233b4095668>"
      ]
     },
     "metadata": {},
     "output_type": "display_data"
    },
    {
     "data": {
      "image/png": "[encoded data removed]",
      "text/plain": [
       "<matplotlib.figure.Figure at 0x233b4095c88>"
      ]
     },
     "metadata": {},
     "output_type": "display_data"
    }
   ],
   "source": [
    "plt.rc('font', family='arial')\n",
    "plt.rc('xtick', labelsize='x-small')\n",
    "plt.rc('ytick', labelsize='x-small')\n",
    "    \n",
    "plt.tight_layout()\n",
    "\n",
    "fig = plt.figure(figsize=(7.8, 3.1))\n",
    "ax = fig.add_subplot(1, 2, 1)\n",
    "ax.plot(mset, lw = 2.0, ls = '-', color = 'black', label = r'$MSE_{train}$')\n",
    "#ax.plot(msed, lw = 2.0, ls = '--', color = 'black', label = r'$MSE_{dev}$')\n",
    "#ax.plot(lambd_x, mse_dev_y, lw = 2.0, ls = '--', color = 'black', label = 'MSE Dev')\n",
    "ax.set_xlabel(r'Epochs')\n",
    "ax.set_ylabel(r'Cost functioni $J$')\n",
    "ax.set_ylim(0,50)\n",
    "ax.set_xlim(0,8000)\n",
    "ax.text(1000, 30, r'$MSE_{train}$', fontsize = 13)\n",
    "\n",
    "\n",
    "#ax.text(0, 30, 'Less\\nregularization', fontsize = 13)\n",
    "#ax.text(12.5, 10, 'More\\nregularization', fontsize = 13)\n",
    "\n",
    "\n",
    "\n",
    "ax = fig.add_subplot(1, 2, 2)\n",
    "#ax.plot(mset, lw = 2.0, ls = '-', color = 'black', label = r'$MSE_{train}$')\n",
    "ax.plot(msed, lw = 2.0, ls = '--', color = 'black', label = r'$MSE_{dev}$')\n",
    "#ax.plot(lambd_x, mse_dev_y, lw = 2.0, ls = '--', color = 'black', label = 'MSE Dev')\n",
    "ax.set_xlabel(r'Epochs')\n",
    "ax.set_ylabel(r'MSE')\n",
    "ax.set_ylim(0,50)\n",
    "ax.set_xlim(0,8000)\n",
    "ax.text(1000, 30, r'$MSE_{dev}$', fontsize = 13)\n",
    "#ax.text(12.5, 10, 'More\\nregularization', fontsize = 13)\n",
    "\n",
    "\n",
    "\n",
    "\n",
    "#plt.legend(bbox_to_anchor=(1.05, 1), loc=2, borderaxespad=0.)\n",
    "\n",
    "\n",
    "fig.savefig('Figure_5-13'+'.png', format='png', dpi=300,bbox_inches='tight')"
   ]
  },
  {
   "cell_type": "code",
   "execution_count": 66,
   "metadata": {},
   "outputs": [
    {
     "data": {
      "text/plain": [
       "<matplotlib.figure.Figure at 0x1f69382ba90>"
      ]
     },
     "metadata": {},
     "output_type": "display_data"
    },
    {
     "data": {
      "image/png": "[encoded data removed]",
      "text/plain": [
       "<matplotlib.figure.Figure at 0x1f69382bda0>"
      ]
     },
     "metadata": {},
     "output_type": "display_data"
    }
   ],
   "source": [
    "plt.rc('font', family='arial')\n",
    "plt.rc('xtick', labelsize='x-small')\n",
    "plt.rc('ytick', labelsize='x-small')\n",
    "    \n",
    "plt.tight_layout()\n",
    "\n",
    "fig = plt.figure(figsize=(7.8, 3.1))\n",
    "ax = fig.add_subplot(1, 2, 1)\n",
    "ax.plot(mset, lw = 2.0, ls = '-', color = 'black', label = r'$MSE_{train}$')\n",
    "ax.plot(msed, lw = 2.0, ls = '-', color = 'gray', label = r'$MSE_{dev}$')\n",
    "#ax.plot(lambd_x, mse_dev_y, lw = 2.0, ls = '--', color = 'black', label = 'MSE Dev')\n",
    "ax.set_xlabel(r'Epochs')\n",
    "ax.set_ylabel(r'MSE')\n",
    "ax.set_ylim(0,50)\n",
    "ax.set_xlim(0,8000)\n",
    "#ax.text(1000, 30, r'$MSE_{train}$', fontsize = 13)\n",
    "\n",
    "\n",
    "#ax.text(0, 30, 'Less\\nregularization', fontsize = 13)\n",
    "#ax.text(12.5, 10, 'More\\nregularization', fontsize = 13)\n",
    "\n",
    "\n",
    "plt.axvline(x=250, linewidth=1, color='k')\n",
    "\n",
    "ax = fig.add_subplot(1, 2, 2)\n",
    "ax.plot(mset, lw = 2.0, ls = '-', color = 'black', label = r'$MSE_{train}$')\n",
    "ax.plot(msed, lw = 2.0, ls = '-', color = 'gray', label = r'$MSE_{dev}$')\n",
    "#ax.plot(lambd_x, mse_dev_y, lw = 2.0, ls = '--', color = 'black', label = 'MSE Dev')\n",
    "ax.set_xlabel(r'Epochs')\n",
    "#ax.set_ylabel(r'Cost functioni $J$')\n",
    "ax.set_ylim(0,50)\n",
    "ax.set_xlim(0,1000)\n",
    "#ax.text(1000, 30, r'$MSE_{train}$', fontsize = 13)\n",
    "\n",
    "\n",
    "#ax.text(0, 30, 'Less\\nregularization', fontsize = 13)\n",
    "#ax.text(12.5, 10, 'More\\nregularization', fontsize = 13)\n",
    "\n",
    "\n",
    "plt.axvline(x=250, linewidth=1, color='k')\n",
    "\n",
    "\n",
    "plt.legend(bbox_to_anchor=(1.05, 1), loc=2, borderaxespad=0.)\n",
    "\n",
    "\n",
    "fig.savefig('Figure_5-14'+'.png', format='png', dpi=300,bbox_inches='tight')"
   ]
  },
  {
   "cell_type": "code",
   "execution_count": null,
   "metadata": {},
   "outputs": [],
   "source": []
  }
 ],
 "metadata": {
  "kernelspec": {
   "display_name": "Python 3",
   "language": "python",
   "name": "python3"
  },
  "language_info": {
   "codemirror_mode": {
    "name": "ipython",
    "version": 3
   },
   "file_extension": ".py",
   "mimetype": "text/x-python",
   "name": "python",
   "nbconvert_exporter": "python",
   "pygments_lexer": "ipython3",
   "version": "3.6.3"
  }
 },
 "nbformat": 4,
 "nbformat_minor": 2
}
