{
 "cells": [
  {
   "cell_type": "markdown",
   "metadata": {},
   "source": [
    "# Neural Networks and Deep Learning for Life Sciences and Health Applications - An introductory course about theoretical fundamentals, case studies and implementations in python and tensorflow"
   ]
  },
  {
   "cell_type": "markdown",
   "metadata": {},
   "source": [
    "(C) Umberto Michelucci 2018 - umberto.michelucci@gmail.com \n",
    "\n",
    "github repository: https://github.com/michelucci/dlcourse2018_students\n",
    "\n",
    "Fall Semester 2018"
   ]
  },
  {
   "cell_type": "markdown",
   "metadata": {},
   "source": [
    "## Helper Functions\n",
    "\n",
    "Here is a quick helper function we will use to compare MSE for training and test dataset, to be able to check overfitting."
   ]
  },
  {
   "cell_type": "code",
   "execution_count": 1,
   "metadata": {},
   "outputs": [],
   "source": [
    "def compare_mse(sess, y_, train_x, test_x, kp):\n",
    "    if (kp < 1):\n",
    "        pred_y = sess.run(y_, feed_dict = {X:test_x, keep_prob:kp})\n",
    "        mse = tf.reduce_mean(tf.square(pred_y - test_y))\n",
    "        print(\"MSE Test: %.4f\" % sess.run(mse))\n",
    "\n",
    "        pred_y = sess.run(y_, feed_dict = {X:train_x, keep_prob:kp})\n",
    "        mse = tf.reduce_mean(tf.square(pred_y - train_y))\n",
    "        print(\"MSE Train: %.4f\" % sess.run(mse))\n",
    "    else:\n",
    "        pred_y = sess.run(y_, feed_dict = {X:test_x})\n",
    "        mse = tf.reduce_mean(tf.square(pred_y - test_y))\n",
    "        print(\"MSE Test: %.4f\" % sess.run(mse))\n",
    "\n",
    "        pred_y = sess.run(y_, feed_dict = {X:train_x})\n",
    "        mse = tf.reduce_mean(tf.square(pred_y - train_y))\n",
    "        print(\"MSE Train: %.4f\" % sess.run(mse))"
   ]
  },
  {
   "cell_type": "markdown",
   "metadata": {},
   "source": [
    "## Libraries"
   ]
  },
  {
   "cell_type": "code",
   "execution_count": 2,
   "metadata": {},
   "outputs": [],
   "source": [
    "import matplotlib.pyplot as plt\n",
    "%matplotlib inline\n",
    "\n",
    "import tensorflow as tf\n",
    "import numpy as np\n",
    "\n",
    "from sklearn.datasets import load_boston\n",
    "import sklearn.linear_model as sk"
   ]
  },
  {
   "cell_type": "markdown",
   "metadata": {},
   "source": [
    "For this demonstration I decided to use the Boston dataset, to have something different than the usual MNIST dataset that everyone is using. Altough I will dedicate a tutorial to that dataset too. First of all let's load the dataset and check it out."
   ]
  },
  {
   "cell_type": "code",
   "execution_count": 3,
   "metadata": {},
   "outputs": [],
   "source": [
    "boston = load_boston()\n",
    "features = np.array(boston.data)\n",
    "labels = np.array(boston.target)"
   ]
  },
  {
   "cell_type": "code",
   "execution_count": 4,
   "metadata": {},
   "outputs": [
    {
     "name": "stdout",
     "output_type": "stream",
     "text": [
      "Boston House Prices dataset\n",
      "===========================\n",
      "\n",
      "Notes\n",
      "------\n",
      "Data Set Characteristics:  \n",
      "\n",
      "    :Number of Instances: 506 \n",
      "\n",
      "    :Number of Attributes: 13 numeric/categorical predictive\n",
      "    \n",
      "    :Median Value (attribute 14) is usually the target\n",
      "\n",
      "    :Attribute Information (in order):\n",
      "        - CRIM     per capita crime rate by town\n",
      "        - ZN       proportion of residential land zoned for lots over 25,000 sq.ft.\n",
      "        - INDUS    proportion of non-retail business acres per town\n",
      "        - CHAS     Charles River dummy variable (= 1 if tract bounds river; 0 otherwise)\n",
      "        - NOX      nitric oxides concentration (parts per 10 million)\n",
      "        - RM       average number of rooms per dwelling\n",
      "        - AGE      proportion of owner-occupied units built prior to 1940\n",
      "        - DIS      weighted distances to five Boston employment centres\n",
      "        - RAD      index of accessibility to radial highways\n",
      "        - TAX      full-value property-tax rate per $10,000\n",
      "        - PTRATIO  pupil-teacher ratio by town\n",
      "        - B        1000(Bk - 0.63)^2 where Bk is the proportion of blacks by town\n",
      "        - LSTAT    % lower status of the population\n",
      "        - MEDV     Median value of owner-occupied homes in $1000's\n",
      "\n",
      "    :Missing Attribute Values: None\n",
      "\n",
      "    :Creator: Harrison, D. and Rubinfeld, D.L.\n",
      "\n",
      "This is a copy of UCI ML housing dataset.\n",
      "http://archive.ics.uci.edu/ml/datasets/Housing\n",
      "\n",
      "\n",
      "This dataset was taken from the StatLib library which is maintained at Carnegie Mellon University.\n",
      "\n",
      "The Boston house-price data of Harrison, D. and Rubinfeld, D.L. 'Hedonic\n",
      "prices and the demand for clean air', J. Environ. Economics & Management,\n",
      "vol.5, 81-102, 1978.   Used in Belsley, Kuh & Welsch, 'Regression diagnostics\n",
      "...', Wiley, 1980.   N.B. Various transformations are used in the table on\n",
      "pages 244-261 of the latter.\n",
      "\n",
      "The Boston house-price data has been used in many machine learning papers that address regression\n",
      "problems.   \n",
      "     \n",
      "**References**\n",
      "\n",
      "   - Belsley, Kuh & Welsch, 'Regression diagnostics: Identifying Influential Data and Sources of Collinearity', Wiley, 1980. 244-261.\n",
      "   - Quinlan,R. (1993). Combining Instance-Based and Model-Based Learning. In Proceedings on the Tenth International Conference of Machine Learning, 236-243, University of Massachusetts, Amherst. Morgan Kaufmann.\n",
      "   - many more! (see http://archive.ics.uci.edu/ml/datasets/Housing)\n",
      "\n"
     ]
    }
   ],
   "source": [
    "print(boston[\"DESCR\"])"
   ]
  },
  {
   "cell_type": "markdown",
   "metadata": {},
   "source": [
    "Usually is better to normalize the different features, since this helps learning. We will do that with this function where we use numpy wonderful vectorized code."
   ]
  },
  {
   "cell_type": "code",
   "execution_count": 5,
   "metadata": {},
   "outputs": [],
   "source": [
    "def normalize(dataset):\n",
    "    mu = np.mean(dataset, axis = 0)\n",
    "    sigma = np.std(dataset, axis = 0)\n",
    "    return (dataset-mu)/sigma"
   ]
  },
  {
   "cell_type": "markdown",
   "metadata": {},
   "source": [
    "Let's get the dimension of the data set now"
   ]
  },
  {
   "cell_type": "code",
   "execution_count": 6,
   "metadata": {},
   "outputs": [
    {
     "name": "stdout",
     "output_type": "stream",
     "text": [
      "The dataset has 506 training samples.\n",
      "The dataset has 13 features.\n"
     ]
    }
   ],
   "source": [
    "n_training_samples = features.shape[0]\n",
    "n_dim = features.shape[1]\n",
    "\n",
    "print('The dataset has',n_training_samples,'training samples.')\n",
    "print('The dataset has',n_dim,'features.')"
   ]
  },
  {
   "cell_type": "markdown",
   "metadata": {},
   "source": [
    "So in the variable ```n_training_samples``` we have the number of different input observations, and in the variable ```n_dim``` we have the number of features (or variables if you like) that we have at our disposal."
   ]
  },
  {
   "cell_type": "code",
   "execution_count": 7,
   "metadata": {},
   "outputs": [],
   "source": [
    "features_norm = normalize(features)"
   ]
  },
  {
   "cell_type": "markdown",
   "metadata": {},
   "source": [
    "Now let's check the dimensions of our dataset and labels."
   ]
  },
  {
   "cell_type": "code",
   "execution_count": 8,
   "metadata": {},
   "outputs": [
    {
     "name": "stdout",
     "output_type": "stream",
     "text": [
      "(506, 13)\n",
      "(506,)\n"
     ]
    }
   ],
   "source": [
    "print(features_norm.shape)\n",
    "print(labels.shape)"
   ]
  },
  {
   "cell_type": "markdown",
   "metadata": {},
   "source": [
    "Let's build a train and a test sets splitting them randomly 80/20. We transposed the matrices since we will use a specific conventions later on when building our neurla networks. It is not a necessary steps if you are consistent when you write your neural networks."
   ]
  },
  {
   "cell_type": "code",
   "execution_count": 9,
   "metadata": {},
   "outputs": [
    {
     "name": "stdout",
     "output_type": "stream",
     "text": [
      "(13, 399)\n",
      "(399,)\n"
     ]
    }
   ],
   "source": [
    "np.random.seed(42)\n",
    "rnd = np.random.rand(len(features_norm)) < 0.8\n",
    "\n",
    "train_x = np.transpose(features_norm[rnd])\n",
    "train_y = np.transpose(labels[rnd])\n",
    "test_x = np.transpose(features_norm[~rnd])\n",
    "test_y = np.transpose(labels[~rnd])\n",
    "\n",
    "print(train_x.shape)\n",
    "print(train_y.shape)"
   ]
  },
  {
   "cell_type": "markdown",
   "metadata": {},
   "source": [
    "Note that in tensorflow we will define the lables (our ```train_y```) as a tensor of dimensions ```(n_training_samples*0.8, 1)``` so we will have to reshape the numpy array that otherwise has dimension ```(n_training_samples*0.8,)```. "
   ]
  },
  {
   "cell_type": "code",
   "execution_count": 10,
   "metadata": {},
   "outputs": [
    {
     "name": "stdout",
     "output_type": "stream",
     "text": [
      "(1, 399)\n",
      "(1, 107)\n"
     ]
    }
   ],
   "source": [
    "train_y = train_y.reshape(1,len(train_y))\n",
    "test_y = test_y.reshape(1,len(test_y))\n",
    "\n",
    "print(train_y.shape)\n",
    "print(test_y.shape)"
   ]
  },
  {
   "cell_type": "markdown",
   "metadata": {},
   "source": [
    "# Linear Regression"
   ]
  },
  {
   "cell_type": "markdown",
   "metadata": {},
   "source": [
    "## Let's start with tensorflow modelling for a linear regression"
   ]
  },
  {
   "cell_type": "markdown",
   "metadata": {},
   "source": [
    "Now keep in mind that is an overkill. We could solve linear regression exactly without the need of using gradient descent or similar optimisation algorithm. But I find it very instructive to see how to build such an easy model with tensorflow. The following diagram explain what kind of neural network we need to perform linear regression. To note is (for those with some more experience with neural networks) that we use one single neuron with an identity activation function. The term $WX+b$ is simply a linear combination of the input plus a constat term (bias) $b$. With $n_x$ we have indicated the number of observations we have at our disposal. $y\\_$ is the predicted output given a certain input vector ${\\bf x} = (x_1, x_2, ... , x_{n_x})$.\n",
    "\n",
    "![](images/linear_model.png)"
   ]
  },
  {
   "cell_type": "markdown",
   "metadata": {},
   "source": [
    "First we define the variables and placeholders we need to build the network above."
   ]
  },
  {
   "cell_type": "code",
   "execution_count": 11,
   "metadata": {},
   "outputs": [],
   "source": [
    "tf.reset_default_graph()\n",
    "\n",
    "X = tf.placeholder(tf.float32, [n_dim, None])\n",
    "Y = tf.placeholder(tf.float32, [1, None])\n",
    "learning_rate = tf.placeholder(tf.float32, shape=())\n",
    "\n",
    "W = tf.Variable(tf.ones([n_dim, 1]))\n",
    "b = tf.Variable(tf.zeros(1))\n",
    "\n",
    "init = tf.global_variables_initializer()"
   ]
  },
  {
   "cell_type": "markdown",
   "metadata": {},
   "source": [
    "Then we actually define the actual computation $WX+b$. Additionally we need to define the cost function $J$ we want to minimize. In case of regression this is simply the MSE. Then we choose which optimisation algorithm we want to use (in this case the gradient descent optimizer)."
   ]
  },
  {
   "cell_type": "code",
   "execution_count": 12,
   "metadata": {},
   "outputs": [],
   "source": [
    "y_ = tf.matmul(tf.transpose(W),X)+b\n",
    "cost = tf.reduce_mean(tf.square(y_-Y))\n",
    "training_step = tf.train.GradientDescentOptimizer(learning_rate).minimize(cost)"
   ]
  },
  {
   "cell_type": "markdown",
   "metadata": {},
   "source": [
    "To facilitate testing of several hyperparameters (in this case just the learning rate) we will define a function that will perform the training itself. To be able to call it with several values of the learning rate and see what happens."
   ]
  },
  {
   "cell_type": "code",
   "execution_count": 13,
   "metadata": {},
   "outputs": [],
   "source": [
    "def run_linear_model(learning_r, training_epochs, train_obs, train_labels, debug = False):\n",
    "    sess = tf.Session()\n",
    "    sess.run(init)\n",
    "    \n",
    "    cost_history = np.empty(shape=[0], dtype = float)\n",
    "\n",
    "    for epoch in range(training_epochs+1):\n",
    "        sess.run(training_step, feed_dict = {X: train_obs, Y: train_labels, learning_rate: learning_r})\n",
    "        cost_ = sess.run(cost, feed_dict={ X:train_obs, Y: train_labels, learning_rate: learning_r})\n",
    "        cost_history = np.append(cost_history, cost_)\n",
    "    \n",
    "        if (epoch % 1000 == 0) & debug:\n",
    "            print(\"Reached epoch\",epoch,\"cost J =\", str.format('{0:.6f}', cost_))\n",
    "            \n",
    "    return sess, cost_history"
   ]
  },
  {
   "cell_type": "code",
   "execution_count": 14,
   "metadata": {},
   "outputs": [
    {
     "name": "stdout",
     "output_type": "stream",
     "text": [
      "Reached epoch 0 cost J = 613.947144\n",
      "Reached epoch 1000 cost J = 22.131165\n",
      "Reached epoch 2000 cost J = 22.081099\n",
      "Reached epoch 3000 cost J = 22.076544\n",
      "Reached epoch 4000 cost J = 22.076109\n",
      "Reached epoch 5000 cost J = 22.076061\n",
      "Reached epoch 6000 cost J = 22.076057\n",
      "Reached epoch 7000 cost J = 22.076059\n",
      "Reached epoch 8000 cost J = 22.076059\n",
      "Reached epoch 9000 cost J = 22.076054\n",
      "Reached epoch 10000 cost J = 22.076054\n"
     ]
    }
   ],
   "source": [
    "sess, cost_history = run_linear_model(learning_r = 0.01, \n",
    "                                training_epochs = 10000, \n",
    "                                train_obs = train_x, \n",
    "                                train_labels = train_y, \n",
    "                                debug = True)"
   ]
  },
  {
   "cell_type": "markdown",
   "metadata": {},
   "source": [
    "## Figure 1-14"
   ]
  },
  {
   "cell_type": "code",
   "execution_count": 15,
   "metadata": {},
   "outputs": [
    {
     "data": {
      "text/plain": [
       "<matplotlib.figure.Figure at 0x1dee2bce5c0>"
      ]
     },
     "metadata": {},
     "output_type": "display_data"
    },
    {
     "data": {
      "image/png": "[encoded data removed]",
      "text/plain": [
       "<matplotlib.figure.Figure at 0x1dee2bce898>"
      ]
     },
     "metadata": {},
     "output_type": "display_data"
    }
   ],
   "source": [
    "plt.rc('font', family='arial')\n",
    "    #plt.rc('font',**{'family':'serif','serif':['Palatino']}) \n",
    "plt.rc('xtick', labelsize='x-small')\n",
    "plt.rc('ytick', labelsize='x-small')\n",
    "    \n",
    "plt.tight_layout()\n",
    "\n",
    "fig = plt.figure(figsize=(3.9, 3.1))\n",
    "ax = fig.add_subplot(1, 1, 1)\n",
    "ax.plot(cost_history, ls='solid', color = 'black')\n",
    "ax.set_xlabel('epochs')\n",
    "ax.set_ylabel('Cost function $J$ (MSE)')\n",
    "plt.xlim(0,500)\n",
    "\n",
    "fig.savefig('Figure_1-14'+'.pdf', format='pdf', dpi=300,bbox_inches='tight')\n",
    "fig.savefig('Figure_1-14'+'.png', format='png', dpi=300,bbox_inches='tight')"
   ]
  },
  {
   "cell_type": "markdown",
   "metadata": {},
   "source": [
    "Let's check the results plotting each observation on a plot where we have on the ```y``` axis the predicted value an on the ```x``` axis the measured value. If the model would get all observations perfectly right all points would be exactly on the diagonal line (that we have marked with a dashed line in the plot). The better the model the more the points aggregrate along the diagonal. The worse the model is the more scattered the points are."
   ]
  },
  {
   "cell_type": "markdown",
   "metadata": {},
   "source": [
    "## Figure 1-15: Predicted vs. measured"
   ]
  },
  {
   "cell_type": "code",
   "execution_count": 16,
   "metadata": {},
   "outputs": [
    {
     "data": {
      "text/plain": [
       "<matplotlib.figure.Figure at 0x1dee4cc0c50>"
      ]
     },
     "metadata": {},
     "output_type": "display_data"
    },
    {
     "data": {
      "image/png": "[encoded data removed]",
      "text/plain": [
       "<matplotlib.figure.Figure at 0x1dee4c99860>"
      ]
     },
     "metadata": {},
     "output_type": "display_data"
    }
   ],
   "source": [
    "pred_y = sess.run(y_, feed_dict = {X: test_x, Y: test_y})\n",
    "mse = tf.reduce_mean(tf.square(pred_y - test_y))\n",
    "\n",
    "plt.rc('font', family='arial')\n",
    "plt.rc('xtick', labelsize='x-small')\n",
    "plt.rc('ytick', labelsize='x-small')\n",
    "    \n",
    "plt.tight_layout()\n",
    "\n",
    "fig = plt.figure(figsize=(3.9, 3.1))\n",
    "ax = fig.add_subplot(1, 1, 1)\n",
    "ax.scatter(test_y, pred_y, lw = 0.3)\n",
    "ax.plot([test_y.min(), test_y.max()], [test_y.min(), test_y.max()], 'k--', lw = 3)\n",
    "ax.set_xlabel('Measured Target Value')\n",
    "ax.set_ylabel('Predicted Target Value')\n",
    "\n",
    "fig.savefig('Figure_1-15'+'.pdf', format='pdf', dpi=300,bbox_inches='tight')\n",
    "fig.savefig('Figure_1-15'+'.png', format='png', dpi=300,bbox_inches='tight')"
   ]
  },
  {
   "cell_type": "markdown",
   "metadata": {},
   "source": [
    "To check for overfitting (in case of linear regression this is an almost useless exercise, but I find it instructive) we need to compare the MSE for the train and test set"
   ]
  },
  {
   "cell_type": "code",
   "execution_count": 17,
   "metadata": {},
   "outputs": [
    {
     "name": "stdout",
     "output_type": "stream",
     "text": [
      "MSE Test: 23.0605\n",
      "MSE Train: 22.0761\n"
     ]
    }
   ],
   "source": [
    "compare_mse(sess, y_, train_x, test_x, 1)"
   ]
  },
  {
   "cell_type": "markdown",
   "metadata": {},
   "source": [
    "The two values are comparable."
   ]
  },
  {
   "cell_type": "code",
   "execution_count": 18,
   "metadata": {},
   "outputs": [],
   "source": [
    "sess.close()"
   ]
  },
  {
   "cell_type": "markdown",
   "metadata": {},
   "source": [
    "## Different learning rates\n",
    "\n",
    "Let's now try different learning rates and see what happens. "
   ]
  },
  {
   "cell_type": "code",
   "execution_count": 19,
   "metadata": {},
   "outputs": [
    {
     "name": "stdout",
     "output_type": "stream",
     "text": [
      "Starting first model\n",
      "Reached epoch 0 cost J = 373.735199\n",
      "Reached epoch 1000 cost J = 22.076057\n",
      "Reached epoch 2000 cost J = 22.076057\n",
      "Reached epoch 3000 cost J = 22.076057\n",
      "Reached epoch 4000 cost J = 22.076057\n",
      "Reached epoch 5000 cost J = 22.076057\n",
      "Reached epoch 6000 cost J = 22.076057\n",
      "Reached epoch 7000 cost J = 22.076057\n",
      "Reached epoch 8000 cost J = 22.076057\n",
      "Reached epoch 9000 cost J = 22.076057\n",
      "Reached epoch 10000 cost J = 22.076057\n",
      "Starting second model\n",
      "Reached epoch 0 cost J = 613.947144\n",
      "Reached epoch 1000 cost J = 22.131165\n",
      "Reached epoch 2000 cost J = 22.081099\n",
      "Reached epoch 3000 cost J = 22.076544\n",
      "Reached epoch 4000 cost J = 22.076109\n",
      "Reached epoch 5000 cost J = 22.076061\n",
      "Reached epoch 6000 cost J = 22.076057\n",
      "Reached epoch 7000 cost J = 22.076059\n",
      "Reached epoch 8000 cost J = 22.076059\n",
      "Reached epoch 9000 cost J = 22.076054\n",
      "Reached epoch 10000 cost J = 22.076054\n",
      "Starting third model\n",
      "Reached epoch 0 cost J = 651.279541\n",
      "Reached epoch 1000 cost J = 34.158741\n",
      "Reached epoch 2000 cost J = 23.443111\n",
      "Reached epoch 3000 cost J = 22.751892\n",
      "Reached epoch 4000 cost J = 22.487667\n",
      "Reached epoch 5000 cost J = 22.343351\n",
      "Reached epoch 6000 cost J = 22.258703\n",
      "Reached epoch 7000 cost J = 22.206200\n",
      "Reached epoch 8000 cost J = 22.171843\n",
      "Reached epoch 9000 cost J = 22.148256\n",
      "Reached epoch 10000 cost J = 22.131390\n"
     ]
    }
   ],
   "source": [
    "print ('Starting first model')\n",
    "sess1, cost_history1 = run_linear_model(learning_r = 0.1, \n",
    "                                training_epochs = 10000, \n",
    "                                train_obs = train_x, \n",
    "                                train_labels = train_y, \n",
    "                                debug = True)\n",
    "\n",
    "print ('Starting second model')\n",
    "sess2, cost_history2 = run_linear_model(learning_r = 0.01, \n",
    "                                training_epochs = 10000, \n",
    "                                train_obs = train_x, \n",
    "                                train_labels = train_y, \n",
    "                                debug = True)\n",
    "\n",
    "print ('Starting third model')\n",
    "sess3, cost_history3 = run_linear_model(learning_r = 0.001, \n",
    "                                training_epochs = 10000, \n",
    "                                train_obs = train_x, \n",
    "                                train_labels = train_y, \n",
    "                                debug = True)"
   ]
  },
  {
   "cell_type": "markdown",
   "metadata": {},
   "source": [
    "## Figure 1-16: different learning rates"
   ]
  },
  {
   "cell_type": "code",
   "execution_count": 20,
   "metadata": {},
   "outputs": [
    {
     "data": {
      "text/plain": [
       "<matplotlib.figure.Figure at 0x1dee5d50c88>"
      ]
     },
     "metadata": {},
     "output_type": "display_data"
    },
    {
     "data": {
      "image/png": "[encoded data removed]",
      "text/plain": [
       "<matplotlib.figure.Figure at 0x1dee5d50c50>"
      ]
     },
     "metadata": {},
     "output_type": "display_data"
    }
   ],
   "source": [
    "plt.rc('font', family='arial')\n",
    "plt.rc('xtick', labelsize='x-small')\n",
    "plt.rc('ytick', labelsize='x-small')\n",
    "    \n",
    "plt.tight_layout()\n",
    "\n",
    "fig = plt.figure(figsize=(3.9, 3.1))\n",
    "ax = fig.add_subplot(1, 1, 1)\n",
    "   #x = np.linspace(1., 8., 30)\n",
    "ax.plot(cost_history1, ls='solid', color = 'black', label='$\\gamma=0.1$')\n",
    "ax.plot(cost_history2, ls='dashed', color = 'black', label='$\\gamma=0.01$')\n",
    "ax.plot(cost_history3, ls='dotted', color = 'black', label='$\\gamma=0.001$')\n",
    "ax.set_xlabel('epochs')\n",
    "ax.set_ylabel('Cost function $J$ (MSE)')\n",
    "plt.xlim(0,400)\n",
    "plt.legend(bbox_to_anchor=(1.05, 1), loc=2, borderaxespad=0.)\n",
    "\n",
    "fig.savefig('Figure_1-16'+'.pdf', format='pdf', dpi=300,bbox_inches='tight')\n",
    "fig.savefig('Figure_1-16'+'.png', format='png', dpi=300,bbox_inches='tight')"
   ]
  },
  {
   "cell_type": "markdown",
   "metadata": {},
   "source": [
    "As expected the higher the learning rate the faster it converges to a low value (the one we expect from the linear model we are using). Note that this is a very trivial model. In real cases what happens is that if the learning rate is too big the model very often will not converge, since it will not be able to converge to a minimum. Several books and blogs discuss this problem at length. \n",
    "\n",
    "What we are doing here is a very basic and trivial hypterparameter tuning. To find out which model (in this case which hyperparameters) are the best for our problem. In this case it seems quite clear that a learning rate of 0.1 seems a good choice. It does not require so many epochs to converge to the minimum value we have."
   ]
  },
  {
   "cell_type": "code",
   "execution_count": 21,
   "metadata": {},
   "outputs": [],
   "source": [
    "sess1.close()\n",
    "sess2.close()\n",
    "sess3.close()"
   ]
  },
  {
   "cell_type": "markdown",
   "metadata": {},
   "source": [
    "Just to compare our results, let's use sklearn library to perform a classical linear regression. It will be useful to see what MSE we can get from a classical/standard linear regression and compare it with what we get with our neural network. \n",
    "\n",
    "**HINT:** the two values should be **very** similar, and they should tend to become the same."
   ]
  },
  {
   "cell_type": "code",
   "execution_count": 22,
   "metadata": {},
   "outputs": [
    {
     "name": "stdout",
     "output_type": "stream",
     "text": [
      "Train MSE= 22.0760561914\n",
      "Test MSE= 23.0604521841\n"
     ]
    },
    {
     "name": "stderr",
     "output_type": "stream",
     "text": [
      "/Users/umberto/tensorflow3/lib/python3.6/site-packages/scipy/linalg/basic.py:1018: RuntimeWarning: internal gelsd driver lwork query error, required iwork dimension not returned. This is likely the result of LAPACK bug 0038, fixed in LAPACK 3.2.2 (released July 21, 2010). Falling back to 'gelss' driver.\n",
      "  warnings.warn(mesg, RuntimeWarning)\n"
     ]
    }
   ],
   "source": [
    "lm = sk.LinearRegression()\n",
    "lm.fit(np.transpose(train_x), np.transpose(train_y))\n",
    "msetest = np.mean((np.transpose(test_y)-lm.predict(np.transpose(test_x)))**2)\n",
    "msetrain = np.mean((np.transpose(train_y)-lm.predict(np.transpose(train_x)))**2)\n",
    "\n",
    "print('Train MSE=',msetrain)\n",
    "print('Test MSE=',msetest)"
   ]
  },
  {
   "cell_type": "markdown",
   "metadata": {},
   "source": [
    "With our Neural network we got 22.076054 a value that is very close to what we see here of 22.076056. What this tells us, is that our neural network got almost the best possible value we can get. Pretty neat!\n",
    "\n",
    "**Note** is important to note that this (the one coming from the linear regression) is the minimum value we can get for the cost function. To do better we need to use a more complex model, a non linear model. To see what we can do let's try to use more complex network architecture, but let's start with something easy. Remember we have only 13 features and (in the training set) roughly 400 observations. So we need to be aware that it will be easy to overfit the training data. This is why is important to have a test dataset at our disposal to check this."
   ]
  }
 ],
 "metadata": {
  "kernelspec": {
   "display_name": "Python 3",
   "language": "python",
   "name": "python3"
  },
  "language_info": {
   "codemirror_mode": {
    "name": "ipython",
    "version": 3
   },
   "file_extension": ".py",
   "mimetype": "text/x-python",
   "name": "python",
   "nbconvert_exporter": "python",
   "pygments_lexer": "ipython3",
   "version": "3.6.3"
  }
 },
 "nbformat": 4,
 "nbformat_minor": 2
}
