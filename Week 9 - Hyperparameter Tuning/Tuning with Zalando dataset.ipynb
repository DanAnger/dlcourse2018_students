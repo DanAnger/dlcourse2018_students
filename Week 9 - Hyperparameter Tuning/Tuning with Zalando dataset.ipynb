{
 "cells": [
  {
   "cell_type": "code",
   "execution_count": 1,
   "metadata": {},
   "outputs": [],
   "source": [
    "import pandas as pd\n",
    "import numpy as np\n",
    "import tensorflow as tf\n",
    "\n",
    "%matplotlib inline\n",
    "\n",
    "import matplotlib\n",
    "import matplotlib.pyplot as plt\n",
    "\n",
    "from random import *"
   ]
  },
  {
   "cell_type": "code",
   "execution_count": 2,
   "metadata": {},
   "outputs": [],
   "source": [
    "def get_label_name(idx):\n",
    "    if (idx == 0):\n",
    "        return '(0) T-shirt/top'\n",
    "    elif (idx == 1):\n",
    "        return '(1) Trouser'\n",
    "    elif (idx == 2):\n",
    "        return '(2) Pullover'\n",
    "    elif (idx == 3):\n",
    "        return '(3) Dress'\n",
    "    elif (idx == 4):\n",
    "        return '(4) Coat'\n",
    "    elif (idx == 5):\n",
    "        return '(5) Sandal'\n",
    "    elif (idx == 6):\n",
    "        return '(6) Shirt'\n",
    "    elif (idx == 7):\n",
    "        return '(7) Sneaker'\n",
    "    elif (idx == 8):\n",
    "        return '(8) Bag'\n",
    "    elif (idx == 9):\n",
    "        return '(9) Ankle boot'"
   ]
  },
  {
   "cell_type": "code",
   "execution_count": 3,
   "metadata": {},
   "outputs": [],
   "source": [
    "data_train = pd.read_csv('fashion-mnist_train.csv', header = 0)\n",
    "data_test = pd.read_csv('fashion-mnist_test.csv', header = 0)"
   ]
  },
  {
   "cell_type": "code",
   "execution_count": 4,
   "metadata": {},
   "outputs": [
    {
     "data": {
      "text/plain": [
       "60000"
      ]
     },
     "execution_count": 4,
     "metadata": {},
     "output_type": "execute_result"
    }
   ],
   "source": [
    "len(data_train)"
   ]
  },
  {
   "cell_type": "code",
   "execution_count": 5,
   "metadata": {},
   "outputs": [
    {
     "data": {
      "text/plain": [
       "(60000, 785)"
      ]
     },
     "execution_count": 5,
     "metadata": {},
     "output_type": "execute_result"
    }
   ],
   "source": [
    "data_train.shape"
   ]
  },
  {
   "cell_type": "code",
   "execution_count": 6,
   "metadata": {},
   "outputs": [],
   "source": [
    "labels = data_train['label'].values.reshape(1, 60000)\n",
    "\n",
    "labels_ = np.zeros((60000, 10))\n",
    "labels_[np.arange(60000), labels] = 1\n",
    "labels_ = labels_.transpose()\n",
    "\n",
    "\n",
    "train = data_train.drop('label', axis=1).transpose()"
   ]
  },
  {
   "cell_type": "code",
   "execution_count": 7,
   "metadata": {},
   "outputs": [
    {
     "name": "stdout",
     "output_type": "stream",
     "text": [
      "(10, 60000)\n",
      "(784, 60000)\n"
     ]
    }
   ],
   "source": [
    "print(labels_.shape)\n",
    "print(train.shape)"
   ]
  },
  {
   "cell_type": "code",
   "execution_count": 8,
   "metadata": {},
   "outputs": [],
   "source": [
    "labels_test = data_test['label'].values.reshape(1, 10000)\n",
    "\n",
    "labels_test_ = np.zeros((10000, 10))\n",
    "labels_test_[np.arange(10000), labels_test] = 1\n",
    "labels_test_ = labels_test_.transpose()\n",
    "\n",
    "\n",
    "test = data_test.drop('label', axis=1).transpose()"
   ]
  },
  {
   "cell_type": "code",
   "execution_count": 9,
   "metadata": {},
   "outputs": [
    {
     "data": {
      "text/plain": [
       "(10, 10000)"
      ]
     },
     "execution_count": 9,
     "metadata": {},
     "output_type": "execute_result"
    }
   ],
   "source": [
    "labels_test_.shape"
   ]
  },
  {
   "cell_type": "code",
   "execution_count": 10,
   "metadata": {},
   "outputs": [],
   "source": [
    "train = np.array(train / 255.0)\n",
    "test = np.array(test / 255.0)\n",
    "labels_ = np.array(labels_)\n",
    "labels_test_ = np.array(labels_test_)"
   ]
  },
  {
   "cell_type": "code",
   "execution_count": 11,
   "metadata": {},
   "outputs": [
    {
     "data": {
      "image/png": "[encoded data removed]",
      "text/plain": [
       "<matplotlib.figure.Figure at 0x1cc4d0a8ba8>"
      ]
     },
     "metadata": {},
     "output_type": "display_data"
    }
   ],
   "source": [
    "idx = 5\n",
    "plt.imshow(train[:,idx].reshape(28,28), cmap = matplotlib.cm.binary, interpolation = \"nearest\")\n",
    "plt.axis(\"on\")\n",
    "plt.title(get_label_name(labels[:,idx]))\n",
    "plt.show()"
   ]
  },
  {
   "cell_type": "markdown",
   "metadata": {},
   "source": [
    "# 1 layer with softmax"
   ]
  },
  {
   "cell_type": "code",
   "execution_count": 42,
   "metadata": {},
   "outputs": [],
   "source": [
    "def build_model_layers(number_neurons):\n",
    "    n_dim = 784\n",
    "    tf.reset_default_graph()\n",
    "\n",
    "    \n",
    "    \n",
    "    # Number of neurons in the layers\n",
    "    n1 = number_neurons # Number of neurons in layer 1\n",
    "    n2 = number_neurons # Number of neurons in layer 2 \n",
    "    n3 = number_neurons\n",
    "    n4 = 10\n",
    "    #n5 = 10 # Neurons for the softmax function\n",
    "\n",
    "    cost_history = np.empty(shape=[0], dtype = float)\n",
    "    learning_rate = tf.placeholder(tf.float32, shape=())\n",
    "\n",
    "    stddev_f = 0.1\n",
    "\n",
    "    tf.set_random_seed(5)\n",
    "\n",
    "    X = tf.placeholder(tf.float32, [n_dim, None])\n",
    "    Y = tf.placeholder(tf.float32, [10, None])\n",
    "    W1 = tf.Variable(tf.random_normal([n1, n_dim], stddev=stddev_f)) \n",
    "    b1 = tf.Variable(tf.constant(0.0, shape = [n1,1]) )\n",
    "    W2 = tf.Variable(tf.random_normal([n2, n1], stddev=stddev_f)) \n",
    "    b2 = tf.Variable(tf.constant(0.0, shape = [n2,1])) \n",
    "    W3 = tf.Variable(tf.random_normal([n3,n2], stddev = stddev_f))\n",
    "    b3 = tf.Variable(tf.constant(0.0, shape = [n3,1]))\n",
    "    W4 = tf.Variable(tf.random_normal([n4,n3], stddev = stddev_f))\n",
    "    b4 = tf.Variable(tf.constant(0.0, shape = [n4,1]))\n",
    "    #W5 = tf.Variable(tf.truncated_normal([n5,n4], stddev = stddev_f))\n",
    "    #b5 = tf.Variable(tf.constant(stddev_f, shape = [n5,1]))\n",
    "\n",
    "    # Let's build our network...\n",
    "    Z1 = tf.nn.relu(tf.matmul(W1, X) + b1) # n1 x n_dim * n_dim x n_obs = n1 x n_obs\n",
    "    Z2 = tf.nn.relu(tf.matmul(W2, Z1) + b2) # n2 x n1 * n1 * n_obs = n2 x n_obs\n",
    "    Z3 = tf.nn.relu(tf.matmul(W3, Z2) + b3)\n",
    "    Z4 = tf.matmul(W4, Z3) + b4\n",
    "    #Z4 = tf.nn.relu(tf.matmul(W4, Z3) + b4)\n",
    "    #Z5 = tf.matmul(W5,Z4) + b5\n",
    "    y_ = tf.nn.softmax(Z4,0) # n2 x n_obs (10 x None)\n",
    "\n",
    "\n",
    "    cost = - tf.reduce_mean(Y * tf.log(y_)+(1-Y) * tf.log(1-y_))\n",
    "    optimizer = tf.train.GradientDescentOptimizer(learning_rate).minimize(cost)\n",
    "\n",
    "    init = tf.global_variables_initializer()\n",
    "    \n",
    "    return optimizer, cost, y_, X, Y, learning_rate"
   ]
  },
  {
   "cell_type": "code",
   "execution_count": 27,
   "metadata": {},
   "outputs": [],
   "source": [
    "def build_model(number_neurons):\n",
    "    n_dim = 784\n",
    "    tf.reset_default_graph()\n",
    "\n",
    "    # Number of neurons in the layers\n",
    "    n1 = number_neurons# Number of neurons in layer 1\n",
    "    n2 = 10 # Number of neurons in output layer \n",
    "\n",
    "    cost_history = np.empty(shape=[1], dtype = float)\n",
    "    learning_rate = tf.placeholder(tf.float32, shape=())\n",
    "\n",
    "    X = tf.placeholder(tf.float32, [n_dim, None])\n",
    "    Y = tf.placeholder(tf.float32, [10, None])\n",
    "    W1 = tf.Variable(tf.truncated_normal([n1, n_dim], stddev=.1)) \n",
    "    b1 = tf.Variable(tf.constant(0.1, shape = [n1,1]) )\n",
    "    W2 = tf.Variable(tf.truncated_normal([n2, n1], stddev=.1)) \n",
    "    b2 = tf.Variable(tf.constant(0.1, shape = [n2,1])) \n",
    "\n",
    "    # Let's build our network...\n",
    "    Z1 = tf.nn.relu(tf.matmul(W1, X) + b1) # n1 x n_dim * n_dim x n_obs = n1 x n_obs\n",
    "    Z2 = tf.matmul(W2, Z1) + b2 # n2 x n1 * n1 * n_obs = n2 x n_obs\n",
    "    y_ = tf.nn.softmax(Z2,0) # n2 x n_obs (10 x None)\n",
    "\n",
    "    cost = - tf.reduce_mean(Y * tf.log(y_)+(1-Y) * tf.log(1-y_))\n",
    "    optimizer = tf.train.GradientDescentOptimizer(learning_rate).minimize(cost)\n",
    "\n",
    "    init = tf.global_variables_initializer()\n",
    "    \n",
    "    return optimizer, cost, y_, X, Y, learning_rate"
   ]
  },
  {
   "cell_type": "code",
   "execution_count": 47,
   "metadata": {},
   "outputs": [],
   "source": [
    "def model_layers(minibatch_size, training_epochs, features, classes, logging_step = 100, \n",
    "                 learning_r = 0.001, number_neurons = 15, debug = False):\n",
    "    \n",
    "    opt, c, y_, X, Y, learning_rate = build_model_layers(number_neurons)\n",
    "    \n",
    "    sess = tf.Session()\n",
    "    sess.run(tf.global_variables_initializer())\n",
    "\n",
    "    cost_history = []\n",
    "    for epoch in range(training_epochs+1):\n",
    "        for i in range(0, features.shape[1], minibatch_size):\n",
    "            X_train_mini = features[:,i:i + minibatch_size]\n",
    "            y_train_mini = classes[:,i:i + minibatch_size]\n",
    "\n",
    "            #if (i % 5000 == 0):\n",
    "            #    print('i = ',i)\n",
    "            \n",
    "            sess.run(opt, feed_dict = {X: X_train_mini, Y: y_train_mini, learning_rate: learning_r})\n",
    "        cost_ = sess.run(c, feed_dict={ X:features, Y: classes, learning_rate: learning_r})\n",
    "        cost_history = np.append(cost_history, cost_)\n",
    "\n",
    "        if ((epoch % logging_step == 0) & debug):\n",
    "                print(\"Reached epoch\",epoch,\"cost J =\", cost_)\n",
    "                \n",
    "    correct_predictions = tf.equal(tf.argmax(y_,0), tf.argmax(Y,0))\n",
    "    accuracy = tf.reduce_mean(tf.cast(correct_predictions, \"float\"))\n",
    "    accuracy_train = accuracy.eval({X: train, Y: labels_, learning_rate: 0.001}, session = sess)\n",
    "    accuracy_test = accuracy.eval({X: test, Y: labels_test_, learning_rate: 0.001}, session = sess)\n",
    "                \n",
    "    return accuracy_train, accuracy_test, sess, cost_history"
   ]
  },
  {
   "cell_type": "code",
   "execution_count": 29,
   "metadata": {},
   "outputs": [],
   "source": [
    "def model(minibatch_size, training_epochs, features, classes, logging_step = 100, learning_r = 0.001, number_neurons = 15):\n",
    "    \n",
    "    opt, c, y_, X, Y, learning_rate = build_model(number_neurons)\n",
    "    \n",
    "    sess = tf.Session()\n",
    "    sess.run(tf.global_variables_initializer())\n",
    "\n",
    "    cost_history = []\n",
    "    for epoch in range(training_epochs+1):\n",
    "        for i in range(0, features.shape[1], minibatch_size):\n",
    "            X_train_mini = features[:,i:i + minibatch_size]\n",
    "            y_train_mini = classes[:,i:i + minibatch_size]\n",
    "\n",
    "            #if (i % 5000 == 0):\n",
    "            #    print('i = ',i)\n",
    "            \n",
    "            sess.run(opt, feed_dict = {X: X_train_mini, Y: y_train_mini, learning_rate: learning_r})\n",
    "        cost_ = sess.run(c, feed_dict={ X:features, Y: classes, learning_rate: learning_r})\n",
    "        cost_history = np.append(cost_history, cost_)\n",
    "\n",
    "        if (epoch % logging_step == 0):\n",
    "                print(\"Reached epoch\",epoch,\"cost J =\", cost_)\n",
    "                \n",
    "    correct_predictions = tf.equal(tf.argmax(y_,0), tf.argmax(Y,0))\n",
    "    accuracy = tf.reduce_mean(tf.cast(correct_predictions, \"float\"))\n",
    "    accuracy_train = accuracy.eval({X: train, Y: labels_, learning_rate: learning_r}, session = sess)\n",
    "    accuracy_test = accuracy.eval({X: test, Y: labels_test_, learning_rate: learning_r}, session = sess)\n",
    "                \n",
    "    return accuracy_train, accuracy_test, sess, cost_history"
   ]
  },
  {
   "cell_type": "code",
   "execution_count": 30,
   "metadata": {},
   "outputs": [
    {
     "name": "stdout",
     "output_type": "stream",
     "text": [
      "Reached epoch 0 cost J = 0.327792\n",
      "Reached epoch 10 cost J = 0.283489\n",
      "Reached epoch 20 cost J = 0.223011\n",
      "Reached epoch 30 cost J = 0.185602\n",
      "Reached epoch 40 cost J = 0.163496\n",
      "Reached epoch 50 cost J = 0.149302\n",
      "Reached epoch 60 cost J = 0.139664\n",
      "Reached epoch 70 cost J = 0.132576\n",
      "Reached epoch 80 cost J = 0.126942\n",
      "Reached epoch 90 cost J = 0.122225\n",
      "Reached epoch 100 cost J = 0.118169\n",
      "0.75755\n",
      "0.754\n"
     ]
    }
   ],
   "source": [
    "%%time_it\n",
    "acc_train, acc_test, sess, cost_history = model(minibatch_size = 50, \n",
    "                              training_epochs = 100, \n",
    "                              features = train, \n",
    "                              classes = labels_, \n",
    "                              logging_step = 10,\n",
    "                              learning_r = 0.001,\n",
    "                              number_neurons = 15)\n",
    "\n",
    "print(acc_train)\n",
    "print(acc_test)"
   ]
  },
  {
   "cell_type": "code",
   "execution_count": 34,
   "metadata": {},
   "outputs": [
    {
     "name": "stdout",
     "output_type": "stream",
     "text": [
      "Reached epoch 0 cost J = 0.325249\n",
      "Reached epoch 50 cost J = 0.292769\n",
      "Number: 1 Acc. Train: 0.201383 Acc. Test 0.2042\n",
      "Reached epoch 0 cost J = 0.323873\n",
      "Reached epoch 50 cost J = 0.165635\n",
      "Number: 5 Acc. Train: 0.639417 Acc. Test 0.6377\n",
      "Reached epoch 0 cost J = 0.325217\n",
      "Reached epoch 50 cost J = 0.162485\n",
      "Number: 10 Acc. Train: 0.639183 Acc. Test 0.6348\n",
      "Reached epoch 0 cost J = 0.326944\n",
      "Reached epoch 50 cost J = 0.145429\n",
      "Number: 15 Acc. Train: 0.687183 Acc. Test 0.6815\n",
      "Reached epoch 0 cost J = 0.322997\n",
      "Reached epoch 50 cost J = 0.141857\n",
      "Number: 25 Acc. Train: 0.690917 Acc. Test 0.6917\n",
      "Reached epoch 0 cost J = 0.323642\n",
      "Reached epoch 50 cost J = 0.139777\n",
      "Number: 30 Acc. Train: 0.6965 Acc. Test 0.6887\n",
      "Reached epoch 0 cost J = 0.314705\n",
      "Reached epoch 50 cost J = 0.126111\n",
      "Number: 50 Acc. Train: 0.73665 Acc. Test 0.7369\n"
     ]
    }
   ],
   "source": [
    "nn = [1,5,10,15,25,30, 50, 150]\n",
    "for nn_ in nn:\n",
    "    acc_train, acc_test, sess, cost_history = model(minibatch_size = 50, \n",
    "                              training_epochs = 50, \n",
    "                              features = train, \n",
    "                              classes = labels_, \n",
    "                              logging_step = 50,\n",
    "                              learning_r = 0.001,\n",
    "                              number_neurons = nn_)\n",
    "    print('Number:',nn_,'Acc. Train:', acc_train, 'Acc. Test', acc_test)"
   ]
  },
  {
   "cell_type": "code",
   "execution_count": 35,
   "metadata": {},
   "outputs": [
    {
     "name": "stdout",
     "output_type": "stream",
     "text": [
      "Reached epoch 0 cost J = 0.305623\n",
      "Reached epoch 50 cost J = 0.109506\n",
      "Number: 150 Acc. Train: 0.78545 Acc. Test 0.7848\n"
     ]
    }
   ],
   "source": [
    "nn = [150]\n",
    "for nn_ in nn:\n",
    "    acc_train, acc_test, sess, cost_history = model(minibatch_size = 50, \n",
    "                              training_epochs = 50, \n",
    "                              features = train, \n",
    "                              classes = labels_, \n",
    "                              logging_step = 50,\n",
    "                              learning_r = 0.001,\n",
    "                              number_neurons = nn_)\n",
    "    print('Number:',nn_,'Acc. Train:', acc_train, 'Acc. Test', acc_test)"
   ]
  },
  {
   "cell_type": "code",
   "execution_count": 37,
   "metadata": {},
   "outputs": [
    {
     "name": "stdout",
     "output_type": "stream",
     "text": [
      "Reached epoch 0 cost J = 0.274023\n",
      "Reached epoch 50 cost J = 0.0997691\n",
      "Number: 300 Acc. Train: 0.806267 Acc. Test 0.8067\n"
     ]
    }
   ],
   "source": [
    "nn = [300]\n",
    "for nn_ in nn:\n",
    "    acc_train, acc_test, sess, cost_history = model(minibatch_size = 50, \n",
    "                              training_epochs = 50, \n",
    "                              features = train, \n",
    "                              classes = labels_, \n",
    "                              logging_step = 50,\n",
    "                              learning_r = 0.001,\n",
    "                              number_neurons = nn_)\n",
    "    print('Number:',nn_,'Acc. Train:', acc_train, 'Acc. Test', acc_test)"
   ]
  },
  {
   "cell_type": "code",
   "execution_count": 38,
   "metadata": {},
   "outputs": [
    {
     "name": "stdout",
     "output_type": "stream",
     "text": [
      "Reached epoch 0 cost J = 0.234059\n",
      "Reached epoch 50 cost J = 0.0857759\n",
      "Number: 1000 Acc. Train: 0.828117 Acc. Test 0.8316\n"
     ]
    }
   ],
   "source": [
    "nn = [1000]\n",
    "for nn_ in nn:\n",
    "    acc_train, acc_test, sess, cost_history = model(minibatch_size = 50, \n",
    "                              training_epochs = 50, \n",
    "                              features = train, \n",
    "                              classes = labels_, \n",
    "                              logging_step = 50,\n",
    "                              learning_r = 0.001,\n",
    "                              number_neurons = nn_)\n",
    "    print('Number:',nn_,'Acc. Train:', acc_train, 'Acc. Test', acc_test)"
   ]
  },
  {
   "cell_type": "code",
   "execution_count": 148,
   "metadata": {},
   "outputs": [
    {
     "name": "stdout",
     "output_type": "stream",
     "text": [
      "Reached epoch 0 cost J = 0.195685\n",
      "Reached epoch 50 cost J = 0.0766994\n",
      "Number: 3000 Acc. Train: 0.8469 Acc. Test 0.8478\n",
      "Wall time: 35min 27s\n"
     ]
    }
   ],
   "source": [
    "%%time\n",
    "nn = [3000]\n",
    "for nn_ in nn:\n",
    "    acc_train, acc_test, sess, cost_history = model(minibatch_size = 50, \n",
    "                              training_epochs = 50, \n",
    "                              features = train, \n",
    "                              classes = labels_, \n",
    "                              logging_step = 50,\n",
    "                              learning_r = 0.001,\n",
    "                              number_neurons = nn_)\n",
    "    print('Number:',nn_,'Acc. Train:', acc_train, 'Acc. Test', acc_test)"
   ]
  },
  {
   "cell_type": "code",
   "execution_count": 145,
   "metadata": {},
   "outputs": [
    {
     "data": {
      "text/plain": [
       "<matplotlib.figure.Figure at 0x1cc192d29b0>"
      ]
     },
     "metadata": {},
     "output_type": "display_data"
    },
    {
     "data": {
      "image/png": "[encoded data removed]",
      "text/plain": [
       "<matplotlib.figure.Figure at 0x1cc192d2c50>"
      ]
     },
     "metadata": {},
     "output_type": "display_data"
    }
   ],
   "source": [
    "plt.rc('font', family='arial')\n",
    "plt.rc('xtick', labelsize='x-small')\n",
    "plt.rc('ytick', labelsize='x-small')\n",
    "    \n",
    "plt.tight_layout()\n",
    "\n",
    "fig = plt.figure(figsize=(3.9, 3.1))\n",
    "ax = fig.add_subplot(1, 1, 1)\n",
    "\n",
    "\n",
    "ax.set_xlabel('Number of neurons in the hidden layer')\n",
    "ax.set_ylabel('Accuracy on the test dataset')\n",
    "plt.plot([1,5,10,15,25,30, 50, 150, 300, 1000, 3000], \n",
    "         [0.2042, 0.6377, 0.6348, 0.6815, 0.6917, 0.6887, 0.7369, 0.7848, 0.8067, 0.8316, 0.8416],\n",
    "        color = 'black')\n",
    "\n",
    "#plt.legend(bbox_to_anchor=(1.05, 1), loc=2, borderaxespad=0.)\n",
    "plt.ylim(0,1)\n",
    "#plt.figure(figsize=(8,6))\n",
    "#plt.title(\"Cost Function vs. epoch number\")\n",
    "#plt.xlabel(\"epochs\")\n",
    "#plt.xlim((0,80))\n",
    "#plt.ylim((0,0.33))\n",
    "#plt.ylabel(\"Cost function $J$\")\n",
    "#plt.plot(range(len(cost_history)), cost_history)\n",
    "\n",
    "plt.xscale('log')\n",
    "fig.savefig('Figure_7-26'+'.png', format='png', dpi=300,bbox_inches='tight')\n"
   ]
  },
  {
   "cell_type": "code",
   "execution_count": 44,
   "metadata": {},
   "outputs": [
    {
     "name": "stdout",
     "output_type": "stream",
     "text": [
      "Reached epoch 0 cost J = 0.325125\n",
      "Reached epoch 50 cost J = 0.325125\n",
      "Number: 1 Acc. Train: 0.1 Acc. Test 0.1\n",
      "Reached epoch 0 cost J = 0.325155\n",
      "Reached epoch 50 cost J = 0.324985\n",
      "Number: 5 Acc. Train: 0.187 Acc. Test 0.19\n",
      "Reached epoch 0 cost J = 0.325125\n",
      "Reached epoch 50 cost J = 0.324584\n",
      "Number: 10 Acc. Train: 0.235317 Acc. Test 0.2403\n",
      "Reached epoch 0 cost J = 0.325325\n",
      "Reached epoch 50 cost J = 0.323418\n",
      "Number: 15 Acc. Train: 0.218983 Acc. Test 0.2157\n",
      "Reached epoch 0 cost J = 0.324865\n",
      "Reached epoch 50 cost J = 0.256246\n",
      "Number: 25 Acc. Train: 0.499867 Acc. Test 0.4958\n",
      "Reached epoch 0 cost J = 0.324831\n",
      "Reached epoch 50 cost J = 0.25852\n",
      "Number: 30 Acc. Train: 0.422367 Acc. Test 0.4173\n",
      "Reached epoch 0 cost J = 0.325196\n",
      "Reached epoch 50 cost J = 0.141386\n",
      "Number: 50 Acc. Train: 0.676683 Acc. Test 0.6797\n"
     ]
    }
   ],
   "source": [
    "nn = [1,5,10,15,25,30, 50]\n",
    "for nn_ in nn:\n",
    "    acc_train, acc_test, sess, cost_history = model_layers(minibatch_size = 50, \n",
    "                              training_epochs = 50, \n",
    "                              features = train, \n",
    "                              classes = labels_, \n",
    "                              logging_step = 50,\n",
    "                              learning_r = 0.001,\n",
    "                              number_neurons = nn_)\n",
    "    print('Number:',nn_,'Acc. Train:', acc_train, 'Acc. Test', acc_test)"
   ]
  },
  {
   "cell_type": "code",
   "execution_count": 83,
   "metadata": {},
   "outputs": [],
   "source": [
    "neurons_ = np.random.randint(low=35, high=60.0, size=(10))\n",
    "\n",
    "#r = - np.arange(0,1,0.05)*4.0\n",
    "r = -np.random.random([10])*4.0\n",
    "\n",
    "learning_ = 10**r"
   ]
  },
  {
   "cell_type": "code",
   "execution_count": 85,
   "metadata": {},
   "outputs": [
    {
     "name": "stdout",
     "output_type": "stream",
     "text": [
      "Number: 52 learning 0.00121597393409 Acc. Train: 0.705 Acc. Test 0.7004\n",
      "Number: 39 learning 0.437125703907 Acc. Train: 0.1 Acc. Test 0.1\n",
      "Number: 49 learning 0.0591695853312 Acc. Train: 0.1 Acc. Test 0.1\n",
      "Number: 47 learning 0.00498280238205 Acc. Train: 0.825017 Acc. Test 0.8243\n",
      "Number: 53 learning 0.0104536544878 Acc. Train: 0.1 Acc. Test 0.1\n",
      "Number: 56 learning 0.0550769654956 Acc. Train: 0.1 Acc. Test 0.1\n",
      "Number: 52 learning 0.000357130373762 Acc. Train: 0.3123 Acc. Test 0.3088\n",
      "Number: 50 learning 0.138565210139 Acc. Train: 0.1 Acc. Test 0.1\n",
      "Number: 48 learning 0.139522070043 Acc. Train: 0.1 Acc. Test 0.1\n",
      "Number: 50 learning 0.214833496372 Acc. Train: 0.1 Acc. Test 0.1\n"
     ]
    }
   ],
   "source": [
    "for i in range(len(neurons_)):\n",
    "    #print('Number:',neurons_[i],'learning', learning_[i])\n",
    "    acc_train, acc_test, sess, cost_history = model_layers(minibatch_size = 50, \n",
    "                              training_epochs = 50, \n",
    "                              features = train, \n",
    "                              classes = labels_, \n",
    "                              logging_step = 50,\n",
    "                              learning_r = learning_[i],\n",
    "                              number_neurons = neurons_[i], debug = False)\n",
    "    print('Number:',neurons_[i],'learning', learning_[i], 'Acc. Train:', acc_train, 'Acc. Test', acc_test)"
   ]
  },
  {
   "cell_type": "code",
   "execution_count": 99,
   "metadata": {},
   "outputs": [],
   "source": [
    "neurons_ = np.random.randint(low=35, high=60.0, size=(5))\n",
    "\n",
    "#r = - np.arange(0,1,0.05)*4.0\n",
    "learning_ = np.random.random([5])*(0.01-0.001)+0.001"
   ]
  },
  {
   "cell_type": "code",
   "execution_count": 100,
   "metadata": {},
   "outputs": [
    {
     "data": {
      "text/plain": [
       "array([ 0.00609832,  0.00820416,  0.00692562,  0.00990794,  0.00249272])"
      ]
     },
     "execution_count": 100,
     "metadata": {},
     "output_type": "execute_result"
    }
   ],
   "source": [
    "learning_"
   ]
  },
  {
   "cell_type": "code",
   "execution_count": 101,
   "metadata": {},
   "outputs": [
    {
     "name": "stdout",
     "output_type": "stream",
     "text": [
      "Number: 51 learning 0.00609831821206 Acc. Train: 0.835267 Acc. Test 0.8334\n",
      "Number: 51 learning 0.00820416458624 Acc. Train: 0.846017 Acc. Test 0.8417\n",
      "Number: 44 learning 0.00692561907161 Acc. Train: 0.83995 Acc. Test 0.8404\n",
      "Number: 43 learning 0.00990793571566 Acc. Train: 0.84755 Acc. Test 0.847\n",
      "Number: 58 learning 0.00249271519461 Acc. Train: 0.791 Acc. Test 0.7879\n"
     ]
    }
   ],
   "source": [
    "for i in range(len(neurons_)):\n",
    "    #print('Number:',neurons_[i],'learning', learning_[i])\n",
    "    acc_train, acc_test, sess, cost_history = model_layers(minibatch_size = 50, \n",
    "                              training_epochs = 50, \n",
    "                              features = train, \n",
    "                              classes = labels_, \n",
    "                              logging_step = 50,\n",
    "                              learning_r = learning_[i],\n",
    "                              number_neurons = neurons_[i], debug = False)\n",
    "    print('Number:',neurons_[i],'learning', learning_[i], 'Acc. Train:', acc_train, 'Acc. Test', acc_test)"
   ]
  },
  {
   "cell_type": "markdown",
   "metadata": {},
   "source": [
    "## Test with mini-batch size"
   ]
  },
  {
   "cell_type": "code",
   "execution_count": 112,
   "metadata": {},
   "outputs": [],
   "source": [
    "neurons_ = np.random.randint(low=35, high=60.0, size=(5))\n",
    "\n",
    "#r = - np.arange(0,1,0.05)*4.0\n",
    "learning_ = np.random.random([5])*(0.01-0.001)+0.001\n",
    "\n",
    "mb_size_ = np.random.randint(low=20, high=80, size = 5)"
   ]
  },
  {
   "cell_type": "code",
   "execution_count": 113,
   "metadata": {},
   "outputs": [
    {
     "data": {
      "text/plain": [
       "array([66, 40, 70, 71, 51])"
      ]
     },
     "execution_count": 113,
     "metadata": {},
     "output_type": "execute_result"
    }
   ],
   "source": [
    "mb_size_"
   ]
  },
  {
   "cell_type": "code",
   "execution_count": 114,
   "metadata": {},
   "outputs": [
    {
     "name": "stdout",
     "output_type": "stream",
     "text": [
      "Number: 36 learning 0.00774286333878 mb size 66 Acc. Train: 0.818267 Acc. Test 0.8151\n",
      "Number: 41 learning 0.0068067093709 mb size 40 Acc. Train: 0.83795 Acc. Test 0.8372\n",
      "Number: 51 learning 0.00756241635423 mb size 70 Acc. Train: 0.82745 Acc. Test 0.8277\n",
      "Number: 57 learning 0.00727651917086 mb size 71 Acc. Train: 0.8307 Acc. Test 0.8278\n",
      "Number: 48 learning 0.0010709564944 mb size 51 Acc. Train: 0.659183 Acc. Test 0.6604\n"
     ]
    }
   ],
   "source": [
    "for i in range(len(neurons_)):\n",
    "    #print('Number:',neurons_[i],'learning', learning_[i])\n",
    "    acc_train, acc_test, sess, cost_history = model_layers(minibatch_size = mb_size_[i], \n",
    "                              training_epochs = 50, \n",
    "                              features = train, \n",
    "                              classes = labels_, \n",
    "                              logging_step = 50,\n",
    "                              learning_r = learning_[i],\n",
    "                              number_neurons = neurons_[i], debug = False)\n",
    "    print('Number:',neurons_[i],'learning', learning_[i], 'mb size',mb_size_[i],\n",
    "          'Acc. Train:', acc_train, 'Acc. Test', acc_test)"
   ]
  },
  {
   "cell_type": "markdown",
   "metadata": {},
   "source": [
    "## Test with mini-batch size complete"
   ]
  },
  {
   "cell_type": "code",
   "execution_count": 115,
   "metadata": {},
   "outputs": [],
   "source": [
    "neurons_ = np.random.randint(low=35, high=60.0, size=(10))\n",
    "\n",
    "#r = - np.arange(0,1,0.05)*4.0\n",
    "r = -np.random.random([10])*3.0-1\n",
    "\n",
    "learning_ = 10**r\n",
    "\n",
    "mb_size_ = np.random.randint(low=20, high=80, size = 10)"
   ]
  },
  {
   "cell_type": "code",
   "execution_count": 116,
   "metadata": {},
   "outputs": [
    {
     "data": {
      "text/plain": [
       "array([ 0.00012797,  0.01948796,  0.00013022,  0.00028204,  0.00414294,\n",
       "        0.0419834 ,  0.01212683,  0.06793482,  0.09984361,  0.0845947 ])"
      ]
     },
     "execution_count": 116,
     "metadata": {},
     "output_type": "execute_result"
    }
   ],
   "source": [
    "learning_"
   ]
  },
  {
   "cell_type": "code",
   "execution_count": 117,
   "metadata": {},
   "outputs": [
    {
     "name": "stdout",
     "output_type": "stream",
     "text": [
      "Number: 59 learning 0.000127972130513 mb size 57 Acc. Train: 0.142983 Acc. Test 0.1432\n",
      "Number: 41 learning 0.0194879551184 mb size 69 Acc. Train: 0.853167 Acc. Test 0.8535\n",
      "Number: 58 learning 0.000130223106061 mb size 65 Acc. Train: 0.16095 Acc. Test 0.1574\n",
      "Number: 58 learning 0.000282041605562 mb size 37 Acc. Train: 0.4727 Acc. Test 0.4735\n",
      "Number: 35 learning 0.00414294465431 mb size 27 Acc. Train: 0.83305 Acc. Test 0.8296\n",
      "Number: 43 learning 0.0419833979363 mb size 24 Acc. Train: 0.1 Acc. Test 0.1\n",
      "Number: 49 learning 0.0121268293662 mb size 46 Acc. Train: 0.858733 Acc. Test 0.8561\n",
      "Number: 36 learning 0.0679348165416 mb size 60 Acc. Train: 0.1 Acc. Test 0.1\n",
      "Number: 53 learning 0.0998436068389 mb size 63 Acc. Train: 0.1 Acc. Test 0.1\n",
      "Number: 58 learning 0.0845946984423 mb size 63 Acc. Train: 0.1 Acc. Test 0.1\n"
     ]
    }
   ],
   "source": [
    "for i in range(len(neurons_)):\n",
    "    #print('Number:',neurons_[i],'learning', learning_[i])\n",
    "    acc_train, acc_test, sess, cost_history = model_layers(minibatch_size = mb_size_[i], \n",
    "                              training_epochs = 50, \n",
    "                              features = train, \n",
    "                              classes = labels_, \n",
    "                              logging_step = 50,\n",
    "                              learning_r = learning_[i],\n",
    "                              number_neurons = neurons_[i], debug = False)\n",
    "    print('Number:',neurons_[i],'learning', learning_[i], 'mb size',mb_size_[i],\n",
    "          'Acc. Train:', acc_train, 'Acc. Test', acc_test)"
   ]
  },
  {
   "cell_type": "code",
   "execution_count": 149,
   "metadata": {},
   "outputs": [],
   "source": [
    "neurons_ = np.random.randint(low=35, high=60.0, size=(10))\n",
    "r = -np.random.random([10])*3.0-1\n",
    "learning_ = 10**r\n",
    "mb_size_ = np.random.randint(low=20, high=80, size = 10)\n",
    "epochs_ = np.random.randint(low = 40, high = 100, size = (10))"
   ]
  },
  {
   "cell_type": "code",
   "execution_count": 122,
   "metadata": {},
   "outputs": [
    {
     "name": "stdout",
     "output_type": "stream",
     "text": [
      "epochs: 95 Number: 41 learning 0.00626467070005 mb size 48 Acc. Train: 0.850817 Acc. Test 0.8506\n",
      "epochs: 48 Number: 46 learning 0.00246417801667 mb size 43 Acc. Train: 0.798333 Acc. Test 0.8002\n",
      "epochs: 41 Number: 41 learning 0.0286441262134 mb size 61 Acc. Train: 0.862917 Acc. Test 0.8604\n",
      "epochs: 41 Number: 58 learning 0.000625828992856 mb size 65 Acc. Train: 0.477483 Acc. Test 0.4787\n",
      "epochs: 73 Number: 48 learning 0.0230103999933 mb size 50 Acc. Train: 0.1 Acc. Test 0.1\n",
      "epochs: 69 Number: 43 learning 0.0942246773651 mb size 74 Acc. Train: 0.1 Acc. Test 0.1\n",
      "epochs: 88 Number: 50 learning 0.0618388683733 mb size 75 Acc. Train: 0.1 Acc. Test 0.1\n",
      "epochs: 73 Number: 48 learning 0.000574365251649 mb size 70 Acc. Train: 0.546767 Acc. Test 0.5463\n",
      "epochs: 62 Number: 59 learning 0.000157271812968 mb size 24 Acc. Train: 0.48665 Acc. Test 0.4855\n",
      "epochs: 58 Number: 44 learning 0.0195280568964 mb size 61 Acc. Train: 0.1 Acc. Test 0.1\n"
     ]
    }
   ],
   "source": [
    "for i in range(len(neurons_)):\n",
    "    #print('Number:',neurons_[i],'learning', learning_[i])\n",
    "    acc_train, acc_test, sess, cost_history = model_layers(minibatch_size = mb_size_[i], \n",
    "                              training_epochs = epochs_[i], \n",
    "                              features = train, \n",
    "                              classes = labels_, \n",
    "                              logging_step = 50,\n",
    "                              learning_r = learning_[i],\n",
    "                              number_neurons = neurons_[i], debug = False)\n",
    "    print('epochs:', epochs_[i], 'Number:',neurons_[i],'learning', learning_[i], 'mb size',mb_size_[i],\n",
    "          'Acc. Train:', acc_train, 'Acc. Test', acc_test"
   ]
  },
  {
   "cell_type": "code",
   "execution_count": 151,
   "metadata": {},
   "outputs": [
    {
     "name": "stdout",
     "output_type": "stream",
     "text": [
      "Wall time: 2min 38s\n"
     ]
    }
   ],
   "source": [
    "%%time\n",
    "acc_train, acc_test, sess, cost_history = model_layers(minibatch_size = mb_size_[2], \n",
    "                              training_epochs = epochs_[2], \n",
    "                              features = train, \n",
    "                              classes = labels_, \n",
    "                              logging_step = 50,\n",
    "                              learning_r = learning_[2],\n",
    "                              number_neurons = neurons_[2], debug = False)"
   ]
  },
  {
   "cell_type": "markdown",
   "metadata": {},
   "source": [
    "# With Adam"
   ]
  },
  {
   "cell_type": "code",
   "execution_count": 123,
   "metadata": {},
   "outputs": [],
   "source": [
    "def build_model_layers(number_neurons):\n",
    "    n_dim = 784\n",
    "    tf.reset_default_graph()\n",
    "\n",
    "    \n",
    "    \n",
    "    # Number of neurons in the layers\n",
    "    n1 = number_neurons # Number of neurons in layer 1\n",
    "    n2 = number_neurons # Number of neurons in layer 2 \n",
    "    n3 = number_neurons\n",
    "    n4 = 10\n",
    "    #n5 = 10 # Neurons for the softmax function\n",
    "\n",
    "    cost_history = np.empty(shape=[0], dtype = float)\n",
    "    learning_rate = tf.placeholder(tf.float32, shape=())\n",
    "\n",
    "    stddev_f = 0.1\n",
    "\n",
    "    tf.set_random_seed(5)\n",
    "\n",
    "    X = tf.placeholder(tf.float32, [n_dim, None])\n",
    "    Y = tf.placeholder(tf.float32, [10, None])\n",
    "    W1 = tf.Variable(tf.random_normal([n1, n_dim], stddev=stddev_f)) \n",
    "    b1 = tf.Variable(tf.constant(0.0, shape = [n1,1]) )\n",
    "    W2 = tf.Variable(tf.random_normal([n2, n1], stddev=stddev_f)) \n",
    "    b2 = tf.Variable(tf.constant(0.0, shape = [n2,1])) \n",
    "    W3 = tf.Variable(tf.random_normal([n3,n2], stddev = stddev_f))\n",
    "    b3 = tf.Variable(tf.constant(0.0, shape = [n3,1]))\n",
    "    W4 = tf.Variable(tf.random_normal([n4,n3], stddev = stddev_f))\n",
    "    b4 = tf.Variable(tf.constant(0.0, shape = [n4,1]))\n",
    "    #W5 = tf.Variable(tf.truncated_normal([n5,n4], stddev = stddev_f))\n",
    "    #b5 = tf.Variable(tf.constant(stddev_f, shape = [n5,1]))\n",
    "\n",
    "    # Let's build our network...\n",
    "    Z1 = tf.nn.relu(tf.matmul(W1, X) + b1) # n1 x n_dim * n_dim x n_obs = n1 x n_obs\n",
    "    Z2 = tf.nn.relu(tf.matmul(W2, Z1) + b2) # n2 x n1 * n1 * n_obs = n2 x n_obs\n",
    "    Z3 = tf.nn.relu(tf.matmul(W3, Z2) + b3)\n",
    "    Z4 = tf.matmul(W4, Z3) + b4\n",
    "    #Z4 = tf.nn.relu(tf.matmul(W4, Z3) + b4)\n",
    "    #Z5 = tf.matmul(W5,Z4) + b5\n",
    "    y_ = tf.nn.softmax(Z4,0) # n2 x n_obs (10 x None)\n",
    "\n",
    "\n",
    "    cost = - tf.reduce_mean(Y * tf.log(y_)+(1-Y) * tf.log(1-y_))\n",
    "    optimizer = optimizer = tf.train.AdamOptimizer(learning_rate = learning_rate, \n",
    "                                                   beta1 = 0.9, beta2 = 0.999, epsilon = 1e-8).minimize(cost)\n",
    "\n",
    "    init = tf.global_variables_initializer()\n",
    "    \n",
    "    return optimizer, cost, y_, X, Y, learning_rate"
   ]
  },
  {
   "cell_type": "code",
   "execution_count": 124,
   "metadata": {},
   "outputs": [],
   "source": [
    "def model_layers(minibatch_size, training_epochs, features, classes, logging_step = 100, \n",
    "                 learning_r = 0.001, number_neurons = 15, debug = False):\n",
    "    \n",
    "    opt, c, y_, X, Y, learning_rate = build_model_layers(number_neurons)\n",
    "    \n",
    "    sess = tf.Session()\n",
    "    sess.run(tf.global_variables_initializer())\n",
    "\n",
    "    cost_history = []\n",
    "    for epoch in range(training_epochs+1):\n",
    "        for i in range(0, features.shape[1], minibatch_size):\n",
    "            X_train_mini = features[:,i:i + minibatch_size]\n",
    "            y_train_mini = classes[:,i:i + minibatch_size]\n",
    "\n",
    "            #if (i % 5000 == 0):\n",
    "            #    print('i = ',i)\n",
    "            \n",
    "            sess.run(opt, feed_dict = {X: X_train_mini, Y: y_train_mini, learning_rate: learning_r})\n",
    "        cost_ = sess.run(c, feed_dict={ X:features, Y: classes, learning_rate: learning_r})\n",
    "        cost_history = np.append(cost_history, cost_)\n",
    "\n",
    "        if ((epoch % logging_step == 0) & debug):\n",
    "                print(\"Reached epoch\",epoch,\"cost J =\", cost_)\n",
    "                \n",
    "    correct_predictions = tf.equal(tf.argmax(y_,0), tf.argmax(Y,0))\n",
    "    accuracy = tf.reduce_mean(tf.cast(correct_predictions, \"float\"))\n",
    "    accuracy_train = accuracy.eval({X: train, Y: labels_, learning_rate: 0.001}, session = sess)\n",
    "    accuracy_test = accuracy.eval({X: test, Y: labels_test_, learning_rate: 0.001}, session = sess)\n",
    "                \n",
    "    return accuracy_train, accuracy_test, sess, cost_history"
   ]
  },
  {
   "cell_type": "code",
   "execution_count": 128,
   "metadata": {},
   "outputs": [
    {
     "name": "stdout",
     "output_type": "stream",
     "text": [
      "Reached epoch 0 cost J = 0.26278\n",
      "Reached epoch 10 cost J = 0.0999409\n",
      "Reached epoch 20 cost J = 0.0861616\n",
      "Reached epoch 30 cost J = 0.0797902\n",
      "Reached epoch 40 cost J = 0.0756751\n",
      "0.84855\n",
      "0.847\n"
     ]
    }
   ],
   "source": [
    "acc_train, acc_test, sess, cost_history = model_layers(minibatch_size = 41, \n",
    "                              training_epochs = 41, \n",
    "                              features = train, \n",
    "                              classes = labels_, \n",
    "                              logging_step = 10,\n",
    "                              learning_r = 1e-5,\n",
    "                              number_neurons = 58, debug = True)\n",
    "print(acc_train)\n",
    "print(acc_test)"
   ]
  },
  {
   "cell_type": "code",
   "execution_count": 140,
   "metadata": {},
   "outputs": [
    {
     "name": "stdout",
     "output_type": "stream",
     "text": [
      "Reached epoch 0 cost J = 0.31244\n",
      "Reached epoch 10 cost J = 0.188521\n",
      "Reached epoch 20 cost J = 0.135262\n",
      "Reached epoch 30 cost J = 0.117864\n",
      "Reached epoch 40 cost J = 0.108305\n",
      "Reached epoch 50 cost J = 0.101986\n",
      "Reached epoch 60 cost J = 0.0974232\n",
      "Reached epoch 70 cost J = 0.0939087\n",
      "Reached epoch 80 cost J = 0.091067\n",
      "Reached epoch 90 cost J = 0.0886948\n",
      "Reached epoch 100 cost J = 0.0866975\n",
      "0.824533\n",
      "0.8244\n"
     ]
    }
   ],
   "source": [
    "acc_train, acc_test, sess, cost_history = model_layers(minibatch_size = 41, \n",
    "                              training_epochs = 100, \n",
    "                              features = train, \n",
    "                              classes = labels_, \n",
    "                              logging_step = 10,\n",
    "                              learning_r = 1e-6,\n",
    "                              number_neurons = 100, debug = True)\n",
    "print(acc_train)\n",
    "print(acc_test)"
   ]
  },
  {
   "cell_type": "code",
   "execution_count": 135,
   "metadata": {},
   "outputs": [],
   "source": [
    "neurons_ = np.random.randint(low=35, high=60.0, size=(20))\n",
    "\n",
    "#r = - np.arange(0,1,0.05)*4.0\n",
    "r = -np.random.random([20])*(6-5)-5\n",
    "\n",
    "learning_ = 10**r\n",
    "\n",
    "mb_size_ = np.random.randint(low=20, high=80, size = 20)\n",
    "\n",
    "epochs_ = np.random.randint(low = 40, high = 100, size = (20))"
   ]
  },
  {
   "cell_type": "code",
   "execution_count": 136,
   "metadata": {},
   "outputs": [
    {
     "name": "stdout",
     "output_type": "stream",
     "text": [
      "epochs: 65 Number: 46 learning 3.75743361986e-06 mb size 20 Acc. Train: 0.838683 Acc. Test 0.8407\n",
      "epochs: 54 Number: 37 learning 7.12390609733e-06 mb size 56 Acc. Train: 0.8246 Acc. Test 0.8241\n",
      "epochs: 42 Number: 37 learning 2.14766290607e-06 mb size 45 Acc. Train: 0.712933 Acc. Test 0.7131\n",
      "epochs: 70 Number: 39 learning 5.59340704666e-06 mb size 76 Acc. Train: 0.814483 Acc. Test 0.8107\n",
      "epochs: 83 Number: 50 learning 8.14470677233e-06 mb size 32 Acc. Train: 0.1 Acc. Test 0.1\n",
      "epochs: 60 Number: 44 learning 3.97668096387e-06 mb size 58 Acc. Train: 0.8123 Acc. Test 0.815\n",
      "epochs: 52 Number: 35 learning 2.11130468914e-06 mb size 78 Acc. Train: 0.691283 Acc. Test 0.6906\n",
      "epochs: 70 Number: 43 learning 4.94147290757e-06 mb size 32 Acc. Train: 0.837283 Acc. Test 0.8374\n",
      "epochs: 70 Number: 44 learning 8.09986058619e-06 mb size 59 Acc. Train: 0.847767 Acc. Test 0.8477\n",
      "epochs: 46 Number: 35 learning 3.28760183015e-06 mb size 37 Acc. Train: 0.779567 Acc. Test 0.777\n",
      "epochs: 51 Number: 46 learning 3.11646009783e-06 mb size 41 Acc. Train: 0.805367 Acc. Test 0.8057\n",
      "epochs: 96 Number: 58 learning 2.05750793342e-06 mb size 49 Acc. Train: 0.820183 Acc. Test 0.8206\n",
      "epochs: 61 Number: 54 learning 1.30537893914e-06 mb size 38 Acc. Train: 0.77015 Acc. Test 0.768\n",
      "epochs: 72 Number: 45 learning 2.88601092474e-06 mb size 52 Acc. Train: 0.8057 Acc. Test 0.8053\n",
      "epochs: 94 Number: 52 learning 5.31016599e-06 mb size 37 Acc. Train: 0.1 Acc. Test 0.1\n",
      "epochs: 84 Number: 54 learning 2.97351049253e-06 mb size 43 Acc. Train: 0.832483 Acc. Test 0.831\n",
      "epochs: 42 Number: 36 learning 8.22904299748e-06 mb size 25 Acc. Train: 0.836567 Acc. Test 0.8364\n",
      "epochs: 70 Number: 50 learning 2.24455609222e-06 mb size 34 Acc. Train: 0.81065 Acc. Test 0.8111\n",
      "epochs: 93 Number: 37 learning 2.90045439769e-06 mb size 28 Acc. Train: 0.82645 Acc. Test 0.8278\n",
      "epochs: 82 Number: 36 learning 6.71104798403e-06 mb size 72 Acc. Train: 0.8331 Acc. Test 0.8329\n"
     ]
    }
   ],
   "source": [
    "for i in range(len(neurons_)):\n",
    "    #print('Number:',neurons_[i],'learning', learning_[i])\n",
    "    acc_train, acc_test, sess, cost_history = model_layers(minibatch_size = mb_size_[i], \n",
    "                              training_epochs = epochs_[i], \n",
    "                              features = train, \n",
    "                              classes = labels_, \n",
    "                              logging_step = 10,\n",
    "                              learning_r = learning_[i],\n",
    "                              number_neurons = neurons_[i], debug = False)\n",
    "    print('epochs:', epochs_[i], 'Number:',neurons_[i],'learning', learning_[i], 'mb size',mb_size_[i],\n",
    "          'Acc. Train:', acc_train, 'Acc. Test', acc_test)"
   ]
  },
  {
   "cell_type": "code",
   "execution_count": null,
   "metadata": {},
   "outputs": [],
   "source": []
  }
 ],
 "metadata": {
  "kernelspec": {
   "display_name": "Python 3",
   "language": "python",
   "name": "python3"
  },
  "language_info": {
   "codemirror_mode": {
    "name": "ipython",
    "version": 3
   },
   "file_extension": ".py",
   "mimetype": "text/x-python",
   "name": "python",
   "nbconvert_exporter": "python",
   "pygments_lexer": "ipython3",
   "version": "3.6.3"
  }
 },
 "nbformat": 4,
 "nbformat_minor": 2
}
