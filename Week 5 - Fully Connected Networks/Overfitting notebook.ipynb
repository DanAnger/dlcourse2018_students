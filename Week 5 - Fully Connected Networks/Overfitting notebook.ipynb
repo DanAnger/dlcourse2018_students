{
 "cells": [
  {
   "cell_type": "code",
   "execution_count": 1,
   "metadata": {},
   "outputs": [],
   "source": [
    "import numpy as np\n",
    "import matplotlib.pyplot as plt\n",
    "import matplotlib\n",
    "\n",
    "from scipy.optimize import curve_fit"
   ]
  },
  {
   "cell_type": "code",
   "execution_count": 2,
   "metadata": {},
   "outputs": [],
   "source": [
    "def func_0(p, a): \n",
    "    return a\n",
    "\n",
    "\n",
    "def func_2(p, a, b, c): \n",
    "    return a+b*p + c*p**2\n",
    "\n",
    "def func_3(p, a, b, c,d): \n",
    "    return a+b*p + c*p**2+d*p**3\n",
    "\n",
    "def func_5(p, a, b, c,d,e,f): \n",
    "    return a+b*p + c*p**2+d*p**3+e*p**4+f*p**5\n",
    "\n",
    "def func_14(p, a,b,c,d,e,f,g,h, i,j,k,l,m,n,o):\n",
    "    return a+b*p + c*p**2+d*p**3+e*p**4 + f*p**5 + g*p**6 + h*p**7+i*p**8 + j*p**9+k*p**10+l*p**11 + m*p**12 + n*p**13 + o*p**14\n",
    "\n",
    "def func_21(p, a,b,c,d,e,f,g,h, i,j,k,l,m,n,o, q, r, s, t, u, v, x):\n",
    "    return a+b*p + c*p**2+d*p**3+e*p**4 + f*p**5 + g*p**6 + h*p**7+i*p**8 + j*p**9+k*p**10+l*p**11 + m*p**12 + n*p**13 + o*p**14+q*p**15+r*p**16+s*p**17+t*p**18+u*p**19+v*p**20+x*p**21\n",
    "        \n",
    "\n",
    "def func_1(p, a, b):\n",
    "    return a+b*p"
   ]
  },
  {
   "cell_type": "code",
   "execution_count": 30,
   "metadata": {},
   "outputs": [],
   "source": [
    "x = np.arange(-5.0, 5.0, 0.1, dtype = np.float64) \n",
    "\n",
    "y = func_2(x, 1,2,3)+18.0*np.random.normal(0, 1, size=len(x))"
   ]
  },
  {
   "cell_type": "code",
   "execution_count": null,
   "metadata": {},
   "outputs": [],
   "source": [
    "popt, pcov = curve_fit(func_2, x, y)"
   ]
  },
  {
   "cell_type": "code",
   "execution_count": null,
   "metadata": {},
   "outputs": [],
   "source": [
    "print(popt)"
   ]
  },
  {
   "cell_type": "code",
   "execution_count": 31,
   "metadata": {},
   "outputs": [
    {
     "data": {
      "text/plain": [
       "Text(0,0.5,'y')"
      ]
     },
     "execution_count": 31,
     "metadata": {},
     "output_type": "execute_result"
    },
    {
     "data": {
      "text/plain": [
       "<matplotlib.figure.Figure at 0x179f5145a20>"
      ]
     },
     "metadata": {},
     "output_type": "display_data"
    },
    {
     "data": {
      "image/png": "[encoded data removed]",
      "text/plain": [
       "<matplotlib.figure.Figure at 0x179f5145d30>"
      ]
     },
     "metadata": {},
     "output_type": "display_data"
    }
   ],
   "source": [
    "plt.rc('font', family='arial')\n",
    "plt.rc('xtick', labelsize='x-small')\n",
    "plt.rc('ytick', labelsize='x-small')\n",
    "    \n",
    "plt.tight_layout()\n",
    "\n",
    "fig = plt.figure(figsize=(3.9, 3.1))\n",
    "ax = fig.add_subplot(1, 1, 1)\n",
    "ax.scatter(x,y, color = 'red')\n",
    "ax.set_xlabel('x')\n",
    "ax.set_ylabel('y')\n",
    "\n",
    "#fig.savefig('Figure_3-4'+'.pdf', format='pdf', dpi=300,bbox_inches='tight')\n",
    "#fig.savefig('Figure_3-4'+'.png', format='png', dpi=300,bbox_inches='tight')"
   ]
  },
  {
   "cell_type": "markdown",
   "metadata": {},
   "source": [
    "# pol 1st order"
   ]
  },
  {
   "cell_type": "code",
   "execution_count": null,
   "metadata": {},
   "outputs": [],
   "source": [
    "popt, pcov = curve_fit(func_1, x, y)\n",
    "print(popt)"
   ]
  },
  {
   "cell_type": "code",
   "execution_count": null,
   "metadata": {},
   "outputs": [],
   "source": [
    "plt.rc('font', family='arial')\n",
    "plt.rc('xtick', labelsize='x-small')\n",
    "plt.rc('ytick', labelsize='x-small')\n",
    "    \n",
    "plt.tight_layout()\n",
    "\n",
    "fig = plt.figure(figsize=(3.9, 3.1))\n",
    "ax = fig.add_subplot(1, 1, 1)\n",
    "ax.scatter(x,y, color = 'red')\n",
    "ax.plot(x, func_1(x, popt[0], popt[1]),  lw=3)\n",
    "ax.set_xlabel('x')\n",
    "ax.set_ylabel('y')\n",
    "\n",
    "fig.savefig('Figure_3-5'+'.pdf', format='pdf', dpi=300,bbox_inches='tight')\n",
    "fig.savefig('Figure_3-5'+'.png', format='png', dpi=300,bbox_inches='tight')"
   ]
  },
  {
   "cell_type": "markdown",
   "metadata": {},
   "source": [
    "# pol 2nd order"
   ]
  },
  {
   "cell_type": "code",
   "execution_count": null,
   "metadata": {},
   "outputs": [],
   "source": [
    "popt, pcov = curve_fit(func_2, x, y)\n",
    "print(popt)"
   ]
  },
  {
   "cell_type": "code",
   "execution_count": null,
   "metadata": {},
   "outputs": [],
   "source": [
    "plt.rc('font', family='arial')\n",
    "plt.rc('xtick', labelsize='x-small')\n",
    "plt.rc('ytick', labelsize='x-small')\n",
    "    \n",
    "plt.tight_layout()\n",
    "\n",
    "fig = plt.figure(figsize=(3.9, 3.1))\n",
    "ax = fig.add_subplot(1, 1, 1)\n",
    "ax.scatter(x,y, color = 'red')\n",
    "ax.plot(x, func_2(x, *popt),  lw=3)\n",
    "#ax.plot(x, func_2(x,1,2,3), lw =3, color = \"black\")\n",
    "ax.set_xlabel('x')\n",
    "ax.set_ylabel('y')\n",
    "\n",
    "fig.savefig('Figure_3-6'+'.pdf', format='pdf', dpi=300,bbox_inches='tight')\n",
    "fig.savefig('Figure_3-6'+'.png', format='png', dpi=300,bbox_inches='tight')"
   ]
  },
  {
   "cell_type": "markdown",
   "metadata": {},
   "source": [
    "# pol 21th order"
   ]
  },
  {
   "cell_type": "code",
   "execution_count": null,
   "metadata": {},
   "outputs": [],
   "source": [
    "popt, pcov = curve_fit(func_21, x, y)\n",
    "print(popt)"
   ]
  },
  {
   "cell_type": "code",
   "execution_count": null,
   "metadata": {},
   "outputs": [],
   "source": [
    "plt.rc('font', family='arial')\n",
    "plt.rc('xtick', labelsize='x-small')\n",
    "plt.rc('ytick', labelsize='x-small')\n",
    "    \n",
    "plt.tight_layout()\n",
    "\n",
    "fig = plt.figure(figsize=(3.9, 3.1))\n",
    "ax = fig.add_subplot(1, 1, 1)\n",
    "ax.scatter(x,y, color = 'red')\n",
    "ax.plot(x, func_21(x, *popt),  lw=3)\n",
    "ax.set_xlabel('x')\n",
    "ax.set_ylabel('y')\n",
    "\n",
    "fig.savefig('Figure_3-7'+'.pdf', format='pdf', dpi=300,bbox_inches='tight')\n",
    "fig.savefig('Figure_3-7'+'.png', format='png', dpi=300,bbox_inches='tight')"
   ]
  },
  {
   "cell_type": "markdown",
   "metadata": {},
   "source": [
    "# Comparison of the blue line"
   ]
  },
  {
   "cell_type": "code",
   "execution_count": null,
   "metadata": {},
   "outputs": [],
   "source": [
    "yy = []\n",
    "poptl = []\n",
    "for i in range (0,10):\n",
    "    np.random.seed(seed = i)\n",
    "    yy.append(func_2(x, 1,2,3)+18.0*np.random.normal(0, 1, size=len(x)))\n",
    "    popt, _ = curve_fit(func_21, x, yy[i])\n",
    "    poptl.append(popt)"
   ]
  },
  {
   "cell_type": "code",
   "execution_count": null,
   "metadata": {},
   "outputs": [],
   "source": [
    "plt.rc('font', family='arial')\n",
    "plt.rc('xtick', labelsize='x-small')\n",
    "plt.rc('ytick', labelsize='x-small')\n",
    "    \n",
    "plt.tight_layout()\n",
    "\n",
    "fig = plt.figure(figsize=(3.9, 3.1))\n",
    "#fig = plt.figure(figsize=(8, 8))\n",
    "ax = fig.add_subplot(1, 1, 1)\n",
    "#ax.scatter(x,y, color = 'red')\n",
    "for i in range(0,10):\n",
    "    ax.plot(x, func_21(x, *poptl[i]),  lw=1, color = \"black\")\n",
    "ax.set_xlabel('x')\n",
    "ax.set_ylabel('y')\n",
    "\n",
    "fig.savefig('Figure_3-8'+'.pdf', format='pdf', dpi=300,bbox_inches='tight')\n",
    "fig.savefig('Figure_3-8'+'.png', format='png', dpi=300,bbox_inches='tight')"
   ]
  },
  {
   "cell_type": "code",
   "execution_count": null,
   "metadata": {},
   "outputs": [],
   "source": [
    "yy = []\n",
    "poptl = []\n",
    "for i in range (0,10):\n",
    "    np.random.seed(seed = i)\n",
    "    yy.append(func_2(x, 1,2,3)+18.0*np.random.normal(0, 1, size=len(x)))\n",
    "    popt, _ = curve_fit(func_1, x, yy[i])\n",
    "    poptl.append(popt)"
   ]
  },
  {
   "cell_type": "code",
   "execution_count": null,
   "metadata": {},
   "outputs": [],
   "source": [
    "plt.rc('font', family='arial')\n",
    "plt.rc('xtick', labelsize='x-small')\n",
    "plt.rc('ytick', labelsize='x-small')\n",
    "    \n",
    "plt.tight_layout()\n",
    "\n",
    "fig = plt.figure(figsize=(3.9, 3.1))\n",
    "#fig = plt.figure(figsize=(8, 8))\n",
    "ax = fig.add_subplot(1, 1, 1)\n",
    "#ax.scatter(x,y, color = 'red')\n",
    "plt.ylim(0,100)\n",
    "for i in range(0,10):\n",
    "    ax.plot(x, func_1(x, *poptl[i]),  lw=1, color = \"black\")\n",
    "ax.set_xlabel('x')\n",
    "ax.set_ylabel('y')\n",
    "\n",
    "fig.savefig('Figure_3-9'+'.pdf', format='pdf', dpi=300,bbox_inches='tight')\n",
    "fig.savefig('Figure_3-9'+'.png', format='png', dpi=300,bbox_inches='tight')"
   ]
  },
  {
   "cell_type": "markdown",
   "metadata": {},
   "source": [
    "# Bias - Variance tradeoff"
   ]
  },
  {
   "cell_type": "code",
   "execution_count": 34,
   "metadata": {},
   "outputs": [],
   "source": [
    "x = np.arange(-5.0, 5.0, 0.25, dtype = np.float64) \n",
    "\n",
    "y = func_5(x, 1,2,3,4,5,6)/1.0+2000.0*np.random.normal(0, 1, size=len(x))\n",
    "ytest = func_5(x, 1,2,3,4,5,6)/1.0+2000.0*np.random.normal(0, 1, size=len(x))"
   ]
  },
  {
   "cell_type": "code",
   "execution_count": 35,
   "metadata": {},
   "outputs": [
    {
     "data": {
      "text/plain": [
       "Text(0,0.5,'y')"
      ]
     },
     "execution_count": 35,
     "metadata": {},
     "output_type": "execute_result"
    },
    {
     "data": {
      "text/plain": [
       "<matplotlib.figure.Figure at 0x179f50b3d30>"
      ]
     },
     "metadata": {},
     "output_type": "display_data"
    },
    {
     "data": {
      "image/png": "[encoded data removed]",
      "text/plain": [
       "<matplotlib.figure.Figure at 0x179f4ff64a8>"
      ]
     },
     "metadata": {},
     "output_type": "display_data"
    }
   ],
   "source": [
    "plt.rc('font', family='arial')\n",
    "plt.rc('xtick', labelsize='x-small')\n",
    "plt.rc('ytick', labelsize='x-small')\n",
    "    \n",
    "plt.tight_layout()\n",
    "\n",
    "fig = plt.figure(figsize=(3.9, 3.1))\n",
    "ax = fig.add_subplot(1, 1, 1)\n",
    "ax.scatter(x[:,],y[:,], color = 'red')\n",
    "ax.scatter(x[:,],ytest[:,], color = 'blue')\n",
    "ax.set_xlabel('x')\n",
    "ax.set_ylabel('y')"
   ]
  },
  {
   "cell_type": "code",
   "execution_count": null,
   "metadata": {
    "scrolled": true
   },
   "outputs": [],
   "source": [
    "\n",
    "kmax = 50\n",
    "bias = np.empty(kmax)\n",
    "\n",
    "def make_func(N):\n",
    "    def func(x, *p): \n",
    "        res = np.zeros(len(x))\n",
    "        for i in range (0,N+1):\n",
    "            res = res + p[i]*x**i\n",
    "        return res\n",
    "    return func\n",
    "\n",
    "for K in range (0,kmax):\n",
    "    #print(K)\n",
    "    popt, _ = curve_fit(make_func(K), x, y, p0=[1.0]*(K+1))\n",
    "    #print(popt)\n",
    "    bias[K] = np.mean((func(x, *popt)-y)**2)"
   ]
  },
  {
   "cell_type": "code",
   "execution_count": null,
   "metadata": {},
   "outputs": [],
   "source": [
    "###### plt.rc('font', family='arial')\n",
    "plt.rc('xtick', labelsize='x-small')\n",
    "plt.rc('ytick', labelsize='x-small')\n",
    "    \n",
    "plt.tight_layout()\n",
    "\n",
    "fig = plt.figure(figsize=(3.9, 3.1))\n",
    "ax = fig.add_subplot(1, 1, 1)\n",
    "ax.scatter(range(0,kmax),bias, color = 'red')\n",
    "ax.set_xlabel('x')\n",
    "ax.set_ylabel('bias$^2$')\n",
    "#plt.xlim(0,28)\n",
    "plt.ylim(-0.1,7)"
   ]
  },
  {
   "cell_type": "markdown",
   "metadata": {},
   "source": [
    "# Neural network for regression"
   ]
  },
  {
   "cell_type": "code",
   "execution_count": 36,
   "metadata": {},
   "outputs": [],
   "source": [
    "import tensorflow as tf"
   ]
  },
  {
   "cell_type": "code",
   "execution_count": 61,
   "metadata": {},
   "outputs": [],
   "source": [
    "xx = x.reshape(1,len(x))\n",
    "yy = y.reshape(1,len(y))/1000.0+20.0\n",
    "yytest = ytest.reshape(1,len(ytest))/1000.0+20.0"
   ]
  },
  {
   "cell_type": "code",
   "execution_count": 90,
   "metadata": {},
   "outputs": [],
   "source": [
    "tf.reset_default_graph()\n",
    "\n",
    "\n",
    "# Number of neurons in the hidden layer\n",
    "n1 = 1500\n",
    "\n",
    "cost_history = np.empty(shape=[1], dtype = float)\n",
    "\n",
    "learning_rate = tf.placeholder(tf.float32, shape=())\n",
    "\n",
    "X = tf.placeholder(tf.float32, [1, None])\n",
    "Y = tf.placeholder(tf.float32, [1, None])\n",
    "W1 = tf.Variable(tf.random_normal([n1, 1], stddev=1))/100.0\n",
    "b1 = tf.Variable(tf.ones([n1,1]))/100.0\n",
    "W2 = tf.Variable(tf.random_normal([1,n1], stddev=1))/100.0\n",
    "b2 = tf.Variable(tf.ones(1))/100.0\n",
    "\n",
    "#init = tf.global_variables_initializer()\n",
    "\n",
    "# Let's build our network...\n",
    "Z1 = tf.nn.relu(tf.matmul(W1,X)+b1)\n",
    "y_ = tf.nn.relu(tf.matmul(W2,Z1)+b2)\n",
    "\n",
    "\n",
    "cost = tf.reduce_mean(tf.square(y_-Y))\n",
    "optimizer = tf.train.AdamOptimizer(learning_rate).minimize(cost)"
   ]
  },
  {
   "cell_type": "code",
   "execution_count": 97,
   "metadata": {},
   "outputs": [
    {
     "name": "stdout",
     "output_type": "stream",
     "text": [
      "Reached epoch 0 cost J = 459.599\n",
      "Reached epoch 1000 cost J = 129.538\n",
      "Reached epoch 2000 cost J = 41.3027\n",
      "Reached epoch 3000 cost J = 25.3122\n",
      "Reached epoch 4000 cost J = 21.5474\n",
      "Reached epoch 5000 cost J = 16.0026\n",
      "Reached epoch 6000 cost J = 14.1535\n",
      "Reached epoch 7000 cost J = 13.344\n",
      "Reached epoch 8000 cost J = 12.9325\n",
      "Reached epoch 9000 cost J = 12.6893\n",
      "Reached epoch 10000 cost J = 12.5025\n",
      "Reached epoch 11000 cost J = 12.2539\n",
      "Reached epoch 12000 cost J = 11.8563\n",
      "Reached epoch 13000 cost J = 11.2406\n",
      "Reached epoch 14000 cost J = 10.6094\n",
      "Reached epoch 15000 cost J = 10.0721\n",
      "Reached epoch 16000 cost J = 9.58296\n",
      "Reached epoch 17000 cost J = 9.21794\n",
      "Reached epoch 18000 cost J = 8.88252\n",
      "Reached epoch 19000 cost J = 8.56687\n",
      "Reached epoch 20000 cost J = 8.3244\n",
      "Reached epoch 21000 cost J = 8.13247\n",
      "Reached epoch 22000 cost J = 7.9606\n",
      "Reached epoch 23000 cost J = 7.82498\n",
      "Reached epoch 24000 cost J = 7.73439\n",
      "Reached epoch 25000 cost J = 7.66031\n",
      "Reached epoch 26000 cost J = 7.60544\n",
      "Reached epoch 27000 cost J = 7.5624\n",
      "Reached epoch 28000 cost J = 7.52115\n",
      "Reached epoch 29000 cost J = 7.24918\n",
      "Reached epoch 30000 cost J = 6.55474\n",
      "Reached epoch 31000 cost J = 5.95688\n",
      "Reached epoch 32000 cost J = 5.39318\n",
      "Reached epoch 33000 cost J = 4.84756\n",
      "Reached epoch 34000 cost J = 4.35135\n",
      "Reached epoch 35000 cost J = 3.92446\n",
      "Reached epoch 36000 cost J = 3.52972\n",
      "Reached epoch 37000 cost J = 3.19226\n",
      "Reached epoch 38000 cost J = 2.8834\n",
      "Reached epoch 39000 cost J = 2.62277\n",
      "Reached epoch 40000 cost J = 2.41734\n",
      "Reached epoch 41000 cost J = 2.29358\n",
      "Reached epoch 42000 cost J = 2.20676\n",
      "Reached epoch 43000 cost J = 2.13222\n",
      "Reached epoch 44000 cost J = 1.9788\n",
      "Reached epoch 45000 cost J = 1.92607\n",
      "Reached epoch 46000 cost J = 1.89812\n",
      "Reached epoch 47000 cost J = 1.87679\n",
      "Reached epoch 48000 cost J = 1.85735\n",
      "Reached epoch 49000 cost J = 1.84254\n",
      "Reached epoch 50000 cost J = 1.83159\n",
      "Reached epoch 51000 cost J = 1.82184\n",
      "Reached epoch 52000 cost J = 1.81281\n",
      "Reached epoch 53000 cost J = 1.80456\n",
      "Reached epoch 54000 cost J = 1.79691\n",
      "Reached epoch 55000 cost J = 1.78966\n",
      "Reached epoch 56000 cost J = 1.78276\n",
      "Reached epoch 57000 cost J = 1.77613\n",
      "Reached epoch 58000 cost J = 1.76975\n",
      "Reached epoch 59000 cost J = 1.76356\n",
      "Reached epoch 60000 cost J = 1.75747\n",
      "Reached epoch 61000 cost J = 1.75146\n",
      "Reached epoch 62000 cost J = 1.74554\n",
      "Reached epoch 63000 cost J = 1.7396\n",
      "Reached epoch 64000 cost J = 1.73367\n",
      "Reached epoch 65000 cost J = 1.72786\n",
      "Reached epoch 66000 cost J = 1.72224\n",
      "Reached epoch 67000 cost J = 1.71676\n",
      "Reached epoch 68000 cost J = 1.71146\n",
      "Reached epoch 69000 cost J = 1.70634\n",
      "Reached epoch 70000 cost J = 1.70136\n",
      "Reached epoch 71000 cost J = 1.69653\n",
      "Reached epoch 72000 cost J = 1.69185\n",
      "Reached epoch 73000 cost J = 1.68731\n",
      "Reached epoch 74000 cost J = 1.68293\n",
      "Reached epoch 75000 cost J = 1.67866\n",
      "Reached epoch 76000 cost J = 1.67453\n",
      "Reached epoch 77000 cost J = 1.67053\n",
      "Reached epoch 78000 cost J = 1.6666\n",
      "Reached epoch 79000 cost J = 1.66284\n",
      "Reached epoch 80000 cost J = 1.65911\n",
      "Reached epoch 81000 cost J = 1.6555\n",
      "Reached epoch 82000 cost J = 1.65198\n",
      "Reached epoch 83000 cost J = 1.64853\n",
      "Reached epoch 84000 cost J = 1.64517\n",
      "Reached epoch 85000 cost J = 1.64186\n",
      "Reached epoch 86000 cost J = 1.63863\n",
      "Reached epoch 87000 cost J = 1.63546\n",
      "Reached epoch 88000 cost J = 1.63233\n",
      "Reached epoch 89000 cost J = 1.62925\n",
      "Reached epoch 90000 cost J = 1.62627\n",
      "Reached epoch 91000 cost J = 1.62336\n",
      "Reached epoch 92000 cost J = 1.62052\n",
      "Reached epoch 93000 cost J = 1.61773\n",
      "Reached epoch 94000 cost J = 1.61502\n",
      "Reached epoch 95000 cost J = 1.61234\n",
      "Reached epoch 96000 cost J = 1.60971\n",
      "Reached epoch 97000 cost J = 1.60714\n",
      "Reached epoch 98000 cost J = 1.60459\n",
      "Reached epoch 99000 cost J = 1.60209\n",
      "Reached epoch 100000 cost J = 1.59961\n"
     ]
    }
   ],
   "source": [
    "\n",
    "sess = tf.Session()\n",
    "sess.run(tf.global_variables_initializer())\n",
    "\n",
    "training_epochs = 100000\n",
    "\n",
    "cost_history = []\n",
    "for epoch in range(training_epochs+1):\n",
    "\n",
    "    sess.run(optimizer, feed_dict = {X: xx, Y: yy, learning_rate: 0.005})\n",
    "    cost_ = sess.run(cost, feed_dict={ X:xx, Y: yy, learning_rate: 0.005})\n",
    "    cost_history = np.append(cost_history, cost_)\n",
    "\n",
    "    if (epoch % 1000 == 0):\n",
    "        print(\"Reached epoch\",epoch,\"cost J =\", cost_)"
   ]
  },
  {
   "cell_type": "code",
   "execution_count": 98,
   "metadata": {},
   "outputs": [
    {
     "data": {
      "text/plain": [
       "[<matplotlib.lines.Line2D at 0x179f7f0a6a0>]"
      ]
     },
     "execution_count": 98,
     "metadata": {},
     "output_type": "execute_result"
    },
    {
     "data": {
      "image/png": "[encoded data removed]",
      "text/plain": [
       "<matplotlib.figure.Figure at 0x179f63515c0>"
      ]
     },
     "metadata": {},
     "output_type": "display_data"
    }
   ],
   "source": [
    "plt.figure(figsize=(8,6))\n",
    "plt.title(\"Cost Function vs. epoch number\")\n",
    "plt.xlabel(\"epochs\")\n",
    "#plt.xlim((0,2000))\n",
    "plt.ylabel(\"Cost function $J$\")\n",
    "plt.plot(range(len(cost_history)), cost_history)"
   ]
  },
  {
   "cell_type": "code",
   "execution_count": 99,
   "metadata": {
    "scrolled": false
   },
   "outputs": [
    {
     "name": "stdout",
     "output_type": "stream",
     "text": [
      "MSE: 1.5996\n"
     ]
    },
    {
     "data": {
      "text/plain": [
       "Text(0,0.5,'y')"
      ]
     },
     "execution_count": 99,
     "metadata": {},
     "output_type": "execute_result"
    },
    {
     "data": {
      "text/plain": [
       "<matplotlib.figure.Figure at 0x179f67292e8>"
      ]
     },
     "metadata": {},
     "output_type": "display_data"
    },
    {
     "data": {
      "image/png": "[encoded data removed]",
      "text/plain": [
       "<matplotlib.figure.Figure at 0x179fa549400>"
      ]
     },
     "metadata": {},
     "output_type": "display_data"
    }
   ],
   "source": [
    "pred_y = sess.run(y_, feed_dict={ X:xx, learning_rate: 0.005})\n",
    "mse = tf.reduce_mean(tf.square(pred_y - yy))\n",
    "print(\"MSE: %.4f\" % sess.run(mse))\n",
    "\n",
    "plt.rc('font', family='arial')\n",
    "plt.rc('xtick', labelsize='x-small')\n",
    "plt.rc('ytick', labelsize='x-small')\n",
    "    \n",
    "plt.tight_layout()\n",
    "\n",
    "#fig = plt.figure(figsize=(3.9, 3.1))\n",
    "fig = plt.figure(figsize=(8, 8))\n",
    "ax = fig.add_subplot(1, 1, 1)\n",
    "ax.scatter(xx[0,:],yy, color = 'red')\n",
    "ax.plot(xx[0,:], pred_y.flatten(),  lw=3)\n",
    "ax.set_xlabel('x')\n",
    "ax.set_ylabel('y')"
   ]
  },
  {
   "cell_type": "code",
   "execution_count": null,
   "metadata": {},
   "outputs": [],
   "source": [
    "sess.close()"
   ]
  },
  {
   "cell_type": "markdown",
   "metadata": {},
   "source": [
    "## MSE test"
   ]
  },
  {
   "cell_type": "code",
   "execution_count": 89,
   "metadata": {},
   "outputs": [
    {
     "name": "stdout",
     "output_type": "stream",
     "text": [
      "MSE: 5.0629\n"
     ]
    }
   ],
   "source": [
    "pred_ytest = sess.run(y_, feed_dict={ X:xx, Y: yytest, learning_rate: 0.005})\n",
    "mse = tf.reduce_mean(tf.square(pred_ytest - yytest))\n",
    "print(\"MSE: %.4f\" % sess.run(mse))"
   ]
  },
  {
   "cell_type": "code",
   "execution_count": null,
   "metadata": {},
   "outputs": [],
   "source": [
    "plt.rc('font', family='arial')\n",
    "plt.rc('xtick', labelsize='x-small')\n",
    "plt.rc('ytick', labelsize='x-small')\n",
    "    \n",
    "plt.tight_layout()\n",
    "\n",
    "#fig = plt.figure(figsize=(3.9, 3.1))\n",
    "fig = plt.figure(figsize=(8, 8))\n",
    "ax = fig.add_subplot(1, 1, 1)\n",
    "ax.scatter(xx,yytest, color = 'red')\n",
    "#ax.scatter(xx,yy,color = 'blue')\n",
    "ax.plot(xx[0,:], pred_ytest.flatten(),  lw=3)\n",
    "ax.set_xlabel('x')\n",
    "ax.set_ylabel('y')"
   ]
  },
  {
   "cell_type": "code",
   "execution_count": null,
   "metadata": {},
   "outputs": [],
   "source": [
    "# 1, 20\n",
    "msex = [1,2, 5,15, 20]\n",
    "mse = [11.1430,5.2292, 0.2437, 0.1799, 0.0358]\n",
    "\n",
    "plt.plot(msex,mse)"
   ]
  },
  {
   "cell_type": "code",
   "execution_count": null,
   "metadata": {},
   "outputs": [],
   "source": []
  }
 ],
 "metadata": {
  "kernelspec": {
   "display_name": "Python 3",
   "language": "python",
   "name": "python3"
  },
  "language_info": {
   "codemirror_mode": {
    "name": "ipython",
    "version": 3
   },
   "file_extension": ".py",
   "mimetype": "text/x-python",
   "name": "python",
   "nbconvert_exporter": "python",
   "pygments_lexer": "ipython3",
   "version": "3.6.3"
  }
 },
 "nbformat": 4,
 "nbformat_minor": 2
}
